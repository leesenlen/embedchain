{
 "cells": [
  {
   "cell_type": "markdown",
   "id": "63ab5e89",
   "metadata": {},
   "source": [
    "## Cookbook for using Azure OpenAI with Embedchain"
   ]
  },
  {
   "cell_type": "markdown",
   "id": "e32a0265",
   "metadata": {},
   "source": [
    "### Step-1: Install embedchain package"
   ]
  },
  {
   "cell_type": "code",
   "execution_count": 1,
   "id": "b80ff15a",
   "metadata": {},
   "outputs": [
    {
     "name": "stdout",
     "output_type": "stream",
     "text": [
      "Requirement already satisfied: embedchain in e:\\project\\ai\\embedchain\\.venv\\lib\\site-packages (0.1.52)\n",
      "Requirement already satisfied: beautifulsoup4<5.0.0,>=4.12.2 in e:\\project\\ai\\embedchain\\.venv\\lib\\site-packages (from embedchain) (4.12.2)\n",
      "Requirement already satisfied: chromadb<0.5.0,>=0.4.17 in e:\\project\\ai\\embedchain\\.venv\\lib\\site-packages (from embedchain) (0.4.17)\n",
      "Requirement already satisfied: gptcache<0.2.0,>=0.1.43 in e:\\project\\ai\\embedchain\\.venv\\lib\\site-packages (from embedchain) (0.1.43)\n",
      "Requirement already satisfied: ipykernel<7.0.0,>=6.27.1 in e:\\project\\ai\\embedchain\\.venv\\lib\\site-packages (from embedchain) (6.27.1)\n",
      "Requirement already satisfied: langchain<0.0.337,>=0.0.336 in e:\\project\\ai\\embedchain\\.venv\\lib\\site-packages (from embedchain) (0.0.336)\n",
      "Requirement already satisfied: openai>=1.1.1 in e:\\project\\ai\\embedchain\\.venv\\lib\\site-packages (from embedchain) (1.1.2)\n",
      "Requirement already satisfied: posthog<4.0.0,>=3.0.2 in e:\\project\\ai\\embedchain\\.venv\\lib\\site-packages (from embedchain) (3.0.2)\n",
      "Requirement already satisfied: pypdf<4.0.0,>=3.11.0 in e:\\project\\ai\\embedchain\\.venv\\lib\\site-packages (from embedchain) (3.16.4)\n",
      "Requirement already satisfied: python-dotenv<2.0.0,>=1.0.0 in e:\\project\\ai\\embedchain\\.venv\\lib\\site-packages (from embedchain) (1.0.0)\n",
      "Requirement already satisfied: rich<14.0.0,>=13.7.0 in e:\\project\\ai\\embedchain\\.venv\\lib\\site-packages (from embedchain) (13.7.0)\n",
      "Requirement already satisfied: schema<0.8.0,>=0.7.5 in e:\\project\\ai\\embedchain\\.venv\\lib\\site-packages (from embedchain) (0.7.5)\n",
      "Requirement already satisfied: tiktoken<0.5.0,>=0.4.0 in e:\\project\\ai\\embedchain\\.venv\\lib\\site-packages (from embedchain) (0.4.0)\n",
      "Requirement already satisfied: soupsieve>1.2 in e:\\project\\ai\\embedchain\\.venv\\lib\\site-packages (from beautifulsoup4<5.0.0,>=4.12.2->embedchain) (2.5)\n",
      "Requirement already satisfied: requests>=2.28 in e:\\project\\ai\\embedchain\\.venv\\lib\\site-packages (from chromadb<0.5.0,>=0.4.17->embedchain) (2.31.0)\n",
      "Requirement already satisfied: pydantic>=1.9 in e:\\project\\ai\\embedchain\\.venv\\lib\\site-packages (from chromadb<0.5.0,>=0.4.17->embedchain) (2.5.3)\n",
      "Requirement already satisfied: chroma-hnswlib==0.7.3 in e:\\project\\ai\\embedchain\\.venv\\lib\\site-packages (from chromadb<0.5.0,>=0.4.17->embedchain) (0.7.3)\n",
      "Requirement already satisfied: fastapi>=0.95.2 in e:\\project\\ai\\embedchain\\.venv\\lib\\site-packages (from chromadb<0.5.0,>=0.4.17->embedchain) (0.103.2)\n",
      "Requirement already satisfied: uvicorn>=0.18.3 in e:\\project\\ai\\embedchain\\.venv\\lib\\site-packages (from uvicorn[standard]>=0.18.3->chromadb<0.5.0,>=0.4.17->embedchain) (0.23.2)\n",
      "Requirement already satisfied: typing-extensions>=4.5.0 in e:\\project\\ai\\embedchain\\.venv\\lib\\site-packages (from chromadb<0.5.0,>=0.4.17->embedchain) (4.8.0)\n",
      "Requirement already satisfied: pulsar-client>=3.1.0 in e:\\project\\ai\\embedchain\\.venv\\lib\\site-packages (from chromadb<0.5.0,>=0.4.17->embedchain) (3.3.0)\n",
      "Requirement already satisfied: onnxruntime>=1.14.1 in e:\\project\\ai\\embedchain\\.venv\\lib\\site-packages (from chromadb<0.5.0,>=0.4.17->embedchain) (1.15.1)\n",
      "Requirement already satisfied: opentelemetry-api>=1.2.0 in e:\\project\\ai\\embedchain\\.venv\\lib\\site-packages (from chromadb<0.5.0,>=0.4.17->embedchain) (1.21.0)\n",
      "Requirement already satisfied: opentelemetry-exporter-otlp-proto-grpc>=1.2.0 in e:\\project\\ai\\embedchain\\.venv\\lib\\site-packages (from chromadb<0.5.0,>=0.4.17->embedchain) (1.21.0)\n",
      "Requirement already satisfied: opentelemetry-sdk>=1.2.0 in e:\\project\\ai\\embedchain\\.venv\\lib\\site-packages (from chromadb<0.5.0,>=0.4.17->embedchain) (1.21.0)\n",
      "Requirement already satisfied: tokenizers>=0.13.2 in e:\\project\\ai\\embedchain\\.venv\\lib\\site-packages (from chromadb<0.5.0,>=0.4.17->embedchain) (0.14.1)\n",
      "Requirement already satisfied: pypika>=0.48.9 in e:\\project\\ai\\embedchain\\.venv\\lib\\site-packages (from chromadb<0.5.0,>=0.4.17->embedchain) (0.48.9)\n",
      "Requirement already satisfied: tqdm>=4.65.0 in e:\\project\\ai\\embedchain\\.venv\\lib\\site-packages (from chromadb<0.5.0,>=0.4.17->embedchain) (4.66.1)\n",
      "Requirement already satisfied: overrides>=7.3.1 in e:\\project\\ai\\embedchain\\.venv\\lib\\site-packages (from chromadb<0.5.0,>=0.4.17->embedchain) (7.4.0)\n",
      "Requirement already satisfied: importlib-resources in e:\\project\\ai\\embedchain\\.venv\\lib\\site-packages (from chromadb<0.5.0,>=0.4.17->embedchain) (6.1.0)\n",
      "Requirement already satisfied: grpcio>=1.58.0 in e:\\project\\ai\\embedchain\\.venv\\lib\\site-packages (from chromadb<0.5.0,>=0.4.17->embedchain) (1.58.0)\n",
      "Requirement already satisfied: bcrypt>=4.0.1 in e:\\project\\ai\\embedchain\\.venv\\lib\\site-packages (from chromadb<0.5.0,>=0.4.17->embedchain) (4.0.1)\n",
      "Requirement already satisfied: typer>=0.9.0 in e:\\project\\ai\\embedchain\\.venv\\lib\\site-packages (from chromadb<0.5.0,>=0.4.17->embedchain) (0.9.0)\n",
      "Requirement already satisfied: kubernetes>=28.1.0 in e:\\project\\ai\\embedchain\\.venv\\lib\\site-packages (from chromadb<0.5.0,>=0.4.17->embedchain) (28.1.0)\n",
      "Requirement already satisfied: tenacity>=8.2.3 in e:\\project\\ai\\embedchain\\.venv\\lib\\site-packages (from chromadb<0.5.0,>=0.4.17->embedchain) (8.2.3)\n",
      "Requirement already satisfied: PyYAML>=6.0.0 in e:\\project\\ai\\embedchain\\.venv\\lib\\site-packages (from chromadb<0.5.0,>=0.4.17->embedchain) (6.0.1)\n",
      "Requirement already satisfied: numpy>=1.22.5 in e:\\project\\ai\\embedchain\\.venv\\lib\\site-packages (from chromadb<0.5.0,>=0.4.17->embedchain) (1.26.1)\n",
      "Requirement already satisfied: cachetools in e:\\project\\ai\\embedchain\\.venv\\lib\\site-packages (from gptcache<0.2.0,>=0.1.43->embedchain) (5.3.1)\n",
      "Requirement already satisfied: comm>=0.1.1 in e:\\project\\ai\\embedchain\\.venv\\lib\\site-packages (from ipykernel<7.0.0,>=6.27.1->embedchain) (0.2.0)\n",
      "Requirement already satisfied: debugpy>=1.6.5 in e:\\project\\ai\\embedchain\\.venv\\lib\\site-packages (from ipykernel<7.0.0,>=6.27.1->embedchain) (1.8.0)\n",
      "Requirement already satisfied: ipython>=7.23.1 in e:\\project\\ai\\embedchain\\.venv\\lib\\site-packages (from ipykernel<7.0.0,>=6.27.1->embedchain) (8.18.1)\n",
      "Requirement already satisfied: jupyter-client>=6.1.12 in e:\\project\\ai\\embedchain\\.venv\\lib\\site-packages (from ipykernel<7.0.0,>=6.27.1->embedchain) (8.6.0)\n",
      "Requirement already satisfied: jupyter-core!=5.0.*,>=4.12 in e:\\project\\ai\\embedchain\\.venv\\lib\\site-packages (from ipykernel<7.0.0,>=6.27.1->embedchain) (5.5.1)\n",
      "Requirement already satisfied: matplotlib-inline>=0.1 in e:\\project\\ai\\embedchain\\.venv\\lib\\site-packages (from ipykernel<7.0.0,>=6.27.1->embedchain) (0.1.6)\n",
      "Requirement already satisfied: nest-asyncio in e:\\project\\ai\\embedchain\\.venv\\lib\\site-packages (from ipykernel<7.0.0,>=6.27.1->embedchain) (1.5.8)\n",
      "Requirement already satisfied: packaging in e:\\project\\ai\\embedchain\\.venv\\lib\\site-packages (from ipykernel<7.0.0,>=6.27.1->embedchain) (23.2)\n",
      "Requirement already satisfied: psutil in e:\\project\\ai\\embedchain\\.venv\\lib\\site-packages (from ipykernel<7.0.0,>=6.27.1->embedchain) (5.9.5)\n",
      "Requirement already satisfied: pyzmq>=20 in e:\\project\\ai\\embedchain\\.venv\\lib\\site-packages (from ipykernel<7.0.0,>=6.27.1->embedchain) (25.1.2)\n",
      "Requirement already satisfied: tornado>=6.1 in e:\\project\\ai\\embedchain\\.venv\\lib\\site-packages (from ipykernel<7.0.0,>=6.27.1->embedchain) (6.4)\n",
      "Requirement already satisfied: traitlets>=5.4.0 in e:\\project\\ai\\embedchain\\.venv\\lib\\site-packages (from ipykernel<7.0.0,>=6.27.1->embedchain) (5.14.0)\n",
      "Requirement already satisfied: SQLAlchemy<3,>=1.4 in e:\\project\\ai\\embedchain\\.venv\\lib\\site-packages (from langchain<0.0.337,>=0.0.336->embedchain) (2.0.22)\n",
      "Requirement already satisfied: aiohttp<4.0.0,>=3.8.3 in e:\\project\\ai\\embedchain\\.venv\\lib\\site-packages (from langchain<0.0.337,>=0.0.336->embedchain) (3.8.6)\n",
      "Requirement already satisfied: anyio<4.0 in e:\\project\\ai\\embedchain\\.venv\\lib\\site-packages (from langchain<0.0.337,>=0.0.336->embedchain) (3.7.1)\n",
      "Requirement already satisfied: dataclasses-json<0.7,>=0.5.7 in e:\\project\\ai\\embedchain\\.venv\\lib\\site-packages (from langchain<0.0.337,>=0.0.336->embedchain) (0.5.9)\n",
      "Requirement already satisfied: jsonpatch<2.0,>=1.33 in e:\\project\\ai\\embedchain\\.venv\\lib\\site-packages (from langchain<0.0.337,>=0.0.336->embedchain) (1.33)\n",
      "Requirement already satisfied: langsmith<0.1.0,>=0.0.63 in e:\\project\\ai\\embedchain\\.venv\\lib\\site-packages (from langchain<0.0.337,>=0.0.336->embedchain) (0.0.65)\n",
      "Requirement already satisfied: distro<2,>=1.7.0 in e:\\project\\ai\\embedchain\\.venv\\lib\\site-packages (from openai>=1.1.1->embedchain) (1.8.0)\n",
      "Requirement already satisfied: httpx<1,>=0.23.0 in e:\\project\\ai\\embedchain\\.venv\\lib\\site-packages (from openai>=1.1.1->embedchain) (0.25.0)\n",
      "Requirement already satisfied: six>=1.5 in e:\\project\\ai\\embedchain\\.venv\\lib\\site-packages (from posthog<4.0.0,>=3.0.2->embedchain) (1.16.0)\n",
      "Requirement already satisfied: monotonic>=1.5 in e:\\project\\ai\\embedchain\\.venv\\lib\\site-packages (from posthog<4.0.0,>=3.0.2->embedchain) (1.6)\n",
      "Requirement already satisfied: backoff>=1.10.0 in e:\\project\\ai\\embedchain\\.venv\\lib\\site-packages (from posthog<4.0.0,>=3.0.2->embedchain) (2.2.1)\n",
      "Requirement already satisfied: python-dateutil>2.1 in e:\\project\\ai\\embedchain\\.venv\\lib\\site-packages (from posthog<4.0.0,>=3.0.2->embedchain) (2.8.2)\n",
      "Requirement already satisfied: markdown-it-py>=2.2.0 in e:\\project\\ai\\embedchain\\.venv\\lib\\site-packages (from rich<14.0.0,>=13.7.0->embedchain) (3.0.0)\n",
      "Requirement already satisfied: pygments<3.0.0,>=2.13.0 in e:\\project\\ai\\embedchain\\.venv\\lib\\site-packages (from rich<14.0.0,>=13.7.0->embedchain) (2.17.2)\n",
      "Requirement already satisfied: contextlib2>=0.5.5 in e:\\project\\ai\\embedchain\\.venv\\lib\\site-packages (from schema<0.8.0,>=0.7.5->embedchain) (21.6.0)\n",
      "Requirement already satisfied: regex>=2022.1.18 in e:\\project\\ai\\embedchain\\.venv\\lib\\site-packages (from tiktoken<0.5.0,>=0.4.0->embedchain) (2023.8.8)\n",
      "Requirement already satisfied: attrs>=17.3.0 in e:\\project\\ai\\embedchain\\.venv\\lib\\site-packages (from aiohttp<4.0.0,>=3.8.3->langchain<0.0.337,>=0.0.336->embedchain) (23.1.0)\n",
      "Requirement already satisfied: charset-normalizer<4.0,>=2.0 in e:\\project\\ai\\embedchain\\.venv\\lib\\site-packages (from aiohttp<4.0.0,>=3.8.3->langchain<0.0.337,>=0.0.336->embedchain) (3.3.0)\n",
      "Requirement already satisfied: multidict<7.0,>=4.5 in e:\\project\\ai\\embedchain\\.venv\\lib\\site-packages (from aiohttp<4.0.0,>=3.8.3->langchain<0.0.337,>=0.0.336->embedchain) (6.0.4)\n",
      "Requirement already satisfied: async-timeout<5.0,>=4.0.0a3 in e:\\project\\ai\\embedchain\\.venv\\lib\\site-packages (from aiohttp<4.0.0,>=3.8.3->langchain<0.0.337,>=0.0.336->embedchain) (4.0.3)\n",
      "Requirement already satisfied: yarl<2.0,>=1.0 in e:\\project\\ai\\embedchain\\.venv\\lib\\site-packages (from aiohttp<4.0.0,>=3.8.3->langchain<0.0.337,>=0.0.336->embedchain) (1.9.2)\n",
      "Requirement already satisfied: frozenlist>=1.1.1 in e:\\project\\ai\\embedchain\\.venv\\lib\\site-packages (from aiohttp<4.0.0,>=3.8.3->langchain<0.0.337,>=0.0.336->embedchain) (1.4.0)\n",
      "Requirement already satisfied: aiosignal>=1.1.2 in e:\\project\\ai\\embedchain\\.venv\\lib\\site-packages (from aiohttp<4.0.0,>=3.8.3->langchain<0.0.337,>=0.0.336->embedchain) (1.3.1)\n",
      "Requirement already satisfied: idna>=2.8 in e:\\project\\ai\\embedchain\\.venv\\lib\\site-packages (from anyio<4.0->langchain<0.0.337,>=0.0.336->embedchain) (3.4)\n",
      "Requirement already satisfied: sniffio>=1.1 in e:\\project\\ai\\embedchain\\.venv\\lib\\site-packages (from anyio<4.0->langchain<0.0.337,>=0.0.336->embedchain) (1.3.0)\n",
      "Requirement already satisfied: marshmallow<4.0.0,>=3.3.0 in e:\\project\\ai\\embedchain\\.venv\\lib\\site-packages (from dataclasses-json<0.7,>=0.5.7->langchain<0.0.337,>=0.0.336->embedchain) (3.20.1)\n",
      "Requirement already satisfied: marshmallow-enum<2.0.0,>=1.5.1 in e:\\project\\ai\\embedchain\\.venv\\lib\\site-packages (from dataclasses-json<0.7,>=0.5.7->langchain<0.0.337,>=0.0.336->embedchain) (1.5.1)\n",
      "Requirement already satisfied: typing-inspect>=0.4.0 in e:\\project\\ai\\embedchain\\.venv\\lib\\site-packages (from dataclasses-json<0.7,>=0.5.7->langchain<0.0.337,>=0.0.336->embedchain) (0.9.0)\n",
      "Requirement already satisfied: starlette<0.28.0,>=0.27.0 in e:\\project\\ai\\embedchain\\.venv\\lib\\site-packages (from fastapi>=0.95.2->chromadb<0.5.0,>=0.4.17->embedchain) (0.27.0)\n",
      "Requirement already satisfied: certifi in e:\\project\\ai\\embedchain\\.venv\\lib\\site-packages (from httpx<1,>=0.23.0->openai>=1.1.1->embedchain) (2023.7.22)\n",
      "Requirement already satisfied: httpcore<0.19.0,>=0.18.0 in e:\\project\\ai\\embedchain\\.venv\\lib\\site-packages (from httpx<1,>=0.23.0->openai>=1.1.1->embedchain) (0.18.0)\n",
      "Requirement already satisfied: decorator in e:\\project\\ai\\embedchain\\.venv\\lib\\site-packages (from ipython>=7.23.1->ipykernel<7.0.0,>=6.27.1->embedchain) (5.1.1)\n",
      "Requirement already satisfied: jedi>=0.16 in e:\\project\\ai\\embedchain\\.venv\\lib\\site-packages (from ipython>=7.23.1->ipykernel<7.0.0,>=6.27.1->embedchain) (0.19.1)\n",
      "Requirement already satisfied: prompt-toolkit<3.1.0,>=3.0.41 in e:\\project\\ai\\embedchain\\.venv\\lib\\site-packages (from ipython>=7.23.1->ipykernel<7.0.0,>=6.27.1->embedchain) (3.0.43)\n",
      "Requirement already satisfied: stack-data in e:\\project\\ai\\embedchain\\.venv\\lib\\site-packages (from ipython>=7.23.1->ipykernel<7.0.0,>=6.27.1->embedchain) (0.6.3)\n",
      "Requirement already satisfied: colorama in e:\\project\\ai\\embedchain\\.venv\\lib\\site-packages (from ipython>=7.23.1->ipykernel<7.0.0,>=6.27.1->embedchain) (0.4.6)\n",
      "Requirement already satisfied: jsonpointer>=1.9 in e:\\project\\ai\\embedchain\\.venv\\lib\\site-packages (from jsonpatch<2.0,>=1.33->langchain<0.0.337,>=0.0.336->embedchain) (2.4)\n",
      "Requirement already satisfied: platformdirs>=2.5 in e:\\project\\ai\\embedchain\\.venv\\lib\\site-packages (from jupyter-core!=5.0.*,>=4.12->ipykernel<7.0.0,>=6.27.1->embedchain) (3.11.0)\n",
      "Requirement already satisfied: pywin32>=300 in e:\\project\\ai\\embedchain\\.venv\\lib\\site-packages (from jupyter-core!=5.0.*,>=4.12->ipykernel<7.0.0,>=6.27.1->embedchain) (306)\n",
      "Requirement already satisfied: google-auth>=1.0.1 in e:\\project\\ai\\embedchain\\.venv\\lib\\site-packages (from kubernetes>=28.1.0->chromadb<0.5.0,>=0.4.17->embedchain) (2.25.2)\n",
      "Requirement already satisfied: websocket-client!=0.40.0,!=0.41.*,!=0.42.*,>=0.32.0 in e:\\project\\ai\\embedchain\\.venv\\lib\\site-packages (from kubernetes>=28.1.0->chromadb<0.5.0,>=0.4.17->embedchain) (1.6.4)\n",
      "Requirement already satisfied: requests-oauthlib in e:\\project\\ai\\embedchain\\.venv\\lib\\site-packages (from kubernetes>=28.1.0->chromadb<0.5.0,>=0.4.17->embedchain) (1.3.1)\n",
      "Requirement already satisfied: oauthlib>=3.2.2 in e:\\project\\ai\\embedchain\\.venv\\lib\\site-packages (from kubernetes>=28.1.0->chromadb<0.5.0,>=0.4.17->embedchain) (3.2.2)\n",
      "Requirement already satisfied: urllib3<2.0,>=1.24.2 in e:\\project\\ai\\embedchain\\.venv\\lib\\site-packages (from kubernetes>=28.1.0->chromadb<0.5.0,>=0.4.17->embedchain) (1.26.17)\n",
      "Requirement already satisfied: mdurl~=0.1 in e:\\project\\ai\\embedchain\\.venv\\lib\\site-packages (from markdown-it-py>=2.2.0->rich<14.0.0,>=13.7.0->embedchain) (0.1.2)\n",
      "Requirement already satisfied: coloredlogs in e:\\project\\ai\\embedchain\\.venv\\lib\\site-packages (from onnxruntime>=1.14.1->chromadb<0.5.0,>=0.4.17->embedchain) (15.0.1)\n",
      "Requirement already satisfied: flatbuffers in e:\\project\\ai\\embedchain\\.venv\\lib\\site-packages (from onnxruntime>=1.14.1->chromadb<0.5.0,>=0.4.17->embedchain) (23.5.26)\n",
      "Requirement already satisfied: protobuf in e:\\project\\ai\\embedchain\\.venv\\lib\\site-packages (from onnxruntime>=1.14.1->chromadb<0.5.0,>=0.4.17->embedchain) (4.21.12)\n",
      "Requirement already satisfied: sympy in e:\\project\\ai\\embedchain\\.venv\\lib\\site-packages (from onnxruntime>=1.14.1->chromadb<0.5.0,>=0.4.17->embedchain) (1.12)\n",
      "Requirement already satisfied: deprecated>=1.2.6 in e:\\project\\ai\\embedchain\\.venv\\lib\\site-packages (from opentelemetry-api>=1.2.0->chromadb<0.5.0,>=0.4.17->embedchain) (1.2.14)\n",
      "Requirement already satisfied: importlib-metadata<7.0,>=6.0 in e:\\project\\ai\\embedchain\\.venv\\lib\\site-packages (from opentelemetry-api>=1.2.0->chromadb<0.5.0,>=0.4.17->embedchain) (6.8.0)\n",
      "Requirement already satisfied: googleapis-common-protos~=1.52 in e:\\project\\ai\\embedchain\\.venv\\lib\\site-packages (from opentelemetry-exporter-otlp-proto-grpc>=1.2.0->chromadb<0.5.0,>=0.4.17->embedchain) (1.61.0)\n",
      "Requirement already satisfied: opentelemetry-exporter-otlp-proto-common==1.21.0 in e:\\project\\ai\\embedchain\\.venv\\lib\\site-packages (from opentelemetry-exporter-otlp-proto-grpc>=1.2.0->chromadb<0.5.0,>=0.4.17->embedchain) (1.21.0)\n",
      "Requirement already satisfied: opentelemetry-proto==1.21.0 in e:\\project\\ai\\embedchain\\.venv\\lib\\site-packages (from opentelemetry-exporter-otlp-proto-grpc>=1.2.0->chromadb<0.5.0,>=0.4.17->embedchain) (1.21.0)\n",
      "Requirement already satisfied: opentelemetry-semantic-conventions==0.42b0 in e:\\project\\ai\\embedchain\\.venv\\lib\\site-packages (from opentelemetry-sdk>=1.2.0->chromadb<0.5.0,>=0.4.17->embedchain) (0.42b0)\n",
      "Requirement already satisfied: annotated-types>=0.4.0 in e:\\project\\ai\\embedchain\\.venv\\lib\\site-packages (from pydantic>=1.9->chromadb<0.5.0,>=0.4.17->embedchain) (0.6.0)\n",
      "Requirement already satisfied: pydantic-core==2.14.6 in e:\\project\\ai\\embedchain\\.venv\\lib\\site-packages (from pydantic>=1.9->chromadb<0.5.0,>=0.4.17->embedchain) (2.14.6)\n",
      "Requirement already satisfied: greenlet!=0.4.17 in e:\\project\\ai\\embedchain\\.venv\\lib\\site-packages (from SQLAlchemy<3,>=1.4->langchain<0.0.337,>=0.0.336->embedchain) (3.0.0)\n",
      "Requirement already satisfied: huggingface_hub<0.18,>=0.16.4 in e:\\project\\ai\\embedchain\\.venv\\lib\\site-packages (from tokenizers>=0.13.2->chromadb<0.5.0,>=0.4.17->embedchain) (0.17.3)\n",
      "Requirement already satisfied: click<9.0.0,>=7.1.1 in e:\\project\\ai\\embedchain\\.venv\\lib\\site-packages (from typer>=0.9.0->chromadb<0.5.0,>=0.4.17->embedchain) (8.1.7)\n",
      "Requirement already satisfied: h11>=0.8 in e:\\project\\ai\\embedchain\\.venv\\lib\\site-packages (from uvicorn>=0.18.3->uvicorn[standard]>=0.18.3->chromadb<0.5.0,>=0.4.17->embedchain) (0.14.0)\n",
      "Requirement already satisfied: httptools>=0.5.0 in e:\\project\\ai\\embedchain\\.venv\\lib\\site-packages (from uvicorn[standard]>=0.18.3->chromadb<0.5.0,>=0.4.17->embedchain) (0.6.0)\n",
      "Requirement already satisfied: watchfiles>=0.13 in e:\\project\\ai\\embedchain\\.venv\\lib\\site-packages (from uvicorn[standard]>=0.18.3->chromadb<0.5.0,>=0.4.17->embedchain) (0.21.0)\n",
      "Requirement already satisfied: websockets>=10.4 in e:\\project\\ai\\embedchain\\.venv\\lib\\site-packages (from uvicorn[standard]>=0.18.3->chromadb<0.5.0,>=0.4.17->embedchain) (11.0.3)\n",
      "Requirement already satisfied: wrapt<2,>=1.10 in e:\\project\\ai\\embedchain\\.venv\\lib\\site-packages (from deprecated>=1.2.6->opentelemetry-api>=1.2.0->chromadb<0.5.0,>=0.4.17->embedchain) (1.15.0)\n",
      "Requirement already satisfied: pyasn1-modules>=0.2.1 in e:\\project\\ai\\embedchain\\.venv\\lib\\site-packages (from google-auth>=1.0.1->kubernetes>=28.1.0->chromadb<0.5.0,>=0.4.17->embedchain) (0.3.0)\n",
      "Requirement already satisfied: rsa<5,>=3.1.4 in e:\\project\\ai\\embedchain\\.venv\\lib\\site-packages (from google-auth>=1.0.1->kubernetes>=28.1.0->chromadb<0.5.0,>=0.4.17->embedchain) (4.9)\n",
      "Requirement already satisfied: filelock in e:\\project\\ai\\embedchain\\.venv\\lib\\site-packages (from huggingface_hub<0.18,>=0.16.4->tokenizers>=0.13.2->chromadb<0.5.0,>=0.4.17->embedchain) (3.12.4)\n",
      "Requirement already satisfied: fsspec in e:\\project\\ai\\embedchain\\.venv\\lib\\site-packages (from huggingface_hub<0.18,>=0.16.4->tokenizers>=0.13.2->chromadb<0.5.0,>=0.4.17->embedchain) (2023.9.2)\n",
      "Requirement already satisfied: zipp>=0.5 in e:\\project\\ai\\embedchain\\.venv\\lib\\site-packages (from importlib-metadata<7.0,>=6.0->opentelemetry-api>=1.2.0->chromadb<0.5.0,>=0.4.17->embedchain) (3.17.0)\n",
      "Requirement already satisfied: parso<0.9.0,>=0.8.3 in e:\\project\\ai\\embedchain\\.venv\\lib\\site-packages (from jedi>=0.16->ipython>=7.23.1->ipykernel<7.0.0,>=6.27.1->embedchain) (0.8.3)\n",
      "Requirement already satisfied: wcwidth in e:\\project\\ai\\embedchain\\.venv\\lib\\site-packages (from prompt-toolkit<3.1.0,>=3.0.41->ipython>=7.23.1->ipykernel<7.0.0,>=6.27.1->embedchain) (0.2.8)\n",
      "Requirement already satisfied: mypy-extensions>=0.3.0 in e:\\project\\ai\\embedchain\\.venv\\lib\\site-packages (from typing-inspect>=0.4.0->dataclasses-json<0.7,>=0.5.7->langchain<0.0.337,>=0.0.336->embedchain) (1.0.0)\n",
      "Requirement already satisfied: humanfriendly>=9.1 in e:\\project\\ai\\embedchain\\.venv\\lib\\site-packages (from coloredlogs->onnxruntime>=1.14.1->chromadb<0.5.0,>=0.4.17->embedchain) (10.0)\n",
      "Requirement already satisfied: executing>=1.2.0 in e:\\project\\ai\\embedchain\\.venv\\lib\\site-packages (from stack-data->ipython>=7.23.1->ipykernel<7.0.0,>=6.27.1->embedchain) (2.0.1)\n",
      "Requirement already satisfied: asttokens>=2.1.0 in e:\\project\\ai\\embedchain\\.venv\\lib\\site-packages (from stack-data->ipython>=7.23.1->ipykernel<7.0.0,>=6.27.1->embedchain) (2.4.1)\n",
      "Requirement already satisfied: pure-eval in e:\\project\\ai\\embedchain\\.venv\\lib\\site-packages (from stack-data->ipython>=7.23.1->ipykernel<7.0.0,>=6.27.1->embedchain) (0.2.2)\n",
      "Requirement already satisfied: mpmath>=0.19 in e:\\project\\ai\\embedchain\\.venv\\lib\\site-packages (from sympy->onnxruntime>=1.14.1->chromadb<0.5.0,>=0.4.17->embedchain) (1.3.0)\n",
      "Requirement already satisfied: pyreadline3 in e:\\project\\ai\\embedchain\\.venv\\lib\\site-packages (from humanfriendly>=9.1->coloredlogs->onnxruntime>=1.14.1->chromadb<0.5.0,>=0.4.17->embedchain) (3.4.1)\n",
      "Requirement already satisfied: pyasn1<0.6.0,>=0.4.6 in e:\\project\\ai\\embedchain\\.venv\\lib\\site-packages (from pyasn1-modules>=0.2.1->google-auth>=1.0.1->kubernetes>=28.1.0->chromadb<0.5.0,>=0.4.17->embedchain) (0.5.0)\n"
     ]
    },
    {
     "name": "stderr",
     "output_type": "stream",
     "text": [
      "\n",
      "[notice] A new release of pip is available: 23.3.1 -> 23.3.2\n",
      "[notice] To update, run: python.exe -m pip install --upgrade pip\n"
     ]
    }
   ],
   "source": [
    "!pip install embedchain"
   ]
  },
  {
   "cell_type": "markdown",
   "id": "ac982a56",
   "metadata": {},
   "source": [
    "### Step-2: Set Azure OpenAI related environment variables\n",
    "\n",
    "You can find these env variables on your Azure OpenAI dashboard."
   ]
  },
  {
   "cell_type": "code",
   "execution_count": 2,
   "id": "e0a36133",
   "metadata": {},
   "outputs": [],
   "source": [
    "import os\n",
    "from embedchain import App\n",
    "\n",
    "os.environ[\"OPENAI_API_TYPE\"] = \"azure\"\n",
    "os.environ[\"OPENAI_API_BASE\"] = \"https://openai-sailvan-eastus2-proxy.valsun.cn/openai\"\n",
    "os.environ[\"OPENAI_API_KEY\"] = \"b0fc062d729a4b66af7edd12cab4636f\"\n",
    "os.environ[\"OPENAI_API_VERSION\"] = \"2023-05-15\""
   ]
  },
  {
   "cell_type": "markdown",
   "id": "7d7b554e",
   "metadata": {},
   "source": [
    "### Step-3: Define your llm and embedding model config"
   ]
  },
  {
   "cell_type": "code",
   "execution_count": 3,
   "id": "b9f52fc5",
   "metadata": {},
   "outputs": [],
   "source": [
    "config = \"\"\"\n",
    "llm:\n",
    "  provider: azure_openai\n",
    "  config:\n",
    "    model: gpt-35-turbo-0613\n",
    "    deployment_name: gpt-35-turbo-0613\n",
    "    temperature: 0.5\n",
    "    max_tokens: 1000\n",
    "    top_p: 1\n",
    "    stream: false\n",
    "\n",
    "embedder:\n",
    "  provider: azure_openai\n",
    "  config:\n",
    "    model: text-embedding-ada-002\n",
    "    deployment_name: text-embedding-ada-002\n",
    "\n",
    "vectordb:\n",
    "  provider: elasticsearch\n",
    "  config:\n",
    "    collection_name: 'sailvan_vector_db'\n",
    "    es_url: http://10.199.1.77:9200\n",
    "    basic_auth:\n",
    "      - elastic\n",
    "      - SOLxtbk=mNnpFTaj4SOV\n",
    "    verify_certs: false\n",
    "\"\"\"\n",
    "\n",
    "# Write the multi-line string to a YAML file\n",
    "with open('azure_openai.yaml', 'w') as file:\n",
    "    file.write(config)"
   ]
  },
  {
   "cell_type": "markdown",
   "id": "98a11130",
   "metadata": {},
   "source": [
    "### Step-4 Create embedchain app based on the config"
   ]
  },
  {
   "cell_type": "code",
   "execution_count": 4,
   "id": "1ee9bdd9",
   "metadata": {},
   "outputs": [
    {
     "name": "stderr",
     "output_type": "stream",
     "text": [
      "e:\\Project\\AI\\embedchain\\.venv\\Lib\\site-packages\\langchain\\embeddings\\azure_openai.py:108: UserWarning: As of openai>=1.0.0, if `deployment` (or alias `azure_deployment`) is specified then `openai_api_base` (or alias `base_url`) should not be. Instead use `deployment` (or alias `azure_deployment`) and `azure_endpoint`.\n",
      "  warnings.warn(\n",
      "e:\\Project\\AI\\embedchain\\.venv\\Lib\\site-packages\\langchain\\embeddings\\azure_openai.py:116: UserWarning: As of openai>=1.0.0, if `openai_api_base` (or alias `base_url`) is specified it is expected to be of the form https://example-resource.azure.openai.com/openai/deployments/example-deployment. Updating https://openai-sailvan-eastus2-proxy.valsun.cn/openai to https://openai-sailvan-eastus2-proxy.valsun.cn/openai.\n",
      "  warnings.warn(\n"
     ]
    }
   ],
   "source": [
    "app = App.from_config(config_path=\"azure_openai.yaml\")"
   ]
  },
  {
   "cell_type": "markdown",
   "id": "554dc97b",
   "metadata": {},
   "source": [
    "### Step-5: Add data sources to your app"
   ]
  },
  {
   "cell_type": "code",
   "execution_count": 5,
   "id": "686ae765",
   "metadata": {},
   "outputs": [],
   "source": [
    "#app.add(\"https://baike.baidu.com/item/%E8%B5%9B%E7%BB%B4%E6%97%B6%E4%BB%A3%E7%A7%91%E6%8A%80%E8%82%A1%E4%BB%BD%E6%9C%89%E9%99%90%E5%85%AC%E5%8F%B8/51194114?fr=ge_ala\", metadata={\"catalog\": \"company\", \"dataset\": \"sailvan\"})\n",
    "\n",
    "\n",
    "#app.add(\"https://www.forbes.com/profile/elon-musk\")"
   ]
  },
  {
   "cell_type": "markdown",
   "id": "ccc7d421",
   "metadata": {},
   "source": [
    "### Step-6: All set. Now start asking questions related to your data"
   ]
  },
  {
   "cell_type": "code",
   "execution_count": 6,
   "id": "27868a7d",
   "metadata": {},
   "outputs": [
    {
     "name": "stderr",
     "output_type": "stream",
     "text": [
      "e:\\Project\\AI\\embedchain\\.venv\\Lib\\site-packages\\langchain\\chat_models\\azure_openai.py:162: UserWarning: As of openai>=1.0.0, if `deployment_name` (or alias `azure_deployment`) is specified then `openai_api_base` (or alias `base_url`) should not be. Instead use `deployment_name` (or alias `azure_deployment`) and `azure_endpoint`.\n",
      "  warnings.warn(\n",
      "e:\\Project\\AI\\embedchain\\.venv\\Lib\\site-packages\\langchain\\chat_models\\azure_openai.py:170: UserWarning: As of openai>=1.0.0, if `openai_api_base` (or alias `base_url`) is specified it is expected to be of the form https://example-resource.azure.openai.com/openai/deployments/example-deployment. Updating https://openai-sailvan-eastus2-proxy.valsun.cn/openai to https://openai-sailvan-eastus2-proxy.valsun.cn/openai.\n",
      "  warnings.warn(\n"
     ]
    },
    {
     "name": "stdout",
     "output_type": "stream",
     "text": [
      "我不知道赛维的高管有哪些。\n"
     ]
    }
   ],
   "source": [
    "print(app.query(\"赛维的高管有哪些？\"))\n",
    "# while(True):\n",
    "#     question = input(\"Enter question: \")\n",
    "#     if question in ['q', 'exit', 'quit']:\n",
    "#         break\n",
    "#     answer = app.query(question)\n",
    "#     print(answer)"
   ]
  }
 ],
 "metadata": {
  "kernelspec": {
   "display_name": "Python 3 (ipykernel)",
   "language": "python",
   "name": "python3"
  },
  "language_info": {
   "codemirror_mode": {
    "name": "ipython",
    "version": 3
   },
   "file_extension": ".py",
   "mimetype": "text/x-python",
   "name": "python",
   "nbconvert_exporter": "python",
   "pygments_lexer": "ipython3",
   "version": "3.11.5"
  }
 },
 "nbformat": 4,
 "nbformat_minor": 5
}
