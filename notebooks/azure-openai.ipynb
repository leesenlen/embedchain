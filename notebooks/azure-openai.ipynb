{
 "cells": [
  {
   "cell_type": "markdown",
   "id": "63ab5e89",
   "metadata": {},
   "source": [
    "## Cookbook for using Azure OpenAI with Embedchain"
   ]
  },
  {
   "cell_type": "markdown",
   "id": "e32a0265",
   "metadata": {},
   "source": [
    "### Step-1: Install embedchain package"
   ]
  },
  {
   "cell_type": "code",
   "execution_count": 22,
   "id": "b80ff15a",
   "metadata": {},
   "outputs": [],
   "source": [
    "#!pip install embedchain[dataloaders]"
   ]
  },
  {
   "cell_type": "markdown",
   "id": "ac982a56",
   "metadata": {},
   "source": [
    "### Step-2: Set Azure OpenAI related environment variables\n",
    "\n",
    "You can find these env variables on your Azure OpenAI dashboard."
   ]
  },
  {
   "cell_type": "code",
   "execution_count": 23,
   "id": "e0a36133",
   "metadata": {},
   "outputs": [],
   "source": [
    "import os\n",
    "from embedchain import Pipeline as App\n",
    "\n",
    "os.environ[\"OPENAI_API_TYPE\"] = \"azure\"\n",
    "os.environ[\"OPENAI_API_BASE\"] = \"https://openai-sailvan-eastus2-proxy.valsun.cn/openai\"\n",
    "os.environ[\"OPENAI_API_KEY\"] = \"b0fc062d729a4b66af7edd12cab4636f\"\n",
    "os.environ[\"OPENAI_API_VERSION\"] = \"2023-05-15\""
   ]
  },
  {
   "cell_type": "markdown",
   "id": "7d7b554e",
   "metadata": {},
   "source": [
    "### Step-3: Define your llm and embedding model config"
   ]
  },
  {
   "cell_type": "code",
   "execution_count": 24,
   "id": "b9f52fc5",
   "metadata": {},
   "outputs": [],
   "source": [
    "config = \"\"\"\n",
    "llm:\n",
    "  provider: azure_openai\n",
    "  config:\n",
    "    model: gpt-35-turbo-0613\n",
    "    deployment_name: gpt-35-turbo-0613\n",
    "    temperature: 0.5\n",
    "    max_tokens: 1000\n",
    "    top_p: 1\n",
    "    stream: false\n",
    "\n",
    "embedder:\n",
    "  provider: azure_openai\n",
    "  config:\n",
    "    model: text-embedding-ada-002\n",
    "    deployment_name: text-embedding-ada-002\n",
    "\n",
    "vectordb:\n",
    "  provider: elasticsearch\n",
    "  config:\n",
    "    collection_name: 'sailvan_vector_db'\n",
    "    es_url: http://10.199.1.77:9200\n",
    "    basic_auth:\n",
    "      - elastic\n",
    "      - SOLxtbk=mNnpFTaj4SOV\n",
    "    verify_certs: false\n",
    "\"\"\"\n",
    "\n",
    "# Write the multi-line string to a YAML file\n",
    "with open('azure_openai.yaml', 'w') as file:\n",
    "    file.write(config)"
   ]
  },
  {
   "cell_type": "markdown",
   "id": "98a11130",
   "metadata": {},
   "source": [
    "### Step-4 Create embedchain app based on the config"
   ]
  },
  {
   "cell_type": "code",
   "execution_count": 25,
   "id": "1ee9bdd9",
   "metadata": {},
   "outputs": [
    {
     "name": "stderr",
     "output_type": "stream",
     "text": [
      "e:\\Project\\AI\\embedchain\\.embedchain_env\\Lib\\site-packages\\langchain\\embeddings\\azure_openai.py:108: UserWarning: As of openai>=1.0.0, if `deployment` (or alias `azure_deployment`) is specified then `openai_api_base` (or alias `base_url`) should not be. Instead use `deployment` (or alias `azure_deployment`) and `azure_endpoint`.\n",
      "  warnings.warn(\n",
      "e:\\Project\\AI\\embedchain\\.embedchain_env\\Lib\\site-packages\\langchain\\embeddings\\azure_openai.py:116: UserWarning: As of openai>=1.0.0, if `openai_api_base` (or alias `base_url`) is specified it is expected to be of the form https://example-resource.azure.openai.com/openai/deployments/example-deployment. Updating https://openai-sailvan-eastus2-proxy.valsun.cn/openai to https://openai-sailvan-eastus2-proxy.valsun.cn/openai.\n",
      "  warnings.warn(\n"
     ]
    },
    {
     "name": "stdout",
     "output_type": "stream",
     "text": [
      "Creating index sailvan_vector_db_1536 {'mappings': {'properties': {'text': {'type': 'text'}, 'embeddings': {'type': 'dense_vector', 'index': False, 'dims': 1536}}}}\n"
     ]
    }
   ],
   "source": [
    "app = App.from_config(config_path=\"azure_openai.yaml\")"
   ]
  },
  {
   "cell_type": "markdown",
   "id": "554dc97b",
   "metadata": {},
   "source": [
    "### Step-5: Add data sources to your app"
   ]
  },
  {
   "cell_type": "code",
   "execution_count": 33,
   "id": "686ae765",
   "metadata": {},
   "outputs": [
    {
     "name": "stderr",
     "output_type": "stream",
     "text": [
      "Inserting batches in elasticsearch: 100%|██████████| 1/1 [00:00<00:00, 45.73batch/s]"
     ]
    },
    {
     "name": "stdout",
     "output_type": "stream",
     "text": [
      "Successfully saved https://baike.baidu.com/item/%E8%B5%9B%E7%BB%B4%E6%97%B6%E4%BB%A3%E7%A7%91%E6%8A%80%E8%82%A1%E4%BB%BD%E6%9C%89%E9%99%90%E5%85%AC%E5%8F%B8/51194114?fr=ge_ala (DataType.WEB_PAGE). New chunks count: 1\n"
     ]
    },
    {
     "name": "stderr",
     "output_type": "stream",
     "text": [
      "\n"
     ]
    },
    {
     "data": {
      "text/plain": [
       "'2e8011e1acc0778f7e07faccf4f90425'"
      ]
     },
     "execution_count": 33,
     "metadata": {},
     "output_type": "execute_result"
    }
   ],
   "source": [
    "#app.add(\"https://baike.baidu.com/item/%E8%B5%9B%E7%BB%B4%E6%97%B6%E4%BB%A3%E7%A7%91%E6%8A%80%E8%82%A1%E4%BB%BD%E6%9C%89%E9%99%90%E5%85%AC%E5%8F%B8/51194114?fr=ge_ala\", metadata={\"catalog\": \"company\", \"dataset\": \"sailvan\"})"
   ]
  },
  {
   "cell_type": "markdown",
   "id": "ccc7d421",
   "metadata": {},
   "source": [
    "### Step-6: All set. Now start asking questions related to your data"
   ]
  },
  {
   "cell_type": "code",
   "execution_count": 38,
   "id": "27868a7d",
   "metadata": {},
   "outputs": [
    {
     "name": "stderr",
     "output_type": "stream",
     "text": [
      "e:\\Project\\AI\\embedchain\\.embedchain_env\\Lib\\site-packages\\langchain\\chat_models\\azure_openai.py:162: UserWarning: As of openai>=1.0.0, if `deployment_name` (or alias `azure_deployment`) is specified then `openai_api_base` (or alias `base_url`) should not be. Instead use `deployment_name` (or alias `azure_deployment`) and `azure_endpoint`.\n",
      "  warnings.warn(\n",
      "e:\\Project\\AI\\embedchain\\.embedchain_env\\Lib\\site-packages\\langchain\\chat_models\\azure_openai.py:170: UserWarning: As of openai>=1.0.0, if `openai_api_base` (or alias `base_url`) is specified it is expected to be of the form https://example-resource.azure.openai.com/openai/deployments/example-deployment. Updating https://openai-sailvan-eastus2-proxy.valsun.cn/openai to https://openai-sailvan-eastus2-proxy.valsun.cn/openai.\n",
      "  warnings.warn(\n"
     ]
    },
    {
     "name": "stdout",
     "output_type": "stream",
     "text": [
      "赛维时代有以下高管：\n",
      "- 陈文平：董事长、董事、总经理\n",
      "- 陈文辉：董事\n",
      "- 陈晓兰：董事\n",
      "- 王绪成：董事、副总经理\n",
      "- 王志伟：董事\n",
      "- 吴亚宏：董事\n",
      "- 张贞智：董事\n",
      "- 戴建宏：独立董事\n",
      "- 郭东：独立董事\n",
      "- 江百灵：独立董事\n",
      "- 吴星宇：独立董事\n",
      "- 艾帆：董事会秘书\n",
      "- 潘旭东：监事会主席、监事\n",
      "- 陈永峰：监事\n",
      "- 帅勇：副总经理\n",
      "- 林文佳：财务总监\n",
      "- 蔡丽宏：职工监事\n"
     ]
    }
   ],
   "source": [
    "# print(app.query(\"What is the name of the company Elon Musk founded?\"))\n",
    "print(app.query(\"赛维时代有哪些高管？\", where={\"metadata.catalog\": \"company\", \"metadata.dataset\": \"sailvan1\"}))\n",
    "\n",
    "# while(True):\n",
    "#     question = input(\"Enter question: \")\n",
    "\n",
    "#     if question in ['q', 'exit', 'quit']:\n",
    "#         break\n",
    "#     answer = app.query(question)\n",
    "#     print(answer)"
   ]
  }
 ],
 "metadata": {
  "kernelspec": {
   "display_name": "Python 3 (ipykernel)",
   "language": "python",
   "name": "python3"
  },
  "language_info": {
   "codemirror_mode": {
    "name": "ipython",
    "version": 3
   },
   "file_extension": ".py",
   "mimetype": "text/x-python",
   "name": "python",
   "nbconvert_exporter": "python",
   "pygments_lexer": "ipython3",
   "version": "3.11.5"
  }
 },
 "nbformat": 4,
 "nbformat_minor": 5
}
