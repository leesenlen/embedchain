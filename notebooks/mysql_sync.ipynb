{
 "cells": [
  {
   "cell_type": "code",
   "execution_count": 1,
   "metadata": {},
   "outputs": [
    {
     "name": "stderr",
     "output_type": "stream",
     "text": [
      "e:\\Project\\AI\\embedchain\\.venv\\Lib\\site-packages\\langchain\\embeddings\\azure_openai.py:108: UserWarning: As of openai>=1.0.0, if `deployment` (or alias `azure_deployment`) is specified then `openai_api_base` (or alias `base_url`) should not be. Instead use `deployment` (or alias `azure_deployment`) and `azure_endpoint`.\n",
      "  warnings.warn(\n",
      "e:\\Project\\AI\\embedchain\\.venv\\Lib\\site-packages\\langchain\\embeddings\\azure_openai.py:116: UserWarning: As of openai>=1.0.0, if `openai_api_base` (or alias `base_url`) is specified it is expected to be of the form https://example-resource.azure.openai.com/openai/deployments/example-deployment. Updating https://openai-sailvan-eastus2-proxy.valsun.cn/openai to https://openai-sailvan-eastus2-proxy.valsun.cn/openai.\n",
      "  warnings.warn(\n"
     ]
    }
   ],
   "source": [
    "import os\n",
    "from embedchain import Pipeline as App\n",
    "\n",
    "os.environ[\"OPENAI_API_TYPE\"] = \"azure\"\n",
    "os.environ[\"OPENAI_API_BASE\"] = \"https://openai-sailvan-eastus2-proxy.valsun.cn/openai\"\n",
    "os.environ[\"OPENAI_API_KEY\"] = \"b0fc062d729a4b66af7edd12cab4636f\"\n",
    "os.environ[\"OPENAI_API_VERSION\"] = \"2023-05-15\"\n",
    "\n",
    "app = App.from_config(config_path=\"azure_openai.yaml\")"
   ]
  },
  {
   "cell_type": "code",
   "execution_count": 2,
   "metadata": {},
   "outputs": [
    {
     "name": "stderr",
     "output_type": "stream",
     "text": [
      "Inserting batches in elasticsearch: 100%|██████████| 10/10 [00:00<00:00, 25.34batch/s]"
     ]
    },
    {
     "name": "stdout",
     "output_type": "stream",
     "text": [
      "Successfully saved SELECT * FROM wb_admin_users limit 10; (DataType.CUSTOM). New chunks count: 10\n"
     ]
    },
    {
     "name": "stderr",
     "output_type": "stream",
     "text": [
      "\n"
     ]
    },
    {
     "data": {
      "text/plain": [
       "'a5fa04ff1b85332935a046c03782c237'"
      ]
     },
     "execution_count": 2,
     "metadata": {},
     "output_type": "execute_result"
    }
   ],
   "source": [
    "from embedchain.loaders.mysql import MySQLLoader\n",
    "\n",
    "config = {\n",
    "    \"host\": \"10.199.1.62\",\n",
    "    \"port\": 3306,\n",
    "    \"database\": \"workbench\",\n",
    "    \"user\": \"root\",\n",
    "    \"password\": \"a13vnABHbSTu\",\n",
    "}\n",
    "\n",
    "mysql_loader = MySQLLoader(config=config)\n",
    "app.add(\"SELECT * FROM wb_admin_users limit 10;\", data_type='mysql', loader=mysql_loader)"
   ]
  },
  {
   "cell_type": "code",
   "execution_count": 5,
   "metadata": {},
   "outputs": [
    {
     "name": "stderr",
     "output_type": "stream",
     "text": [
      "e:\\Project\\AI\\embedchain\\.venv\\Lib\\site-packages\\langchain\\chat_models\\azure_openai.py:162: UserWarning: As of openai>=1.0.0, if `deployment_name` (or alias `azure_deployment`) is specified then `openai_api_base` (or alias `base_url`) should not be. Instead use `deployment_name` (or alias `azure_deployment`) and `azure_endpoint`.\n",
      "  warnings.warn(\n",
      "e:\\Project\\AI\\embedchain\\.venv\\Lib\\site-packages\\langchain\\chat_models\\azure_openai.py:170: UserWarning: As of openai>=1.0.0, if `openai_api_base` (or alias `base_url`) is specified it is expected to be of the form https://example-resource.azure.openai.com/openai/deployments/example-deployment. Updating https://openai-sailvan-eastus2-proxy.valsun.cn/openai to https://openai-sailvan-eastus2-proxy.valsun.cn/openai.\n",
      "  warnings.warn(\n"
     ]
    },
    {
     "name": "stdout",
     "output_type": "stream",
     "text": [
      "陈文辉的邮箱是chenwenhui@sailvan.com。\n"
     ]
    }
   ],
   "source": [
    "\n",
    "\n",
    "# Adds `(1, 'What is your net worth, Elon Musk?', \"As of October 2023, Elon Musk's net worth is $255.2 billion.\")`\n",
    "\n",
    "question = \"陈文辉的邮箱是多少？\"\n",
    "response = app.query(question)\n",
    "print(response)\n",
    "# Answer: As of October 2023, Elon Musk's net worth is $255.2 billion."
   ]
  }
 ],
 "metadata": {
  "kernelspec": {
   "display_name": ".venv",
   "language": "python",
   "name": "python3"
  },
  "language_info": {
   "codemirror_mode": {
    "name": "ipython",
    "version": 3
   },
   "file_extension": ".py",
   "mimetype": "text/x-python",
   "name": "python",
   "nbconvert_exporter": "python",
   "pygments_lexer": "ipython3",
   "version": "3.11.5"
  }
 },
 "nbformat": 4,
 "nbformat_minor": 2
}
