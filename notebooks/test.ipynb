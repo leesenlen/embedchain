{
 "cells": [
  {
   "cell_type": "code",
   "execution_count": 1,
   "metadata": {},
   "outputs": [
    {
     "name": "stderr",
     "output_type": "stream",
     "text": [
      "e:\\embedchain\\.venv\\Lib\\site-packages\\langchain\\embeddings\\azure_openai.py:108: UserWarning: As of openai>=1.0.0, if `deployment` (or alias `azure_deployment`) is specified then `openai_api_base` (or alias `base_url`) should not be. Instead use `deployment` (or alias `azure_deployment`) and `azure_endpoint`.\n",
      "  warnings.warn(\n",
      "e:\\embedchain\\.venv\\Lib\\site-packages\\langchain\\embeddings\\azure_openai.py:116: UserWarning: As of openai>=1.0.0, if `openai_api_base` (or alias `base_url`) is specified it is expected to be of the form https://example-resource.azure.openai.com/openai/deployments/example-deployment. Updating https://openai-sailvan-eastus2-proxy.valsun.cn/openai to https://openai-sailvan-eastus2-proxy.valsun.cn/openai.\n",
      "  warnings.warn(\n"
     ]
    }
   ],
   "source": [
    "import os\n",
    "from embedchain import App\n",
    "\n",
    "os.environ[\"OPENAI_API_TYPE\"] = \"azure\"\n",
    "os.environ[\"OPENAI_API_BASE\"] = \"https://openai-sailvan-eastus2-proxy.valsun.cn/openai\"\n",
    "os.environ[\"OPENAI_API_KEY\"] = \"b0fc062d729a4b66af7edd12cab4636f\"\n",
    "os.environ[\"OPENAI_API_VERSION\"] = \"2023-05-15\"\n",
    "\n",
    "app = App.from_config(config_path=\"./data/example_config.yaml\")"
   ]
  },
  {
   "cell_type": "code",
   "execution_count": 5,
   "metadata": {},
   "outputs": [
    {
     "name": "stderr",
     "output_type": "stream",
     "text": [
      "Inserting batches in elasticsearch: 100%|██████████| 1/1 [00:00<00:00, 50.92batch/s]\n",
      "Inserting batches in elasticsearch: 100%|██████████| 4/4 [00:00<00:00, 88.57batch/s]\n",
      "Inserting batches in elasticsearch: 100%|██████████| 11/11 [00:00<00:00, 69.86batch/s]\n"
     ]
    }
   ],
   "source": [
    "# from embedchain.loaders.mysql import MySQLLoader\n",
    "\n",
    "# config = {\n",
    "#     \"host\": \"10.199.1.62\",\n",
    "#     \"port\": 3306,\n",
    "#     \"database\": \"workbench\",\n",
    "#     \"user\": \"root\",\n",
    "#     \"password\": \"a13vnABHbSTu\",\n",
    "# }\n",
    "\n",
    "# mysql_loader = MySQLLoader(config=config)\n",
    "\n",
    "# # from mysql\n",
    "# app.add(\"SELECT * FROM wb_admin_users limit 2;\", data_type='mysql', loader=mysql_loader)\n",
    "# methods = [method for method in dir(app) if callable(getattr(app, method))]\n",
    "\n",
    "# # 打印模块中的所有方法\n",
    "# for method in methods:\n",
    "#     print(method)\n",
    "# from text\n",
    "# params = {\n",
    "#     \"source\":\"赛维时代科技股份有限公司成立于2012年，国家高新技术企业。公司秉承“让美好生活触手可及”的使命，致力于成为技术驱动的智能商业平台。为满足全球消费者对高品质、个性化的时尚生活需求，公司在基础平台层、销售端和供应端持续深耕，已逐步打磨出集产品开发设计、品牌孵化及运营、供应链整合等于一体的平台化快速反应能力。在基础平台层，公司已具备全链路数字化能力，并搭建了“小前端+大中台”的敏捷型组织架构；在销售端，公司基于跨区域、跨平台的销售网络，构建品牌矩阵支撑的多品类延伸能力；在供应端，公司依托庞大而优质的供应商生态、全球仓储物流网络布局，并通过自研的服装柔性供应链系统赋能生产，构建高效供应能力。\"\n",
    "# }\n",
    "# app.upsert(params, data_type='text')\n",
    "\n",
    "# # from url\n",
    "# params = {\n",
    "#     \"source\":\"https://www.forbes.com/profile/elon-musk\"\n",
    "# }\n",
    "# app.upsert(params)\n",
    "\n",
    "# # from file\n",
    "# # pdf 每页都会生成一个block，不管内容大小\n",
    "# params = {\n",
    "#     \"source\":\"./data/TrendeeContent.pdf\"\n",
    "# }\n",
    "# hash_data = app.upsert(params, data_type='pdf_file')\n",
    "# # print(hash_data)\n",
    "\n",
    "app.delete_file(source=\"./data/TrendeeContent.pdf\")\n"
   ]
  },
  {
   "cell_type": "code",
   "execution_count": 3,
   "metadata": {},
   "outputs": [],
   "source": [
    "# Adds `(1, 'What is your net worth, Elon Musk?', \"As of October 2023, Elon Musk's net worth is $255.2 billion.\")`\n",
    "\n",
    "# questions = [\n",
    "#     #  \"陈文辉的工号和邮箱是多少？\",\n",
    "#     #  \"Elon Musk主要做什么工作？\",\n",
    "#     #  \"赛维时代的使命是什么？\",\n",
    "#      \"trendee支持AI设计Copilot吗？\",\n",
    "#      \"北京奥运会的举办时间是什么时候？\",\n",
    "# ]\n",
    "# for question in questions:\n",
    "#     response = app.query(question, dry_run=True)\n",
    "#     print(\"Q:\", question)\n",
    "#     print(\"A:\", response)\n",
    "# Answer: As of October 2023, Elon Musk's net worth is $255.2 billion."
   ]
  }
 ],
 "metadata": {
  "kernelspec": {
   "display_name": ".venv",
   "language": "python",
   "name": "python3"
  },
  "language_info": {
   "codemirror_mode": {
    "name": "ipython",
    "version": 3
   },
   "file_extension": ".py",
   "mimetype": "text/x-python",
   "name": "python",
   "nbconvert_exporter": "python",
   "pygments_lexer": "ipython3",
   "version": "3.11.5"
  }
 },
 "nbformat": 4,
 "nbformat_minor": 2
}
