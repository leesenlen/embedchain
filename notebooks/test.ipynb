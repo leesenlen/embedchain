{
 "cells": [
  {
   "cell_type": "code",
   "execution_count": 7,
   "metadata": {},
   "outputs": [
    {
     "name": "stderr",
     "output_type": "stream",
     "text": [
      "e:\\embedchain\\.venv\\Lib\\site-packages\\langchain_community\\embeddings\\azure_openai.py:119: UserWarning: As of openai>=1.0.0, if `deployment` (or alias `azure_deployment`) is specified then `openai_api_base` (or alias `base_url`) should not be. Instead use `deployment` (or alias `azure_deployment`) and `azure_endpoint`.\n",
      "  warnings.warn(\n",
      "e:\\embedchain\\.venv\\Lib\\site-packages\\langchain_community\\embeddings\\azure_openai.py:127: UserWarning: As of openai>=1.0.0, if `openai_api_base` (or alias `base_url`) is specified it is expected to be of the form https://example-resource.azure.openai.com/openai/deployments/example-deployment. Updating https://saiwei-lab-gpt.valsun.cn/openai to https://saiwei-lab-gpt.valsun.cn/openai.\n",
      "  warnings.warn(\n"
     ]
    },
    {
     "ename": "OSError",
     "evalue": "[Errno 22] Invalid argument: 'https://aiagent-files-test.oss-cn-shenzhen.aliyuncs.com/chat_attachments/2024/06/28/16/cpc.md'",
     "output_type": "error",
     "traceback": [
      "\u001b[1;31m---------------------------------------------------------------------------\u001b[0m",
      "\u001b[1;31mOSError\u001b[0m                                   Traceback (most recent call last)",
      "Cell \u001b[1;32mIn[7], line 28\u001b[0m\n\u001b[0;32m      9\u001b[0m app \u001b[38;5;241m=\u001b[39m App\u001b[38;5;241m.\u001b[39mfrom_config(config_path\u001b[38;5;241m=\u001b[39m\u001b[38;5;124m\"\u001b[39m\u001b[38;5;124m./data/example_config.yaml\u001b[39m\u001b[38;5;124m\"\u001b[39m)\n\u001b[0;32m     10\u001b[0m \u001b[38;5;66;03m# import os\u001b[39;00m\n\u001b[0;32m     11\u001b[0m \n\u001b[0;32m     12\u001b[0m \u001b[38;5;66;03m# def list_files(directory):\u001b[39;00m\n\u001b[1;32m   (...)\u001b[0m\n\u001b[0;32m     26\u001b[0m \n\u001b[0;32m     27\u001b[0m \u001b[38;5;66;03m# doc_id = app.upsert(source=\"C:/Users/sw/Desktop/人力资源/flow.docx\",data_type=\"docx\")\u001b[39;00m\n\u001b[1;32m---> 28\u001b[0m doc_id \u001b[38;5;241m=\u001b[39m \u001b[43mapp\u001b[49m\u001b[38;5;241;43m.\u001b[39;49m\u001b[43mupsert\u001b[49m\u001b[43m(\u001b[49m\u001b[43msource\u001b[49m\u001b[38;5;241;43m=\u001b[39;49m\u001b[38;5;124;43m\"\u001b[39;49m\u001b[38;5;124;43mhttps://aiagent-files-test.oss-cn-shenzhen.aliyuncs.com/chat_attachments/2024/06/28/16/cpc.md\u001b[39;49m\u001b[38;5;124;43m\"\u001b[39;49m\u001b[43m,\u001b[49m\u001b[43mdata_type\u001b[49m\u001b[38;5;241;43m=\u001b[39;49m\u001b[38;5;124;43m\"\u001b[39;49m\u001b[38;5;124;43mmd\u001b[39;49m\u001b[38;5;124;43m\"\u001b[39;49m\u001b[43m)\u001b[49m\n\u001b[0;32m     29\u001b[0m \u001b[38;5;28mprint\u001b[39m(doc_id)\n",
      "File \u001b[1;32mE:\\embedchain\\embedchain\\embedchain.py:175\u001b[0m, in \u001b[0;36mEmbedChain.upsert\u001b[1;34m(self, source, data_type, metadata, config, loader, chunker)\u001b[0m\n\u001b[0;32m    171\u001b[0m     data_type \u001b[38;5;241m=\u001b[39m detect_datatype(source)\n\u001b[0;32m    173\u001b[0m data_formatter \u001b[38;5;241m=\u001b[39m DataFormatter(data_type, config, loader, chunker)\n\u001b[1;32m--> 175\u001b[0m embeddings_data \u001b[38;5;241m=\u001b[39m \u001b[43mdata_formatter\u001b[49m\u001b[38;5;241;43m.\u001b[39;49m\u001b[43mchunker\u001b[49m\u001b[38;5;241;43m.\u001b[39;49m\u001b[43mchunks\u001b[49m\u001b[43m(\u001b[49m\u001b[43mdata_formatter\u001b[49m\u001b[38;5;241;43m.\u001b[39;49m\u001b[43mloader\u001b[49m\u001b[43m,\u001b[49m\u001b[43m \u001b[49m\u001b[43msource\u001b[49m\u001b[43m,\u001b[49m\u001b[43m \u001b[49m\u001b[43mmetadata\u001b[49m\u001b[43m,\u001b[49m\u001b[43m \u001b[49m\u001b[43mconfig\u001b[49m\u001b[38;5;241;43m=\u001b[39;49m\u001b[43mconfig\u001b[49m\u001b[38;5;241;43m.\u001b[39;49m\u001b[43mchunker\u001b[49m\u001b[43m)\u001b[49m\n\u001b[0;32m    176\u001b[0m \u001b[38;5;66;03m# spread chunking results\u001b[39;00m\n\u001b[0;32m    177\u001b[0m documents \u001b[38;5;241m=\u001b[39m embeddings_data[\u001b[38;5;124m\"\u001b[39m\u001b[38;5;124mdocuments\u001b[39m\u001b[38;5;124m\"\u001b[39m]\n",
      "File \u001b[1;32mE:\\embedchain\\embedchain\\chunkers\\base_chunker.py:31\u001b[0m, in \u001b[0;36mBaseChunker.chunks\u001b[1;34m(self, loader, src, metadata, config)\u001b[0m\n\u001b[0;32m     28\u001b[0m knowledge_id \u001b[38;5;241m=\u001b[39m metadata\u001b[38;5;241m.\u001b[39mget(\u001b[38;5;124m\"\u001b[39m\u001b[38;5;124mknowledge_id\u001b[39m\u001b[38;5;124m\"\u001b[39m,\u001b[38;5;241m1\u001b[39m) \u001b[38;5;66;03m#默认知识库ID\u001b[39;00m\n\u001b[0;32m     29\u001b[0m subject \u001b[38;5;241m=\u001b[39m metadata\u001b[38;5;241m.\u001b[39mget(\u001b[38;5;124m\"\u001b[39m\u001b[38;5;124msubject\u001b[39m\u001b[38;5;124m\"\u001b[39m,\u001b[38;5;28;01mNone\u001b[39;00m) \u001b[38;5;66;03m#主题\u001b[39;00m\n\u001b[1;32m---> 31\u001b[0m data_result \u001b[38;5;241m=\u001b[39m \u001b[43mloader\u001b[49m\u001b[38;5;241;43m.\u001b[39;49m\u001b[43mload_data\u001b[49m\u001b[43m(\u001b[49m\u001b[43msrc\u001b[49m\u001b[43m)\u001b[49m\n\u001b[0;32m     32\u001b[0m data_records \u001b[38;5;241m=\u001b[39m data_result[\u001b[38;5;124m\"\u001b[39m\u001b[38;5;124mdata\u001b[39m\u001b[38;5;124m\"\u001b[39m]\n\u001b[0;32m     33\u001b[0m hash_data \u001b[38;5;241m=\u001b[39m data_result[\u001b[38;5;124m\"\u001b[39m\u001b[38;5;124mdoc_id\u001b[39m\u001b[38;5;124m\"\u001b[39m]\n",
      "File \u001b[1;32mE:\\embedchain\\embedchain\\loaders\\markdown.py:19\u001b[0m, in \u001b[0;36mMarkdownLoader.load_data\u001b[1;34m(self, url)\u001b[0m\n\u001b[0;32m     17\u001b[0m output \u001b[38;5;241m=\u001b[39m []\n\u001b[0;32m     18\u001b[0m meta_data \u001b[38;5;241m=\u001b[39m {}\n\u001b[1;32m---> 19\u001b[0m content \u001b[38;5;241m=\u001b[39m clean_string(\u001b[38;5;28;43mself\u001b[39;49m\u001b[38;5;241;43m.\u001b[39;49m\u001b[43mextract_text_from_markdown\u001b[49m\u001b[43m(\u001b[49m\u001b[43murl\u001b[49m\u001b[43m)\u001b[49m)\n\u001b[0;32m     21\u001b[0m meta_data[\u001b[38;5;124m\"\u001b[39m\u001b[38;5;124murl\u001b[39m\u001b[38;5;124m\"\u001b[39m] \u001b[38;5;241m=\u001b[39m url\n\u001b[0;32m     22\u001b[0m output\u001b[38;5;241m.\u001b[39mappend({\u001b[38;5;124m\"\u001b[39m\u001b[38;5;124mcontent\u001b[39m\u001b[38;5;124m\"\u001b[39m: content, \u001b[38;5;124m\"\u001b[39m\u001b[38;5;124mmeta_data\u001b[39m\u001b[38;5;124m\"\u001b[39m: meta_data})\n",
      "File \u001b[1;32mE:\\embedchain\\embedchain\\loaders\\markdown.py:30\u001b[0m, in \u001b[0;36mMarkdownLoader.extract_text_from_markdown\u001b[1;34m(self, md_file_path)\u001b[0m\n\u001b[0;32m     29\u001b[0m \u001b[38;5;28;01mdef\u001b[39;00m \u001b[38;5;21mextract_text_from_markdown\u001b[39m(\u001b[38;5;28mself\u001b[39m, md_file_path):\n\u001b[1;32m---> 30\u001b[0m     \u001b[38;5;28;01mwith\u001b[39;00m \u001b[38;5;28;43mopen\u001b[39;49m\u001b[43m(\u001b[49m\u001b[43mmd_file_path\u001b[49m\u001b[43m,\u001b[49m\u001b[43m \u001b[49m\u001b[38;5;124;43m'\u001b[39;49m\u001b[38;5;124;43mr\u001b[39;49m\u001b[38;5;124;43m'\u001b[39;49m\u001b[43m,\u001b[49m\u001b[43m \u001b[49m\u001b[43mencoding\u001b[49m\u001b[38;5;241;43m=\u001b[39;49m\u001b[38;5;124;43m'\u001b[39;49m\u001b[38;5;124;43mutf-8\u001b[39;49m\u001b[38;5;124;43m'\u001b[39;49m\u001b[43m)\u001b[49m \u001b[38;5;28;01mas\u001b[39;00m file:\n\u001b[0;32m     31\u001b[0m         md_content \u001b[38;5;241m=\u001b[39m file\u001b[38;5;241m.\u001b[39mread()\n\u001b[0;32m     33\u001b[0m     \u001b[38;5;66;03m# 将 Markdown 转换为 HTML\u001b[39;00m\n",
      "\u001b[1;31mOSError\u001b[0m: [Errno 22] Invalid argument: 'https://aiagent-files-test.oss-cn-shenzhen.aliyuncs.com/chat_attachments/2024/06/28/16/cpc.md'"
     ]
    }
   ],
   "source": [
    "import os\n",
    "from embedchain import App\n",
    "\n",
    "os.environ[\"OPENAI_API_TYPE\"] = \"azure\"\n",
    "os.environ[\"OPENAI_API_BASE\"] = \"https://saiwei-lab-gpt.valsun.cn/openai\"\n",
    "os.environ[\"OPENAI_API_KEY\"] = \"4d2eacfd380746a4af23ed23c410c950\"\n",
    "os.environ[\"OPENAI_API_VERSION\"] = \"2023-12-01-preview\"\n",
    "\n",
    "app = App.from_config(config_path=\"./data/example_config.yaml\")\n",
    "# import os\n",
    "\n",
    "# def list_files(directory):\n",
    "#     files = []\n",
    "#     for root, _, filenames in os.walk(directory):\n",
    "#         for filename in filenames:\n",
    "#             files.append(os.path.join(root, filename))\n",
    "#     return files\n",
    "\n",
    "# directory = 'C:/Users/sw/Desktop/人力资源/人力资源规章制度'\n",
    "# files = list_files(directory)\n",
    "# for file in files:\n",
    "#     doc_id = app.upsert(\n",
    "#         source=file,\n",
    "#         data_type=\"pdf_file\")\n",
    "#     print(doc_id)\n",
    "\n",
    "# doc_id = app.upsert(source=\"C:/Users/sw/Desktop/人力资源/flow.docx\",data_type=\"docx\")\n",
    "doc_id = app.upsert(source=\"https://aiagent-files-test.oss-cn-shenzhen.aliyuncs.com/chat_attachments/2024/06/28/16/cpc.md\",data_type=\"md\")\n",
    "print(doc_id)"
   ]
  },
  {
   "cell_type": "code",
   "execution_count": 1,
   "metadata": {},
   "outputs": [
    {
     "name": "stderr",
     "output_type": "stream",
     "text": [
      "e:\\embedchain\\.venv\\Lib\\site-packages\\langchain_core\\_api\\deprecation.py:117: LangChainDeprecationWarning: The class `langchain_community.embeddings.azure_openai.AzureOpenAIEmbeddings` was deprecated in langchain-community 0.1.0 and will be removed in 0.2.0. An updated version of the class exists in the langchain-openai package and should be used instead. To use it run `pip install -U langchain-openai` and import as `from langchain_openai import AzureOpenAIEmbeddings`.\n",
      "  warn_deprecated(\n",
      "e:\\embedchain\\.venv\\Lib\\site-packages\\langchain_community\\embeddings\\azure_openai.py:119: UserWarning: As of openai>=1.0.0, if `deployment` (or alias `azure_deployment`) is specified then `openai_api_base` (or alias `base_url`) should not be. Instead use `deployment` (or alias `azure_deployment`) and `azure_endpoint`.\n",
      "  warnings.warn(\n",
      "e:\\embedchain\\.venv\\Lib\\site-packages\\langchain_community\\embeddings\\azure_openai.py:127: UserWarning: As of openai>=1.0.0, if `openai_api_base` (or alias `base_url`) is specified it is expected to be of the form https://example-resource.azure.openai.com/openai/deployments/example-deployment. Updating https://saiwei-lab-gpt-aws.valsun.cn/openai to https://saiwei-lab-gpt-aws.valsun.cn/openai.\n",
      "  warnings.warn(\n"
     ]
    }
   ],
   "source": [
    "import os\n",
    "from embedchain import App\n",
    "\n",
    "os.environ[\"OPENAI_API_TYPE\"] = \"azure\"\n",
    "os.environ[\"OPENAI_API_BASE\"] = \"https://saiwei-lab-gpt-aws.valsun.cn/openai\"\n",
    "os.environ[\"OPENAI_API_KEY\"] = \"4d2eacfd380746a4af23ed23c410c950\"\n",
    "os.environ[\"OPENAI_API_VERSION\"] = \"2023-12-01-preview\"\n",
    "\n",
    "app = App.from_config(config_path=\"./data/example_config.yaml\")"
   ]
  },
  {
   "cell_type": "code",
   "execution_count": 5,
   "metadata": {},
   "outputs": [
    {
     "data": {
      "text/plain": [
       "[{'segment_id': '2-f440bd41786a48c01f9789833767d11f5328ea328a342e98dc270f0d65f52d5f-f440bd41786a48c01f9789833767d11f5328ea328a342e98dc270f0d65f52d5f',\n",
       "  'app_id': 2,\n",
       "  'doc_id': 40,\n",
       "  'knowledge_id': 1,\n",
       "  'vector_doc_id': '2-f440bd41786a48c01f9789833767d11f5328ea328a342e98dc270f0d65f52d5f',\n",
       "  'hash': 'f440bd41786a48c01f9789833767d11f5328ea328a342e98dc270f0d65f52d5f',\n",
       "  'status': 1,\n",
       "  'url': 'E:\\\\workbench\\\\sailvan_aiagent\\\\attachments\\\\2\\\\20240328\\\\40eff7b639fad5cdb6e7e4d6f70df95b.md',\n",
       "  'tokens_num': 657,\n",
       "  'data_type': 'md',\n",
       "  'subject': '自定义应用',\n",
       "  'link': '',\n",
       "  'text': '主题：自定义应用。段落内容：\\u200b 除了系统默认创建的系统应用，同时支持用户按照自己的工作场景自定义应用，用户可以根据个人或企业的需求，自定义命令prompt及变量，创建更好地适应特定的业务场景和工作流程的应用 ，更加灵活。 命令prompt说明 命令prompt 在AI应用中，命令prompt是用户向AI系统发出明确的指令，从而引导AI系统执行特定的任务或生成特定的输出，即用户希望应用回答问题的描述。 命令prompt的作用类似于给AI系统下达一个任务或问题，让AI系统根据这个指令进行相应的处理或回答。 变量 变量可以让同一个命令prompt来处理不同的内容，即在命令prompt中可以变化或替换的部分。 例如 - 翻译应用： 命令prompt：“将以下文本从[源语言]翻译成[目标语言]：”。 在这个prompt中，[源语言和[目标语言]就是变量。用户可以根据需要替换这两个变量的值，比如将[源语言]替换为英文，[目标语言]替换为中文，从而得到一个新的命令：“将以下文本从英文翻译成中文：”。 命令规范 清晰明确：尽可能清晰、具体，避免使用模糊或含糊不清的表达方式。这样可以帮助AI系统更好地理解用户的意图，并生成更准确的输出。 相关性：与应用场景相关。如果用户输入的prompt与AI系统的能力范围不匹配，可能会导致系统无法生成有效的输出。 简洁性：命令清晰明确，但也不宜过长或过于复杂。简洁的prompt可以帮助AI系统更快地理解并处理用户的请求。 自定义应用创建教程 创建应用 由【个人面板 - 自定义应用】进入页面，点击右上方按钮，新建自定义应用； 编辑信息&设计指令prompt 填写应用名称、描述，选择应用类别； 创建符合你需求的命令prompt及对应变量； 提交后，系统管理员审核通过即可使用'}]"
      ]
     },
     "execution_count": 5,
     "metadata": {},
     "output_type": "execute_result"
    }
   ],
   "source": [
    "app.paged_query(and_conditions={\"metadata.system_doc_id\":40})"
   ]
  },
  {
   "cell_type": "code",
   "execution_count": null,
   "metadata": {},
   "outputs": [],
   "source": [
    "from embedchain.loaders.mysql import MySQLLoader\n",
    "from embedchain.models.base import BaseModel\n",
    "\n",
    "config = {\n",
    "    \"host\": \"10.199.1.62\",\n",
    "    \"port\": 3306,\n",
    "    \"database\": \"workbench\",\n",
    "    \"user\": \"root\",\n",
    "    \"password\": \"a13vnABHbSTu\",\n",
    "}\n",
    "\n",
    "mysql_loader = MySQLLoader(config=config)\n",
    "class UserModel(BaseModel):\n",
    "    def __init__(self, **kwargs):\n",
    "        super().__init__(**kwargs)\n",
    "schema = {\n",
    "\t\"database\":\"workbench\",\n",
    "\t\"table_name\": \"wb_admin_users\",\n",
    "\t\"description\": \"存储用户信息\",\n",
    "\t\"primary_key\":\"id\",\n",
    "\t\"table_schema\": {\n",
    "\t\t\"id\": {\n",
    "\t\t\t\"field_name\": \"用户表主键\",\n",
    "\t\t\t\"field_type\": \"integer\",\n",
    "\t\t\t\"description\": \"用户表主键，唯一键，关联查询时经常使用到\"\n",
    "\t\t},\n",
    "\t\t\"name\": {\n",
    "\t\t\t\"field_name\": \"用户姓名\",\n",
    "\t\t\t\"field_type\": \"string\",\n",
    "\t\t\t\"description\": \"公司用户的真实姓名，重名的情况下会加后缀\"\n",
    "\t\t},\n",
    "        \"email\": {\n",
    "\t\t\t\"field_name\": \"邮箱\",\n",
    "\t\t\t\"field_type\": \"string\",\n",
    "\t\t\t\"description\": \"公司用户的邮箱，重名的情况下会加后缀\"\n",
    "\t\t}\n",
    "\t},\n",
    "\t\"format_type\": \"json\",\n",
    "\t\"ignore_fields\": \"id\"\n",
    "}\n",
    "userModel = UserModel(**schema)\n",
    "print(repr(userModel))\n",
    "app.upsert(userModel, data_type='mysql', loader=mysql_loader)"
   ]
  },
  {
   "cell_type": "code",
   "execution_count": 2,
   "metadata": {},
   "outputs": [
    {
     "name": "stderr",
     "output_type": "stream",
     "text": [
      "2024-05-30 15:29:59,488 - 10696 - openai.py-openai:461 - WARNING: Warning: model not found. Using cl100k_base encoding.\n"
     ]
    },
    {
     "name": "stdout",
     "output_type": "stream",
     "text": [
      "耗时1.902553\n",
      "{'segment_id': '0-744f80b69bc66778c8843263d91d34246a024e3e1c2d8aa8c9534704dde0e4e4', 'app_id': 1, 'doc_id': 0, 'knowledge_id': 0, 'vector_doc_id': '0-744f80b69bc66778c8843263d91d34246a024e3e1c2d8aa8c9534704dde0e4e4', 'hash': '744f80b69bc66778c8843263d91d34246a024e3e1c2d8aa8c9534704dde0e4e4', 'status': 1, 'url': '', 'tokens_num': 6, 'data_type': '', 'subject': '', 'link': '', 'text': '这是一个测试按理'}\n"
     ]
    }
   ],
   "source": [
    "from datetime import datetime\n",
    "start_time = datetime.now()\n",
    "doc = app.upsert_document(document=\"这是一个测试按理\",metadata={\"knowledge_id\":0,\"app_id\":1})\n",
    "take_time = (datetime.now()-start_time).total_seconds()\n",
    "print(f\"耗时{take_time}\")\n",
    "print(doc)\n",
    "\n"
   ]
  },
  {
   "cell_type": "code",
   "execution_count": 6,
   "metadata": {},
   "outputs": [
    {
     "name": "stdout",
     "output_type": "stream",
     "text": [
      "{'workcode': '70001', 'department_hierarchy1_name': '人力资源部', 'department_hierarchy5_name': None, 'sex': '男', 'mobile': '18163673647', 'department_hierarchy3_name': None, 'department_hierarchy6': None, 'department_hierarchy6_name': None, 'department_hierarchy7': None, 'department_hierarchy4': None, 'department_hierarchy5': None, 'department_hierarchy2': '5281', 'user_id': '4825', 'manager_id': '25', 'department_hierarchy3': None, 'company_name': '深圳市赛维网络科技有限公司', 'department_hierarchy1': '21', 'name': '肖彬', 'department_hierarchy7_name': None, 'department_hierarchy2_name': '长沙人力资源部', 'department_hierarchy4_name': None, 'job_title': '58477', 'email': 'xiaobin@sailvan.com', 'status': '0'}\n"
     ]
    },
    {
     "ename": "TypeError",
     "evalue": "'OADepartmentModel' object is not subscriptable",
     "output_type": "error",
     "traceback": [
      "\u001b[1;31m---------------------------------------------------------------------------\u001b[0m",
      "\u001b[1;31mTypeError\u001b[0m                                 Traceback (most recent call last)",
      "Cell \u001b[1;32mIn[6], line 132\u001b[0m\n\u001b[0;32m    126\u001b[0m oaDepartmentModel \u001b[38;5;241m=\u001b[39m OADepartmentModel(\u001b[38;5;241m*\u001b[39m\u001b[38;5;241m*\u001b[39mschema)\n\u001b[0;32m    127\u001b[0m data \u001b[38;5;241m=\u001b[39m {\n\u001b[0;32m    128\u001b[0m     \u001b[38;5;124m\"\u001b[39m\u001b[38;5;124mjson\u001b[39m\u001b[38;5;124m\"\u001b[39m: json_obj,\n\u001b[0;32m    129\u001b[0m     \u001b[38;5;124m\"\u001b[39m\u001b[38;5;124mmodel\u001b[39m\u001b[38;5;124m\"\u001b[39m:oaDepartmentModel\n\u001b[0;32m    130\u001b[0m }\n\u001b[1;32m--> 132\u001b[0m \u001b[43mapp\u001b[49m\u001b[38;5;241;43m.\u001b[39;49m\u001b[43mupsert\u001b[49m\u001b[43m(\u001b[49m\u001b[43mdata\u001b[49m\u001b[43m,\u001b[49m\u001b[43m \u001b[49m\u001b[43mdata_type\u001b[49m\u001b[38;5;241;43m=\u001b[39;49m\u001b[38;5;124;43m\"\u001b[39;49m\u001b[38;5;124;43mstructure\u001b[39;49m\u001b[38;5;124;43m\"\u001b[39;49m\u001b[43m,\u001b[49m\u001b[43mmetadata\u001b[49m\u001b[38;5;241;43m=\u001b[39;49m\u001b[43m{\u001b[49m\u001b[38;5;124;43m\"\u001b[39;49m\u001b[38;5;124;43mapp_id\u001b[39;49m\u001b[38;5;124;43m\"\u001b[39;49m\u001b[43m:\u001b[49m\u001b[38;5;241;43m4\u001b[39;49m\u001b[43m}\u001b[49m\u001b[43m)\u001b[49m\n",
      "File \u001b[1;32mE:\\embedchain\\embedchain\\embedchain.py:190\u001b[0m, in \u001b[0;36mEmbedChain.upsert\u001b[1;34m(self, source, data_type, metadata, config, loader, chunker)\u001b[0m\n\u001b[0;32m    186\u001b[0m     data_type \u001b[38;5;241m=\u001b[39m detect_datatype(source)\n\u001b[0;32m    188\u001b[0m data_formatter \u001b[38;5;241m=\u001b[39m DataFormatter(data_type, config, loader, chunker)\n\u001b[1;32m--> 190\u001b[0m embeddings_data \u001b[38;5;241m=\u001b[39m \u001b[43mdata_formatter\u001b[49m\u001b[38;5;241;43m.\u001b[39;49m\u001b[43mchunker\u001b[49m\u001b[38;5;241;43m.\u001b[39;49m\u001b[43mchunks\u001b[49m\u001b[43m(\u001b[49m\u001b[43mdata_formatter\u001b[49m\u001b[38;5;241;43m.\u001b[39;49m\u001b[43mloader\u001b[49m\u001b[43m,\u001b[49m\u001b[43m \u001b[49m\u001b[43msource\u001b[49m\u001b[43m,\u001b[49m\u001b[43m \u001b[49m\u001b[43mmetadata\u001b[49m\u001b[43m,\u001b[49m\u001b[43m \u001b[49m\u001b[43mconfig\u001b[49m\u001b[38;5;241;43m=\u001b[39;49m\u001b[43mconfig\u001b[49m\u001b[38;5;241;43m.\u001b[39;49m\u001b[43mchunker\u001b[49m\u001b[43m)\u001b[49m\n\u001b[0;32m    191\u001b[0m \u001b[38;5;66;03m# spread chunking results\u001b[39;00m\n\u001b[0;32m    192\u001b[0m documents \u001b[38;5;241m=\u001b[39m embeddings_data[\u001b[38;5;124m\"\u001b[39m\u001b[38;5;124mdocuments\u001b[39m\u001b[38;5;124m\"\u001b[39m]\n",
      "File \u001b[1;32mE:\\embedchain\\embedchain\\chunkers\\structure.py:32\u001b[0m, in \u001b[0;36mStructureChunker.chunks\u001b[1;34m(self, loader, data, metadata, config)\u001b[0m\n\u001b[0;32m     29\u001b[0m knowledge_id \u001b[38;5;241m=\u001b[39m metadata\u001b[38;5;241m.\u001b[39mget(\u001b[38;5;124m\"\u001b[39m\u001b[38;5;124mknowledge_id\u001b[39m\u001b[38;5;124m\"\u001b[39m,\u001b[38;5;241m0\u001b[39m) \u001b[38;5;66;03m#知识库ID   \u001b[39;00m\n\u001b[0;32m     30\u001b[0m subject \u001b[38;5;241m=\u001b[39m metadata\u001b[38;5;241m.\u001b[39mget(\u001b[38;5;124m\"\u001b[39m\u001b[38;5;124msubject\u001b[39m\u001b[38;5;124m\"\u001b[39m,table\u001b[38;5;241m.\u001b[39mdescription) \u001b[38;5;66;03m#主题\u001b[39;00m\n\u001b[1;32m---> 32\u001b[0m data_records \u001b[38;5;241m=\u001b[39m loader\u001b[38;5;241m.\u001b[39mload_data(data)\n\u001b[0;32m     33\u001b[0m hash_data \u001b[38;5;241m=\u001b[39m hashlib\u001b[38;5;241m.\u001b[39msha256((table\u001b[38;5;241m.\u001b[39mdatabase \u001b[38;5;241m+\u001b[39m \u001b[38;5;124m'\u001b[39m\u001b[38;5;124m.\u001b[39m\u001b[38;5;124m'\u001b[39m \u001b[38;5;241m+\u001b[39m table\u001b[38;5;241m.\u001b[39mtable_name)\u001b[38;5;241m.\u001b[39mencode())\u001b[38;5;241m.\u001b[39mhexdigest()\n\u001b[0;32m     34\u001b[0m doc_id \u001b[38;5;241m=\u001b[39m \u001b[38;5;28mstr\u001b[39m(app_id) \u001b[38;5;241m+\u001b[39m \u001b[38;5;124m\"\u001b[39m\u001b[38;5;124m-\u001b[39m\u001b[38;5;124m\"\u001b[39m \u001b[38;5;241m+\u001b[39m hash_data\n",
      "File \u001b[1;32mE:\\embedchain\\embedchain\\loaders\\structure.py:12\u001b[0m, in \u001b[0;36mStructureLoader.load_data\u001b[1;34m(self, data)\u001b[0m\n\u001b[0;32m     10\u001b[0m \u001b[38;5;28;01mdef\u001b[39;00m \u001b[38;5;21mload_data\u001b[39m(\u001b[38;5;28mself\u001b[39m, data: \u001b[38;5;28mdict\u001b[39m):\n\u001b[0;32m     11\u001b[0m     json_data \u001b[38;5;241m=\u001b[39m {}\n\u001b[1;32m---> 12\u001b[0m     \u001b[38;5;28;01mif\u001b[39;00m \u001b[38;5;28misinstance\u001b[39m(\u001b[43mdata\u001b[49m\u001b[43m[\u001b[49m\u001b[38;5;124;43m'\u001b[39;49m\u001b[38;5;124;43mjson\u001b[39;49m\u001b[38;5;124;43m'\u001b[39;49m\u001b[43m]\u001b[49m, \u001b[38;5;28mstr\u001b[39m):\n\u001b[0;32m     13\u001b[0m         json_data \u001b[38;5;241m=\u001b[39m json\u001b[38;5;241m.\u001b[39mloads(data[\u001b[38;5;124m'\u001b[39m\u001b[38;5;124mjson\u001b[39m\u001b[38;5;124m'\u001b[39m], ensure_ascii\u001b[38;5;241m=\u001b[39m\u001b[38;5;28;01mFalse\u001b[39;00m)\n\u001b[0;32m     14\u001b[0m     json_data \u001b[38;5;241m=\u001b[39m data[\u001b[38;5;124m'\u001b[39m\u001b[38;5;124mjson\u001b[39m\u001b[38;5;124m'\u001b[39m]\n",
      "\u001b[1;31mTypeError\u001b[0m: 'OADepartmentModel' object is not subscriptable"
     ]
    }
   ],
   "source": [
    "from embedchain.models.base import BaseModel\n",
    "from embedchain.models.data_type import (DataType, DirectDataType,\n",
    "                                         IndirectDataType, SpecialDataType)\n",
    "\n",
    "class OADepartmentModel(BaseModel):\n",
    "    def __init__(self, **kwargs):\n",
    "        super().__init__(**kwargs)\n",
    "\n",
    "\n",
    "def build_schema():\n",
    "    return {\n",
    "        \"database\":\"redis:oa\",\n",
    "        \"table_name\": \"oa_department\",\n",
    "        \"description\": \"公司组织架构信息\",\n",
    "        \"primary_key\":\"workcode\",\n",
    "        \"table_schema\": {\n",
    "            \"user_id\": {\n",
    "                \"field_name\": \"当前用户ID\",\n",
    "                \"field_type\": \"string\",\n",
    "                \"description\": \"用户主键，唯一键\"\n",
    "            },\n",
    "            \"name\": {\n",
    "                \"field_name\": \"当前用户姓名\",\n",
    "                \"field_type\": \"string\",\n",
    "                \"description\": \"公司用户的真实姓名，重名的情况下会加后缀\"\n",
    "            },\n",
    "            \"email\": {\n",
    "                \"field_name\": \"邮箱\",\n",
    "                \"field_type\": \"string\",\n",
    "                \"description\": \"公司用户的邮箱\"\n",
    "            },\n",
    "            \"sex\": {\n",
    "                \"field_name\": \"性别\",\n",
    "                \"field_type\": \"string\",\n",
    "                \"description\": \"公司用户的性别\"\n",
    "            },\n",
    "            \"company_name\": {\n",
    "                \"field_name\": \"所在公司名称\",\n",
    "                \"field_type\": \"string\",\n",
    "                \"description\": \"所在公司名称\"\n",
    "            },\n",
    "            \"mobile\": {\n",
    "                \"field_name\": \"手机号码\",\n",
    "                \"field_type\": \"string\",\n",
    "                \"description\": \"手机号码\"\n",
    "            },\n",
    "            \"workcode\": {\n",
    "                \"field_name\": \"工号\",\n",
    "                \"field_type\": \"string\",\n",
    "                \"description\": \"工号\"\n",
    "            },\n",
    "            \"manager_id\": {\n",
    "                \"field_name\": \"所属上级用户ID\",\n",
    "                \"field_type\": \"string\",\n",
    "                \"description\": \"所属上级用户ID\"\n",
    "            },\n",
    "            \"job_title\": {\n",
    "                \"field_name\": \"所属岗位ID\",\n",
    "                \"field_type\": \"string\",\n",
    "                \"description\": \"所属岗位ID\"\n",
    "            },\n",
    "            \"status\": {\n",
    "                \"field_name\": \"用户状态\",\n",
    "                \"field_type\": \"string\",\n",
    "                \"description\": \"用户状态\",\n",
    "                \"enum_translate\":\"0:在职,1:在职,2:在职,3:在职,4:离职,5:离职,6:离职,7:离职,8:在职,9:在职\"\n",
    "            },\n",
    "            \"department_hierarchy1_name\": {\n",
    "                \"field_name\": \"所属一级部门名称或一级团队名称\",\n",
    "                \"field_type\": \"string\",\n",
    "                \"description\": \"所属一级部门名称或一级团队名称\"\n",
    "            },\n",
    "            \"department_hierarchy1\": {\n",
    "                \"field_name\": \"所属一级部门ID或一级团队ID\",\n",
    "                \"field_type\": \"string\",\n",
    "                \"description\": \"所属一级部门ID或一级团队ID\"\n",
    "            },\n",
    "            \"department_hierarchy2_name\": {\n",
    "                \"field_name\": \"所属二级部门名称或二级团队名称\",\n",
    "                \"field_type\": \"string\",\n",
    "                \"description\": \"所属二级部门名称或二级团队名称\"\n",
    "            },\n",
    "            \"department_hierarchy2\": {\n",
    "                \"field_name\": \"所属二级部门ID或二级团队ID\",\n",
    "                \"field_type\": \"string\",\n",
    "                \"description\": \"所属二级部门ID或二级团队ID\"\n",
    "            },\n",
    "            \"department_hierarchy3_name\": {\n",
    "                \"field_name\": \"所属三级部门名称或三级团队名称\",\n",
    "                \"field_type\": \"string\",\n",
    "                \"description\": \"所属三级部门名称或三级团队名称\"\n",
    "            },\n",
    "            \"department_hierarchy3\": {\n",
    "                \"field_name\": \"所属三级部门ID或三级团队ID\",\n",
    "                \"field_type\": \"string\",\n",
    "                \"description\": \"所属三级部门ID或三级团队ID\"\n",
    "            },\n",
    "            \"department_hierarchy4_name\": {\n",
    "                \"field_name\": \"所属四级部门名称或四级团队名称\",\n",
    "                \"field_type\": \"string\",\n",
    "                \"description\": \"所属四级部门名称或四级团队名称\"\n",
    "            },\n",
    "            \"department_hierarchy4\": {\n",
    "                \"field_name\": \"所属四级部门ID或四级团队ID\",\n",
    "                \"field_type\": \"string\",\n",
    "                \"description\": \"所属四级部门ID或四级团队ID\"\n",
    "            },\n",
    "            \"department_hierarchy5_name\": {\n",
    "                \"field_name\": \"所属五级部门名称或五级团队名称\",\n",
    "                \"field_type\": \"string\",\n",
    "                \"description\": \"所属五级部门名称或五级团队名称\"\n",
    "            },\n",
    "            \"department_hierarchy5\": {\n",
    "                \"field_name\": \"所属五级部门ID或五级团队ID\",\n",
    "                \"field_type\": \"string\",\n",
    "                \"description\": \"所属五级部门ID或五级团队ID\"\n",
    "            },\n",
    "        },\n",
    "        \"format_type\": \"json\"\n",
    "    }\n",
    "\n",
    "json_obj = {'workcode': '70001', 'department_hierarchy1_name': '人力资源部', 'department_hierarchy5_name': None, 'sex': '男', 'mobile': '18163673647', 'department_hierarchy3_name': None, 'department_hierarchy6': None, 'department_hierarchy6_name': None, 'department_hierarchy7': None, 'department_hierarchy4': None, 'department_hierarchy5': None, 'department_hierarchy2': '5281', 'user_id': '4825', 'manager_id': '25', 'department_hierarchy3': None, 'company_name': '深圳市赛维网络科技有限公司', 'department_hierarchy1': '21', 'name': '肖彬', 'department_hierarchy7_name': None, 'department_hierarchy2_name': '长沙人力资源部', 'department_hierarchy4_name': None, 'job_title': '58477', 'email': 'xiaobin@sailvan.com', 'status': '0'}\n",
    "print(json_obj)\n",
    "\n",
    "schema = build_schema()\n",
    "oaDepartmentModel = OADepartmentModel(**schema)\n",
    "data = {\n",
    "    \"json\": json_obj,\n",
    "    \"model\":oaDepartmentModel\n",
    "}\n",
    "\n",
    "app.upsert(data, data_type=\"structure\",metadata={\"app_id\":4})"
   ]
  },
  {
   "cell_type": "code",
   "execution_count": 2,
   "metadata": {},
   "outputs": [
    {
     "name": "stdout",
     "output_type": "stream",
     "text": [
      "主题：sd-zd-hr-001公文管理制度,段落内容：赛维时代科技股份有限公司SailvanTimesCo.,Ltd. 版权所有·严禁复制赛维时代科技股份有限公司SailvanTimesCo.,Ltd. 文件名称公文管理制度文件编号SD-ZD-HR-001发放范围内部公开 文件版本 V4.0文件密级内部使用 文件类型管理制度生效日期2020/02/01页码 1/21 文件批准记录 部门 姓名 签名 日期 拟制 人力资源部 寻佑兰 会审 服装BU 李美琴/陈燕云 会审 销售中心12部 方佳乐 会审 销售中心13部 张福海 会审 销售中心14部 管秀君 会审 销售中心15部 杜鹏 会审 独立商城 冯笑 会审 时尚项目部 童文平 会审 hard供应中心 王绪成 会审 服装供应链 陈前 会审 IT中心 肖金华 会审 智造ERP部 周聪 会审 总裁办公室 陈晓兰 会审 E-Bike产品线 陈文平 会审 研发中心 段亮 会审 风控部 蔡丽宏 会审 财务中心 林文佳 会审 运德供应链 帅勇 会审 行政部 刘甫 标准化 人力资源部 寻佑兰 批准 人力资源部 艾帆 批准 总裁办 陈文平赛维时代科技股份有限公司SailvanTimesCo.,Ltd. 版权所有·严禁复制赛维时代科技股份有限公司SailvanTimesCo.,Ltd. 文件名称公文管理制度文件编号SD-ZD-HR-001发放范围内部公开 文件版本 V4.0文件密级内部使用 文件类型管理制度生效日期2020/02/01页码 2/21 文件修订记录 版本号 修改内容及理由 修订审批人生效日期 V1.0新制定 寻佑兰 2020/02/01 V2.0根据新的组织架构对公司和部门简称及代号进 行新增和删减寻佑兰 2021/07/01 V3.0新增HARD测试中心及研发中心简称及代号寻佑兰 2022/06/16 V4.0根据新的组织架构对公司和部门简称及代号进 行新增和删减寻佑兰 2023/04/25 赛维时代科技股份有限公司 人力资源部赛维时代科技股份有限公司SailvanTimesCo.,Ltd. 版权所有·严禁复制赛维时代科技股份有限公司SailvanTimesCo.,Ltd. 文件名称公文管理制度文件编号SD-ZD-HR-001发放范围内部公开 文件版本 V4.0文件密级内部使用 文件类型管理制度生效日期2020/02/01页码 3/21 第一章总则\n",
      "主题：sd-zd-hr-001公文管理制度,段落内容：V4.0文件密级内部使用 文件类型管理制度生效日期2020/02/01页码 3/21 第一章总则 第一条为使赛维时代科技股份有限公司（以下简称“集团公司”）及各下属子公司公文（以下简 称“公文”）处理工作进一步规范化、制度化，提高公文质量和公文处理效率，保证公文 的严肃性，结合集团公司的实际情况，特制定本制度。 第二条适用范围：本制度适用于集团公司及下属子公司、部门。 第三条集团公司人力资源部是公文处理工作的管理机构，主管并负责指导集团公司各部门及各下 属子公司的公文处理工作。 第四条公文的定义： （一）公文一指在集团公司在经营管理过程中形成的具有管理效力和规范体式，以纸质或电子 方式为载体的文书。 （二）公文处理一指公文编制、管理、整理、归档等一系列相互关联、衔接有序的工作。 （三）内部公文一指在集团公司内部使用的公文，包括集团下发的或下属各子公司下发的规章 制度、会议纪要、报告、通知、通告、通报、任命、决议、决定和阶段性规定等等。 （四）公文管理是指集团及下属子公司行政公文管理。具体包括：集团下发的公文；各下属子 公司上报或下发的公文；集团各部门上报或下发的公文；集团及各下属子公司外（包括政府机 关、其他事业单位）往来公文等。 第五条公文处理工作须严格执行公司有关保密规定，确保公司机密安全。 第六条公司各部门及各下属子公司应当指派专人具体负责公文处理工作，公司领导、各部门负责 人、各下属子公司负责人应加强对本部门、本公司公文处理工作的领导和检查。 第二章职责 第七条集团人力资源部为集团公司公文的归口管理部门。 第八条人力资源部负责接收和处理外来文件及各下属子公司对集团领导的请示、报告，负责处理 所有以集团名义上报、下发的公文文件，并对集团各下属子公司的公文处理工作负有检查、 指导和监督责任，对不按相关规定进行公文处理的子公司、部门及个人进行处罚。 第九条各下属子公司人力资源部或者人事行政人员负责本公司上报、下发文件的归口管理，负责 接收、处理、宣贯和落实集团转发的外来文件及集团下发的规章制度、工作指令、通知、 通报等文件。赛维时代科技股份有限公司SailvanTimesCo.,Ltd. 版权所有·严禁复制赛维时代科技股份有限公司SailvanTimesCo.,Ltd. 文件名称公文管理制度文件编号SD-ZD-HR-001发放范围内部公开 文件版本\n",
      "主题：sd-zd-hr-001公文管理制度,段落内容：文件名称公文管理制度文件编号SD-ZD-HR-001发放范围内部公开 文件版本 V4.0文件密级内部使用 文件类型管理制度生效日期2020/02/01页码 4/21 第十条各下属子公司根据业务需要，设置专职管理人员，负责各类制度、公文等信息的传递、 接收、处理、跟进落实和编号保管存档等工作。 第十一条发文资格： （一）集团所属一级部门（各下属子公司）、各下属子公司人事行政部门为具备发文资格的主 体，其它部门或单位一律禁止发文。 第十二条发文效力： （一）公文对接收对象具备约束力，对非接收对象不具备效力，但非接收对象必须对该公文在 接收对象的执行、落实时给予支持。 第三章公文种类 第十三条根据实际，公司日常使用发文分类有： （一）决议：适用于经董事会、总裁办公室等重要会议讨论通过的重要决策事项。 （二）决定：适用于重要事项或重大行动的确定性安排。 （三）通知：适用于任免和聘用干部，传达公司指示、要求、告知各部门需要执行的事项。 （四）通告：适用于公开发布全体员工应当遵守或周知的事项。 （五）通报：适用于表彰先进，批评错误，传达重要精神或情况。 （六）会议纪要：适用于记载和传达会议精神和议定事项，要求与会部门共同遵守执行。 （七）函：适用于对外沟通、与外部业务单位相互商洽、联系工作的。 （八）制度/规定/办法/规范/工作指导：对特定范围内的工作和事务制定具有约束力的行为规范、 规章制度。 第四章公文格式 第十四条公文版头：公司公文版头按照以下二种： （一）公司名称（对外上行文或平行文使用）。例“赛维时代科技股份有限公司”。 （二）公司名称+文件（集团内下行文以及集团公司各部门使用）。例“赛维时代科技股份有限公 司文件”。 第十五条公文排版格式： （一）公文一般由秘密等级、发文单位标识、发文字号、标题、主送单位、正文、附件说明、成 文时间、印章、附件、主题词、抄送单位和印发份数等部分组成。赛维时代科技股份有限公司SailvanTimesCo.,Ltd. 版权所有·严禁复制赛维时代科技股份有限公司SailvanTimesCo.,Ltd. 文件名称公文管理制度文件编号SD-ZD-HR-001发放范围内部公开 文件版本 V4.0文件密级内部使用 文件类型管理制度生效日期2020/02/01页码 5/21\n",
      "主题：sd-zd-hr-001公文管理制度,段落内容：文件版本 V4.0文件密级内部使用 文件类型管理制度生效日期2020/02/01页码 5/21 （二）本制度将组成公文的各要素划分为眉首、主体、版记三部分。置于文件首页红色反线以上的 各要素统称眉首，置于红色反线（不含）以下至主题词（不含）之间的各要素统称主体，置于主题 词以下各要素统称版记。 （三）如公文中需要附表，对横排A4纸型表格，单页表格在订口一边，双页码表头在切口另一边。 第十六条涉及公司秘密的公文，秘密公文应根据密级分别注明“绝密”、“机密”、“秘密”。 （一）普通（非保密事项）：一般性决定、决议、通知、通报、行政管理资料等内部文件，外来文 件不属于保密范围。 （二）秘密：公司主体基本资质、产品资质；公司人事档案、人事合同和协议、职工工资性收入； 尚未进入市场或者尚未公开的各类信息属于秘密范围。 （三）机密：公司的规划；财务资料、统计资料；重要会议记录；公司对外交往中签订的合同、协 议；公司的经营情况属于机密范围。 （四）绝密：公司经营发展中，直接影响公司权益和利益的重要决策文件资料（例如：公司章程、 股东会议、董事会会议、监事会会议等）；公司账户、客户资料及供应商资料；一切IT系统和生产 技术资料；所设计的图文资料；专利技术；公司认为是绝密的其他重要资料属于绝密范围。 第十七条发文单位标识应当试用发文单位全称或者规范化简称，联合发文，主办单位排列在前。 第十八条发文字号：包括单位代字、年份、顺序号 （一）公司公文发文字号： 1.公司文件（对外及对上行文）：*〔2012〕X号。如：赛维时代发〔2012〕1号 其中：“赛维时代”代表发文单位“赛维时代科技股份有限公司”，〔2012〕为年份，“1 号”为文件的顺序号，发文规则参照《公司发文字号说明》（附件2）。 2.公司内部文件（对公司内部发文）：*X字〔2012〕X号。例如：*人字〔2012〕1号，“* 人”代表发文公司部门“赛维时代科技股份有限公司人力资源部”。联合发文的，只注明主办单 位发文字号，不得有两个发文字号。（集团所属一级部门（各下属子公司）、各下属子公司人事行 政部门发文代字、发文字号规定参照《公司发文字号说明》（附件2）。 第十九条主送单位指公文的主要受理单位，置于标题之下，正文之上，起头顶格。主送单位名 称应为全称或规范化简称、统称，排列顺序力求相对统一。一般只有一个主送单位，不宜\n",
      "主题：sd-zd-hr-001公文管理制度,段落内容：称应为全称或规范化简称、统称，排列顺序力求相对统一。一般只有一个主送单位，不宜 多头主送，以免责任不明。如需同时送其他单位，可用抄送形式。 第二十条公文中如有附件，应当注明附件的顺序和名称。赛维时代科技股份有限公司SailvanTimesCo.,Ltd. 版权所有·严禁复制赛维时代科技股份有限公司SailvanTimesCo.,Ltd. 文件名称公文管理制度文件编号SD-ZD-HR-001发放范围内部公开 文件版本 V4.0文件密级内部使用 文件类型管理制度生效日期2020/02/01页码 6/21 第二十一条公文除“会议纪要”外，应当加盖印章。联合公文，由主办部门加盖印章。 第二十二条主题词反映文件主要内容的规范化名词或名词性词组。标注在发文日期和印发说明之 间，并按照规定标引，最多不超过五个。 第二十三条抄报部门指除主送部门外需要知晓公文的其他上级单位，应当使用部门全称或者规范 化简称、统称。 第二十四条抄送部门指除了主送部门外需要执行或者知晓公文的其他有关部门，应当使用部门全 称或者规范化简称、统称。 第二十五条公文中各组成部分的标识规则参照《公文格式》（附件1）和《公文样式》（附件3） 标准执行。 第二十六条特殊要求除外，公文用纸一般采用标准A4型纸张（210mm*297mm）,左侧装订。张贴的 公文用纸大小，根据实际需要确定。 第五章行文规则 第二十七条行文应当确有必要，注重实效，坚持少而精。可发可不发的公文不发，可长可短的公 文要短。 第二十八条凡是通过口头、电话或其他便捷方式能够解决的问题，原则上不再发文。 第二十九条某项工作方针已经明确，执行过程中不需要采取新的措施，只是一般性号召或重申已 有的规定、要求，原则上不再发文。 第三十条发布相关制度或规定时，必须注意与已发布的同类制度或规定相衔接，内容不得抵 触。若有新的规定，必须在发文时注明对原发布制度或规定修改或废止，在已有的制度或 规定未废止前，原则上不得重复发布同类制度或规定。 第三十一条集团公司各部门无权对上级政府机关直接行文，该类行文均应以公司或集团的名义。 第三十二条集团公司的行文关系，应根据各自的隶属关系和职权范围确定。 （一）集团可以对集团各部门、各下属子公司各部门行文。 （二）各下属子公司各部门在其职权范围内，可以互相行文，也可以根据集团授权，向其他各公司\n"
     ]
    }
   ],
   "source": [
    "# Adds `(1, 'What is your net worth, Elon Musk?', \"As of October 2023, Elon Musk's net worth is $255.2 billion.\")`\n",
    "\n",
    "# questions = [\n",
    "#     #  \"陈文辉的工号和邮箱是多少？\",\n",
    "#     #  \"Elon Musk主要做什么工作？\",\n",
    "#     #  \"赛维时代的使命是什么？\",\n",
    "#      \"trendee支持AI设计Copilot吗？\",\n",
    "#      \"北京奥运会的举办时间是什么时候？\",\n",
    "# ]\n",
    "# for question in questions:\n",
    "#     response = app.query(question, dry_run=True)\n",
    "#     print(\"Q:\", question)\n",
    "#     print(\"A:\", response)\n",
    "\n",
    "# for v in a:\n",
    "#     print(v)\n",
    "\n",
    "# b = app.query(input_query=\"Trendee 是⼀款领先的时尚智能科技平台,请展开描述\")\n",
    "# print(b)\n",
    "# Answer: As of October 2023, Elon Musk's net worth is $255.2 billion.\n",
    "# import openpyxl\n",
    "\n",
    "# # 指定Excel文件路径\n",
    "# excel_file_path = 'path/to/your/file.xls'\n",
    "\n",
    "# # 读取Excel文件中的所有表格框\n",
    "# xl = pd.ExcelFile(excel_file_path)\n",
    "# sheet_name = 'Sheet1'  # 替换为实际的工作表名称\n",
    "\n",
    "# # 获取指定工作表中所有表格框的内容\n",
    "# dfs = pd.read_excel(xl, sheet_name, header=None, sheet_name=None)\n",
    "\n",
    "# # 打印每个表格框的内容\n",
    "# for table_name, df in dfs.items():\n",
    "#     print(f\"Table Name: {table_name}\")\n",
    "#     print(df)\n",
    "#     print(\"\\n\")\n",
    "\n",
    "a = app.multi_field_match_query(input_query=\"How to apply for salary suspension and retention process\",and_conditions={'metadata.app_id':2,'metadata.knowledge_id':64})\n",
    "for i in a:\n",
    "    print(i)"
   ]
  },
  {
   "cell_type": "code",
   "execution_count": 3,
   "metadata": {},
   "outputs": [
    {
     "name": "stdout",
     "output_type": "stream",
     "text": [
      "主题：组织架构基础信息,段落内容：二级团队名称为销售133部广告1组,二级团队ID为13142,删除状态为已删除\n",
      "主题：组织架构基础信息,段落内容：一级团队名称为厦门销售101部1组,一级团队ID为11161,删除状态为已删除\n",
      "主题：用户基础信息,段落内容：当前用户姓名为申诗,邮箱为shenshi@sailvan.com,性别为女,所在公司为深圳市赛维网络科技有限公司,工号为11113,用户状态为离职,所属一级团队名称为时尚项目部,所属一级团队ID为7721,所属二级团队名称为时尚项目一部,所属二级团队ID为8941,所属三级团队名称为时尚项目一部推广部,所属三级团队ID为8742,所属四级团队名称为时尚项目一部综合广告组,所属四级团队ID为15401,所属五级团队名称为None,所属五级团队ID为None\n",
      "主题：组织架构基础信息,段落内容：四级团队名称为重庆销售101部1组,四级团队ID为16840,删除状态为未删除\n",
      "主题：组织架构基础信息,段落内容：四级团队名称为销售101部1组,四级团队ID为16441,删除状态为未删除\n"
     ]
    }
   ],
   "source": [
    "# multi_field_match_querya = app.query(input_query=\"离职流程要怎么走\")\n",
    "# print(multi_field_match_querya)\n",
    "# for v in a:\n",
    "#     print(v)\n",
    "# print(a)\n",
    "a = app.multi_field_match_query(input_query=\"本月101部门1组的广告花费占比是多少？\",and_conditions={'metadata.app_id':1})\n",
    "for i in a:\n",
    "    print(i)"
   ]
  },
  {
   "cell_type": "code",
   "execution_count": 4,
   "metadata": {},
   "outputs": [
    {
     "name": "stdout",
     "output_type": "stream",
     "text": [
      "主题：用户基础信息,段落内容：当前用户姓名为许思晓,邮箱为xusixiao@sailvan.com,性别为女,所在公司为深圳市赛维网络科技有限公司,工号为04871,用户状态为在职,所属一级团队名称为服装BU,所属一级团队ID为16081,所属二级团队名称为销售中心7部,所属二级团队ID为16134,所属三级团队名称为None,所属三级团队ID为None,所属四级团队名称为None,所属四级团队ID为None,所属五级团队名称为None,所属五级团队ID为None\n",
      "主题：用户基础信息,段落内容：当前用户姓名为吴晓思,邮箱为wuxiaosi@sailvan.com,性别为女,所在公司为深圳市赛维网络科技有限公司,工号为10375,用户状态为离职,所属一级团队名称为包装优化组,所属一级团队ID为10621,所属二级团队名称为None,所属二级团队ID为None,所属三级团队名称为None,所属三级团队ID为None,所属四级团队名称为None,所属四级团队ID为None,所属五级团队名称为None,所属五级团队ID为None\n",
      "主题：用户基础信息,段落内容：当前用户姓名为许晓旸,邮箱为xuxiaoyang@sailvan.com,性别为女,所在公司为深圳市赛维网络科技有限公司,工号为10793,用户状态为离职,所属一级团队名称为财务中心,所属一级团队ID为22,所属二级团队名称为预算分析部,所属二级团队ID为5562,所属三级团队名称为None,所属三级团队ID为None,所属四级团队名称为None,所属四级团队ID为None,所属五级团队名称为None,所属五级团队ID为None\n",
      "主题：用户基础信息,段落内容：当前用户姓名为张思思C,邮箱为zhangsisiC@sailvan.com,性别为女,所在公司为深圳市赛维网络科技有限公司,工号为06282,用户状态为在职,所属一级团队名称为服装BU,所属一级团队ID为16081,所属二级团队名称为销售中心7部,所属二级团队ID为16134,所属三级团队名称为销售194部,所属三级团队ID为16203,所属四级团队名称为销售194部2组,所属四级团队ID为16582,所属五级团队名称为None,所属五级团队ID为None\n",
      "主题：用户基础信息,段落内容：当前用户姓名为黄思品,邮箱为huangsipin@sailvan.com,性别为男,所在公司为深圳市赛维网络科技有限公司,工号为07036,用户状态为在职,所属一级团队名称为销售中心13部,所属一级团队ID为16102,所属二级团队名称为销售148部,所属二级团队ID为9006192,所属三级团队名称为None,所属三级团队ID为None,所属四级团队名称为None,所属四级团队ID为None,所属五级团队名称为None,所属五级团队ID为None\n"
     ]
    }
   ],
   "source": [
    "b = app.multi_field_match_query(input_query=\"许思晓\",and_conditions={'metadata.app_id':1})\n",
    "for j in b:\n",
    "    print(j)"
   ]
  },
  {
   "cell_type": "code",
   "execution_count": 5,
   "metadata": {},
   "outputs": [
    {
     "ename": "NotFoundError",
     "evalue": "Error code: 404 - {'error': {'code': '404', 'message': 'Resource not found'}}",
     "output_type": "error",
     "traceback": [
      "\u001b[1;31m---------------------------------------------------------------------------\u001b[0m",
      "\u001b[1;31mNotFoundError\u001b[0m                             Traceback (most recent call last)",
      "Cell \u001b[1;32mIn[5], line 1\u001b[0m\n\u001b[1;32m----> 1\u001b[0m a\u001b[38;5;241m=\u001b[39m \u001b[43mapp\u001b[49m\u001b[38;5;241;43m.\u001b[39;49m\u001b[43mquery\u001b[49m\u001b[43m(\u001b[49m\u001b[38;5;124;43m\"\u001b[39;49m\u001b[38;5;124;43m总结下停薪留职的流程\u001b[39;49m\u001b[38;5;124;43m\"\u001b[39;49m\u001b[43m)\u001b[49m\n\u001b[0;32m      2\u001b[0m \u001b[38;5;28mprint\u001b[39m(a)\n",
      "File \u001b[1;32mE:\\embedchain\\embedchain\\embedchain.py:603\u001b[0m, in \u001b[0;36mEmbedChain.query\u001b[1;34m(self, input_query, config, dry_run, where, citations, **kwargs)\u001b[0m\n\u001b[0;32m    592\u001b[0m     answer \u001b[38;5;241m=\u001b[39m adapt(\n\u001b[0;32m    593\u001b[0m         llm_handler\u001b[38;5;241m=\u001b[39m\u001b[38;5;28mself\u001b[39m\u001b[38;5;241m.\u001b[39mllm\u001b[38;5;241m.\u001b[39mquery,\n\u001b[0;32m    594\u001b[0m         cache_data_convert\u001b[38;5;241m=\u001b[39mgptcache_data_convert,\n\u001b[1;32m   (...)\u001b[0m\n\u001b[0;32m    600\u001b[0m         dry_run\u001b[38;5;241m=\u001b[39mdry_run,\n\u001b[0;32m    601\u001b[0m     )\n\u001b[0;32m    602\u001b[0m \u001b[38;5;28;01melse\u001b[39;00m:\n\u001b[1;32m--> 603\u001b[0m     answer \u001b[38;5;241m=\u001b[39m \u001b[38;5;28;43mself\u001b[39;49m\u001b[38;5;241;43m.\u001b[39;49m\u001b[43mllm\u001b[49m\u001b[38;5;241;43m.\u001b[39;49m\u001b[43mquery\u001b[49m\u001b[43m(\u001b[49m\n\u001b[0;32m    604\u001b[0m \u001b[43m        \u001b[49m\u001b[43minput_query\u001b[49m\u001b[38;5;241;43m=\u001b[39;49m\u001b[43minput_query\u001b[49m\u001b[43m,\u001b[49m\u001b[43m \u001b[49m\u001b[43mcontexts\u001b[49m\u001b[38;5;241;43m=\u001b[39;49m\u001b[43mcontexts_data_for_llm_query\u001b[49m\u001b[43m,\u001b[49m\u001b[43m \u001b[49m\u001b[43mconfig\u001b[49m\u001b[38;5;241;43m=\u001b[39;49m\u001b[43mconfig\u001b[49m\u001b[43m,\u001b[49m\u001b[43m \u001b[49m\u001b[43mdry_run\u001b[49m\u001b[38;5;241;43m=\u001b[39;49m\u001b[43mdry_run\u001b[49m\n\u001b[0;32m    605\u001b[0m \u001b[43m    \u001b[49m\u001b[43m)\u001b[49m\n\u001b[0;32m    607\u001b[0m \u001b[38;5;66;03m# Send anonymous telemetry\u001b[39;00m\n\u001b[0;32m    608\u001b[0m \u001b[38;5;28mself\u001b[39m\u001b[38;5;241m.\u001b[39mtelemetry\u001b[38;5;241m.\u001b[39mcapture(event_name\u001b[38;5;241m=\u001b[39m\u001b[38;5;124m\"\u001b[39m\u001b[38;5;124mquery\u001b[39m\u001b[38;5;124m\"\u001b[39m, properties\u001b[38;5;241m=\u001b[39m\u001b[38;5;28mself\u001b[39m\u001b[38;5;241m.\u001b[39m_telemetry_props)\n",
      "File \u001b[1;32mE:\\embedchain\\embedchain\\llm\\base.py:221\u001b[0m, in \u001b[0;36mBaseLlm.query\u001b[1;34m(self, input_query, contexts, config, dry_run)\u001b[0m\n\u001b[0;32m    218\u001b[0m \u001b[38;5;28;01mif\u001b[39;00m dry_run:\n\u001b[0;32m    219\u001b[0m     \u001b[38;5;28;01mreturn\u001b[39;00m prompt\n\u001b[1;32m--> 221\u001b[0m answer \u001b[38;5;241m=\u001b[39m \u001b[38;5;28;43mself\u001b[39;49m\u001b[38;5;241;43m.\u001b[39;49m\u001b[43mget_answer_from_llm\u001b[49m\u001b[43m(\u001b[49m\u001b[43mprompt\u001b[49m\u001b[43m)\u001b[49m\n\u001b[0;32m    222\u001b[0m \u001b[38;5;28;01mif\u001b[39;00m \u001b[38;5;28misinstance\u001b[39m(answer, \u001b[38;5;28mstr\u001b[39m):\n\u001b[0;32m    223\u001b[0m     logging\u001b[38;5;241m.\u001b[39minfo(\u001b[38;5;124mf\u001b[39m\u001b[38;5;124m\"\u001b[39m\u001b[38;5;124mAnswer: \u001b[39m\u001b[38;5;132;01m{\u001b[39;00manswer\u001b[38;5;132;01m}\u001b[39;00m\u001b[38;5;124m\"\u001b[39m)\n",
      "File \u001b[1;32mE:\\embedchain\\embedchain\\llm\\base.py:143\u001b[0m, in \u001b[0;36mBaseLlm.get_answer_from_llm\u001b[1;34m(self, prompt)\u001b[0m\n\u001b[0;32m    133\u001b[0m \u001b[38;5;28;01mdef\u001b[39;00m \u001b[38;5;21mget_answer_from_llm\u001b[39m(\u001b[38;5;28mself\u001b[39m, prompt: \u001b[38;5;28mstr\u001b[39m):\n\u001b[0;32m    134\u001b[0m \u001b[38;5;250m    \u001b[39m\u001b[38;5;124;03m\"\"\"\u001b[39;00m\n\u001b[0;32m    135\u001b[0m \u001b[38;5;124;03m    Gets an answer based on the given query and context by passing it\u001b[39;00m\n\u001b[0;32m    136\u001b[0m \u001b[38;5;124;03m    to an LLM.\u001b[39;00m\n\u001b[1;32m   (...)\u001b[0m\n\u001b[0;32m    141\u001b[0m \u001b[38;5;124;03m    :rtype: _type_\u001b[39;00m\n\u001b[0;32m    142\u001b[0m \u001b[38;5;124;03m    \"\"\"\u001b[39;00m\n\u001b[1;32m--> 143\u001b[0m     \u001b[38;5;28;01mreturn\u001b[39;00m \u001b[38;5;28;43mself\u001b[39;49m\u001b[38;5;241;43m.\u001b[39;49m\u001b[43mget_llm_model_answer\u001b[49m\u001b[43m(\u001b[49m\u001b[43mprompt\u001b[49m\u001b[43m)\u001b[49m\n",
      "File \u001b[1;32mE:\\embedchain\\embedchain\\llm\\openai.py:27\u001b[0m, in \u001b[0;36mOpenAILlm.get_llm_model_answer\u001b[1;34m(self, prompt)\u001b[0m\n\u001b[0;32m     26\u001b[0m \u001b[38;5;28;01mdef\u001b[39;00m \u001b[38;5;21mget_llm_model_answer\u001b[39m(\u001b[38;5;28mself\u001b[39m, prompt) \u001b[38;5;241m-\u001b[39m\u001b[38;5;241m>\u001b[39m \u001b[38;5;28mstr\u001b[39m:\n\u001b[1;32m---> 27\u001b[0m     response \u001b[38;5;241m=\u001b[39m \u001b[38;5;28;43mself\u001b[39;49m\u001b[38;5;241;43m.\u001b[39;49m\u001b[43m_get_answer\u001b[49m\u001b[43m(\u001b[49m\u001b[43mprompt\u001b[49m\u001b[43m,\u001b[49m\u001b[43m \u001b[49m\u001b[38;5;28;43mself\u001b[39;49m\u001b[38;5;241;43m.\u001b[39;49m\u001b[43mconfig\u001b[49m\u001b[43m)\u001b[49m\n\u001b[0;32m     28\u001b[0m     \u001b[38;5;28;01mreturn\u001b[39;00m response\n",
      "File \u001b[1;32mE:\\embedchain\\embedchain\\llm\\openai.py:52\u001b[0m, in \u001b[0;36mOpenAILlm._get_answer\u001b[1;34m(self, prompt, config)\u001b[0m\n\u001b[0;32m     49\u001b[0m \u001b[38;5;28;01mif\u001b[39;00m \u001b[38;5;28mself\u001b[39m\u001b[38;5;241m.\u001b[39mtools:\n\u001b[0;32m     50\u001b[0m     \u001b[38;5;28;01mreturn\u001b[39;00m \u001b[38;5;28mself\u001b[39m\u001b[38;5;241m.\u001b[39m_query_function_call(chat, \u001b[38;5;28mself\u001b[39m\u001b[38;5;241m.\u001b[39mtools, messages)\n\u001b[1;32m---> 52\u001b[0m \u001b[38;5;28;01mreturn\u001b[39;00m \u001b[43mchat\u001b[49m\u001b[38;5;241;43m.\u001b[39;49m\u001b[43minvoke\u001b[49m\u001b[43m(\u001b[49m\u001b[43mmessages\u001b[49m\u001b[43m)\u001b[49m\u001b[38;5;241m.\u001b[39mcontent\n",
      "File \u001b[1;32me:\\embedchain\\.venv\\Lib\\site-packages\\langchain_core\\language_models\\chat_models.py:166\u001b[0m, in \u001b[0;36mBaseChatModel.invoke\u001b[1;34m(self, input, config, stop, **kwargs)\u001b[0m\n\u001b[0;32m    155\u001b[0m \u001b[38;5;28;01mdef\u001b[39;00m \u001b[38;5;21minvoke\u001b[39m(\n\u001b[0;32m    156\u001b[0m     \u001b[38;5;28mself\u001b[39m,\n\u001b[0;32m    157\u001b[0m     \u001b[38;5;28minput\u001b[39m: LanguageModelInput,\n\u001b[1;32m   (...)\u001b[0m\n\u001b[0;32m    161\u001b[0m     \u001b[38;5;241m*\u001b[39m\u001b[38;5;241m*\u001b[39mkwargs: Any,\n\u001b[0;32m    162\u001b[0m ) \u001b[38;5;241m-\u001b[39m\u001b[38;5;241m>\u001b[39m BaseMessage:\n\u001b[0;32m    163\u001b[0m     config \u001b[38;5;241m=\u001b[39m ensure_config(config)\n\u001b[0;32m    164\u001b[0m     \u001b[38;5;28;01mreturn\u001b[39;00m cast(\n\u001b[0;32m    165\u001b[0m         ChatGeneration,\n\u001b[1;32m--> 166\u001b[0m         \u001b[38;5;28;43mself\u001b[39;49m\u001b[38;5;241;43m.\u001b[39;49m\u001b[43mgenerate_prompt\u001b[49m\u001b[43m(\u001b[49m\n\u001b[0;32m    167\u001b[0m \u001b[43m            \u001b[49m\u001b[43m[\u001b[49m\u001b[38;5;28;43mself\u001b[39;49m\u001b[38;5;241;43m.\u001b[39;49m\u001b[43m_convert_input\u001b[49m\u001b[43m(\u001b[49m\u001b[38;5;28;43minput\u001b[39;49m\u001b[43m)\u001b[49m\u001b[43m]\u001b[49m\u001b[43m,\u001b[49m\n\u001b[0;32m    168\u001b[0m \u001b[43m            \u001b[49m\u001b[43mstop\u001b[49m\u001b[38;5;241;43m=\u001b[39;49m\u001b[43mstop\u001b[49m\u001b[43m,\u001b[49m\n\u001b[0;32m    169\u001b[0m \u001b[43m            \u001b[49m\u001b[43mcallbacks\u001b[49m\u001b[38;5;241;43m=\u001b[39;49m\u001b[43mconfig\u001b[49m\u001b[38;5;241;43m.\u001b[39;49m\u001b[43mget\u001b[49m\u001b[43m(\u001b[49m\u001b[38;5;124;43m\"\u001b[39;49m\u001b[38;5;124;43mcallbacks\u001b[39;49m\u001b[38;5;124;43m\"\u001b[39;49m\u001b[43m)\u001b[49m\u001b[43m,\u001b[49m\n\u001b[0;32m    170\u001b[0m \u001b[43m            \u001b[49m\u001b[43mtags\u001b[49m\u001b[38;5;241;43m=\u001b[39;49m\u001b[43mconfig\u001b[49m\u001b[38;5;241;43m.\u001b[39;49m\u001b[43mget\u001b[49m\u001b[43m(\u001b[49m\u001b[38;5;124;43m\"\u001b[39;49m\u001b[38;5;124;43mtags\u001b[39;49m\u001b[38;5;124;43m\"\u001b[39;49m\u001b[43m)\u001b[49m\u001b[43m,\u001b[49m\n\u001b[0;32m    171\u001b[0m \u001b[43m            \u001b[49m\u001b[43mmetadata\u001b[49m\u001b[38;5;241;43m=\u001b[39;49m\u001b[43mconfig\u001b[49m\u001b[38;5;241;43m.\u001b[39;49m\u001b[43mget\u001b[49m\u001b[43m(\u001b[49m\u001b[38;5;124;43m\"\u001b[39;49m\u001b[38;5;124;43mmetadata\u001b[39;49m\u001b[38;5;124;43m\"\u001b[39;49m\u001b[43m)\u001b[49m\u001b[43m,\u001b[49m\n\u001b[0;32m    172\u001b[0m \u001b[43m            \u001b[49m\u001b[43mrun_name\u001b[49m\u001b[38;5;241;43m=\u001b[39;49m\u001b[43mconfig\u001b[49m\u001b[38;5;241;43m.\u001b[39;49m\u001b[43mget\u001b[49m\u001b[43m(\u001b[49m\u001b[38;5;124;43m\"\u001b[39;49m\u001b[38;5;124;43mrun_name\u001b[39;49m\u001b[38;5;124;43m\"\u001b[39;49m\u001b[43m)\u001b[49m\u001b[43m,\u001b[49m\n\u001b[0;32m    173\u001b[0m \u001b[43m            \u001b[49m\u001b[38;5;241;43m*\u001b[39;49m\u001b[38;5;241;43m*\u001b[39;49m\u001b[43mkwargs\u001b[49m\u001b[43m,\u001b[49m\n\u001b[0;32m    174\u001b[0m \u001b[43m        \u001b[49m\u001b[43m)\u001b[49m\u001b[38;5;241m.\u001b[39mgenerations[\u001b[38;5;241m0\u001b[39m][\u001b[38;5;241m0\u001b[39m],\n\u001b[0;32m    175\u001b[0m     )\u001b[38;5;241m.\u001b[39mmessage\n",
      "File \u001b[1;32me:\\embedchain\\.venv\\Lib\\site-packages\\langchain_core\\language_models\\chat_models.py:544\u001b[0m, in \u001b[0;36mBaseChatModel.generate_prompt\u001b[1;34m(self, prompts, stop, callbacks, **kwargs)\u001b[0m\n\u001b[0;32m    536\u001b[0m \u001b[38;5;28;01mdef\u001b[39;00m \u001b[38;5;21mgenerate_prompt\u001b[39m(\n\u001b[0;32m    537\u001b[0m     \u001b[38;5;28mself\u001b[39m,\n\u001b[0;32m    538\u001b[0m     prompts: List[PromptValue],\n\u001b[1;32m   (...)\u001b[0m\n\u001b[0;32m    541\u001b[0m     \u001b[38;5;241m*\u001b[39m\u001b[38;5;241m*\u001b[39mkwargs: Any,\n\u001b[0;32m    542\u001b[0m ) \u001b[38;5;241m-\u001b[39m\u001b[38;5;241m>\u001b[39m LLMResult:\n\u001b[0;32m    543\u001b[0m     prompt_messages \u001b[38;5;241m=\u001b[39m [p\u001b[38;5;241m.\u001b[39mto_messages() \u001b[38;5;28;01mfor\u001b[39;00m p \u001b[38;5;129;01min\u001b[39;00m prompts]\n\u001b[1;32m--> 544\u001b[0m     \u001b[38;5;28;01mreturn\u001b[39;00m \u001b[38;5;28;43mself\u001b[39;49m\u001b[38;5;241;43m.\u001b[39;49m\u001b[43mgenerate\u001b[49m\u001b[43m(\u001b[49m\u001b[43mprompt_messages\u001b[49m\u001b[43m,\u001b[49m\u001b[43m \u001b[49m\u001b[43mstop\u001b[49m\u001b[38;5;241;43m=\u001b[39;49m\u001b[43mstop\u001b[49m\u001b[43m,\u001b[49m\u001b[43m \u001b[49m\u001b[43mcallbacks\u001b[49m\u001b[38;5;241;43m=\u001b[39;49m\u001b[43mcallbacks\u001b[49m\u001b[43m,\u001b[49m\u001b[43m \u001b[49m\u001b[38;5;241;43m*\u001b[39;49m\u001b[38;5;241;43m*\u001b[39;49m\u001b[43mkwargs\u001b[49m\u001b[43m)\u001b[49m\n",
      "File \u001b[1;32me:\\embedchain\\.venv\\Lib\\site-packages\\langchain_core\\language_models\\chat_models.py:408\u001b[0m, in \u001b[0;36mBaseChatModel.generate\u001b[1;34m(self, messages, stop, callbacks, tags, metadata, run_name, **kwargs)\u001b[0m\n\u001b[0;32m    406\u001b[0m         \u001b[38;5;28;01mif\u001b[39;00m run_managers:\n\u001b[0;32m    407\u001b[0m             run_managers[i]\u001b[38;5;241m.\u001b[39mon_llm_error(e, response\u001b[38;5;241m=\u001b[39mLLMResult(generations\u001b[38;5;241m=\u001b[39m[]))\n\u001b[1;32m--> 408\u001b[0m         \u001b[38;5;28;01mraise\u001b[39;00m e\n\u001b[0;32m    409\u001b[0m flattened_outputs \u001b[38;5;241m=\u001b[39m [\n\u001b[0;32m    410\u001b[0m     LLMResult(generations\u001b[38;5;241m=\u001b[39m[res\u001b[38;5;241m.\u001b[39mgenerations], llm_output\u001b[38;5;241m=\u001b[39mres\u001b[38;5;241m.\u001b[39mllm_output)\n\u001b[0;32m    411\u001b[0m     \u001b[38;5;28;01mfor\u001b[39;00m res \u001b[38;5;129;01min\u001b[39;00m results\n\u001b[0;32m    412\u001b[0m ]\n\u001b[0;32m    413\u001b[0m llm_output \u001b[38;5;241m=\u001b[39m \u001b[38;5;28mself\u001b[39m\u001b[38;5;241m.\u001b[39m_combine_llm_outputs([res\u001b[38;5;241m.\u001b[39mllm_output \u001b[38;5;28;01mfor\u001b[39;00m res \u001b[38;5;129;01min\u001b[39;00m results])\n",
      "File \u001b[1;32me:\\embedchain\\.venv\\Lib\\site-packages\\langchain_core\\language_models\\chat_models.py:398\u001b[0m, in \u001b[0;36mBaseChatModel.generate\u001b[1;34m(self, messages, stop, callbacks, tags, metadata, run_name, **kwargs)\u001b[0m\n\u001b[0;32m    395\u001b[0m \u001b[38;5;28;01mfor\u001b[39;00m i, m \u001b[38;5;129;01min\u001b[39;00m \u001b[38;5;28menumerate\u001b[39m(messages):\n\u001b[0;32m    396\u001b[0m     \u001b[38;5;28;01mtry\u001b[39;00m:\n\u001b[0;32m    397\u001b[0m         results\u001b[38;5;241m.\u001b[39mappend(\n\u001b[1;32m--> 398\u001b[0m             \u001b[38;5;28;43mself\u001b[39;49m\u001b[38;5;241;43m.\u001b[39;49m\u001b[43m_generate_with_cache\u001b[49m\u001b[43m(\u001b[49m\n\u001b[0;32m    399\u001b[0m \u001b[43m                \u001b[49m\u001b[43mm\u001b[49m\u001b[43m,\u001b[49m\n\u001b[0;32m    400\u001b[0m \u001b[43m                \u001b[49m\u001b[43mstop\u001b[49m\u001b[38;5;241;43m=\u001b[39;49m\u001b[43mstop\u001b[49m\u001b[43m,\u001b[49m\n\u001b[0;32m    401\u001b[0m \u001b[43m                \u001b[49m\u001b[43mrun_manager\u001b[49m\u001b[38;5;241;43m=\u001b[39;49m\u001b[43mrun_managers\u001b[49m\u001b[43m[\u001b[49m\u001b[43mi\u001b[49m\u001b[43m]\u001b[49m\u001b[43m \u001b[49m\u001b[38;5;28;43;01mif\u001b[39;49;00m\u001b[43m \u001b[49m\u001b[43mrun_managers\u001b[49m\u001b[43m \u001b[49m\u001b[38;5;28;43;01melse\u001b[39;49;00m\u001b[43m \u001b[49m\u001b[38;5;28;43;01mNone\u001b[39;49;00m\u001b[43m,\u001b[49m\n\u001b[0;32m    402\u001b[0m \u001b[43m                \u001b[49m\u001b[38;5;241;43m*\u001b[39;49m\u001b[38;5;241;43m*\u001b[39;49m\u001b[43mkwargs\u001b[49m\u001b[43m,\u001b[49m\n\u001b[0;32m    403\u001b[0m \u001b[43m            \u001b[49m\u001b[43m)\u001b[49m\n\u001b[0;32m    404\u001b[0m         )\n\u001b[0;32m    405\u001b[0m     \u001b[38;5;28;01mexcept\u001b[39;00m \u001b[38;5;167;01mBaseException\u001b[39;00m \u001b[38;5;28;01mas\u001b[39;00m e:\n\u001b[0;32m    406\u001b[0m         \u001b[38;5;28;01mif\u001b[39;00m run_managers:\n",
      "File \u001b[1;32me:\\embedchain\\.venv\\Lib\\site-packages\\langchain_core\\language_models\\chat_models.py:577\u001b[0m, in \u001b[0;36mBaseChatModel._generate_with_cache\u001b[1;34m(self, messages, stop, run_manager, **kwargs)\u001b[0m\n\u001b[0;32m    573\u001b[0m     \u001b[38;5;28;01mraise\u001b[39;00m \u001b[38;5;167;01mValueError\u001b[39;00m(\n\u001b[0;32m    574\u001b[0m         \u001b[38;5;124m\"\u001b[39m\u001b[38;5;124mAsked to cache, but no cache found at `langchain.cache`.\u001b[39m\u001b[38;5;124m\"\u001b[39m\n\u001b[0;32m    575\u001b[0m     )\n\u001b[0;32m    576\u001b[0m \u001b[38;5;28;01mif\u001b[39;00m new_arg_supported:\n\u001b[1;32m--> 577\u001b[0m     \u001b[38;5;28;01mreturn\u001b[39;00m \u001b[38;5;28;43mself\u001b[39;49m\u001b[38;5;241;43m.\u001b[39;49m\u001b[43m_generate\u001b[49m\u001b[43m(\u001b[49m\n\u001b[0;32m    578\u001b[0m \u001b[43m        \u001b[49m\u001b[43mmessages\u001b[49m\u001b[43m,\u001b[49m\u001b[43m \u001b[49m\u001b[43mstop\u001b[49m\u001b[38;5;241;43m=\u001b[39;49m\u001b[43mstop\u001b[49m\u001b[43m,\u001b[49m\u001b[43m \u001b[49m\u001b[43mrun_manager\u001b[49m\u001b[38;5;241;43m=\u001b[39;49m\u001b[43mrun_manager\u001b[49m\u001b[43m,\u001b[49m\u001b[43m \u001b[49m\u001b[38;5;241;43m*\u001b[39;49m\u001b[38;5;241;43m*\u001b[39;49m\u001b[43mkwargs\u001b[49m\n\u001b[0;32m    579\u001b[0m \u001b[43m    \u001b[49m\u001b[43m)\u001b[49m\n\u001b[0;32m    580\u001b[0m \u001b[38;5;28;01melse\u001b[39;00m:\n\u001b[0;32m    581\u001b[0m     \u001b[38;5;28;01mreturn\u001b[39;00m \u001b[38;5;28mself\u001b[39m\u001b[38;5;241m.\u001b[39m_generate(messages, stop\u001b[38;5;241m=\u001b[39mstop, \u001b[38;5;241m*\u001b[39m\u001b[38;5;241m*\u001b[39mkwargs)\n",
      "File \u001b[1;32me:\\embedchain\\.venv\\Lib\\site-packages\\langchain_openai\\chat_models\\base.py:451\u001b[0m, in \u001b[0;36mChatOpenAI._generate\u001b[1;34m(self, messages, stop, run_manager, stream, **kwargs)\u001b[0m\n\u001b[0;32m    445\u001b[0m message_dicts, params \u001b[38;5;241m=\u001b[39m \u001b[38;5;28mself\u001b[39m\u001b[38;5;241m.\u001b[39m_create_message_dicts(messages, stop)\n\u001b[0;32m    446\u001b[0m params \u001b[38;5;241m=\u001b[39m {\n\u001b[0;32m    447\u001b[0m     \u001b[38;5;241m*\u001b[39m\u001b[38;5;241m*\u001b[39mparams,\n\u001b[0;32m    448\u001b[0m     \u001b[38;5;241m*\u001b[39m\u001b[38;5;241m*\u001b[39m({\u001b[38;5;124m\"\u001b[39m\u001b[38;5;124mstream\u001b[39m\u001b[38;5;124m\"\u001b[39m: stream} \u001b[38;5;28;01mif\u001b[39;00m stream \u001b[38;5;129;01mis\u001b[39;00m \u001b[38;5;129;01mnot\u001b[39;00m \u001b[38;5;28;01mNone\u001b[39;00m \u001b[38;5;28;01melse\u001b[39;00m {}),\n\u001b[0;32m    449\u001b[0m     \u001b[38;5;241m*\u001b[39m\u001b[38;5;241m*\u001b[39mkwargs,\n\u001b[0;32m    450\u001b[0m }\n\u001b[1;32m--> 451\u001b[0m response \u001b[38;5;241m=\u001b[39m \u001b[38;5;28;43mself\u001b[39;49m\u001b[38;5;241;43m.\u001b[39;49m\u001b[43mclient\u001b[49m\u001b[38;5;241;43m.\u001b[39;49m\u001b[43mcreate\u001b[49m\u001b[43m(\u001b[49m\u001b[43mmessages\u001b[49m\u001b[38;5;241;43m=\u001b[39;49m\u001b[43mmessage_dicts\u001b[49m\u001b[43m,\u001b[49m\u001b[43m \u001b[49m\u001b[38;5;241;43m*\u001b[39;49m\u001b[38;5;241;43m*\u001b[39;49m\u001b[43mparams\u001b[49m\u001b[43m)\u001b[49m\n\u001b[0;32m    452\u001b[0m \u001b[38;5;28;01mreturn\u001b[39;00m \u001b[38;5;28mself\u001b[39m\u001b[38;5;241m.\u001b[39m_create_chat_result(response)\n",
      "File \u001b[1;32me:\\embedchain\\.venv\\Lib\\site-packages\\openai\\_utils\\_utils.py:275\u001b[0m, in \u001b[0;36mrequired_args.<locals>.inner.<locals>.wrapper\u001b[1;34m(*args, **kwargs)\u001b[0m\n\u001b[0;32m    273\u001b[0m             msg \u001b[38;5;241m=\u001b[39m \u001b[38;5;124mf\u001b[39m\u001b[38;5;124m\"\u001b[39m\u001b[38;5;124mMissing required argument: \u001b[39m\u001b[38;5;132;01m{\u001b[39;00mquote(missing[\u001b[38;5;241m0\u001b[39m])\u001b[38;5;132;01m}\u001b[39;00m\u001b[38;5;124m\"\u001b[39m\n\u001b[0;32m    274\u001b[0m     \u001b[38;5;28;01mraise\u001b[39;00m \u001b[38;5;167;01mTypeError\u001b[39;00m(msg)\n\u001b[1;32m--> 275\u001b[0m \u001b[38;5;28;01mreturn\u001b[39;00m \u001b[43mfunc\u001b[49m\u001b[43m(\u001b[49m\u001b[38;5;241;43m*\u001b[39;49m\u001b[43margs\u001b[49m\u001b[43m,\u001b[49m\u001b[43m \u001b[49m\u001b[38;5;241;43m*\u001b[39;49m\u001b[38;5;241;43m*\u001b[39;49m\u001b[43mkwargs\u001b[49m\u001b[43m)\u001b[49m\n",
      "File \u001b[1;32me:\\embedchain\\.venv\\Lib\\site-packages\\openai\\resources\\chat\\completions.py:663\u001b[0m, in \u001b[0;36mCompletions.create\u001b[1;34m(self, messages, model, frequency_penalty, function_call, functions, logit_bias, logprobs, max_tokens, n, presence_penalty, response_format, seed, stop, stream, temperature, tool_choice, tools, top_logprobs, top_p, user, extra_headers, extra_query, extra_body, timeout)\u001b[0m\n\u001b[0;32m    611\u001b[0m \u001b[38;5;129m@required_args\u001b[39m([\u001b[38;5;124m\"\u001b[39m\u001b[38;5;124mmessages\u001b[39m\u001b[38;5;124m\"\u001b[39m, \u001b[38;5;124m\"\u001b[39m\u001b[38;5;124mmodel\u001b[39m\u001b[38;5;124m\"\u001b[39m], [\u001b[38;5;124m\"\u001b[39m\u001b[38;5;124mmessages\u001b[39m\u001b[38;5;124m\"\u001b[39m, \u001b[38;5;124m\"\u001b[39m\u001b[38;5;124mmodel\u001b[39m\u001b[38;5;124m\"\u001b[39m, \u001b[38;5;124m\"\u001b[39m\u001b[38;5;124mstream\u001b[39m\u001b[38;5;124m\"\u001b[39m])\n\u001b[0;32m    612\u001b[0m \u001b[38;5;28;01mdef\u001b[39;00m \u001b[38;5;21mcreate\u001b[39m(\n\u001b[0;32m    613\u001b[0m     \u001b[38;5;28mself\u001b[39m,\n\u001b[1;32m   (...)\u001b[0m\n\u001b[0;32m    661\u001b[0m     timeout: \u001b[38;5;28mfloat\u001b[39m \u001b[38;5;241m|\u001b[39m httpx\u001b[38;5;241m.\u001b[39mTimeout \u001b[38;5;241m|\u001b[39m \u001b[38;5;28;01mNone\u001b[39;00m \u001b[38;5;241m|\u001b[39m NotGiven \u001b[38;5;241m=\u001b[39m NOT_GIVEN,\n\u001b[0;32m    662\u001b[0m ) \u001b[38;5;241m-\u001b[39m\u001b[38;5;241m>\u001b[39m ChatCompletion \u001b[38;5;241m|\u001b[39m Stream[ChatCompletionChunk]:\n\u001b[1;32m--> 663\u001b[0m     \u001b[38;5;28;01mreturn\u001b[39;00m \u001b[38;5;28;43mself\u001b[39;49m\u001b[38;5;241;43m.\u001b[39;49m\u001b[43m_post\u001b[49m\u001b[43m(\u001b[49m\n\u001b[0;32m    664\u001b[0m \u001b[43m        \u001b[49m\u001b[38;5;124;43m\"\u001b[39;49m\u001b[38;5;124;43m/chat/completions\u001b[39;49m\u001b[38;5;124;43m\"\u001b[39;49m\u001b[43m,\u001b[49m\n\u001b[0;32m    665\u001b[0m \u001b[43m        \u001b[49m\u001b[43mbody\u001b[49m\u001b[38;5;241;43m=\u001b[39;49m\u001b[43mmaybe_transform\u001b[49m\u001b[43m(\u001b[49m\n\u001b[0;32m    666\u001b[0m \u001b[43m            \u001b[49m\u001b[43m{\u001b[49m\n\u001b[0;32m    667\u001b[0m \u001b[43m                \u001b[49m\u001b[38;5;124;43m\"\u001b[39;49m\u001b[38;5;124;43mmessages\u001b[39;49m\u001b[38;5;124;43m\"\u001b[39;49m\u001b[43m:\u001b[49m\u001b[43m \u001b[49m\u001b[43mmessages\u001b[49m\u001b[43m,\u001b[49m\n\u001b[0;32m    668\u001b[0m \u001b[43m                \u001b[49m\u001b[38;5;124;43m\"\u001b[39;49m\u001b[38;5;124;43mmodel\u001b[39;49m\u001b[38;5;124;43m\"\u001b[39;49m\u001b[43m:\u001b[49m\u001b[43m \u001b[49m\u001b[43mmodel\u001b[49m\u001b[43m,\u001b[49m\n\u001b[0;32m    669\u001b[0m \u001b[43m                \u001b[49m\u001b[38;5;124;43m\"\u001b[39;49m\u001b[38;5;124;43mfrequency_penalty\u001b[39;49m\u001b[38;5;124;43m\"\u001b[39;49m\u001b[43m:\u001b[49m\u001b[43m \u001b[49m\u001b[43mfrequency_penalty\u001b[49m\u001b[43m,\u001b[49m\n\u001b[0;32m    670\u001b[0m \u001b[43m                \u001b[49m\u001b[38;5;124;43m\"\u001b[39;49m\u001b[38;5;124;43mfunction_call\u001b[39;49m\u001b[38;5;124;43m\"\u001b[39;49m\u001b[43m:\u001b[49m\u001b[43m \u001b[49m\u001b[43mfunction_call\u001b[49m\u001b[43m,\u001b[49m\n\u001b[0;32m    671\u001b[0m \u001b[43m                \u001b[49m\u001b[38;5;124;43m\"\u001b[39;49m\u001b[38;5;124;43mfunctions\u001b[39;49m\u001b[38;5;124;43m\"\u001b[39;49m\u001b[43m:\u001b[49m\u001b[43m \u001b[49m\u001b[43mfunctions\u001b[49m\u001b[43m,\u001b[49m\n\u001b[0;32m    672\u001b[0m \u001b[43m                \u001b[49m\u001b[38;5;124;43m\"\u001b[39;49m\u001b[38;5;124;43mlogit_bias\u001b[39;49m\u001b[38;5;124;43m\"\u001b[39;49m\u001b[43m:\u001b[49m\u001b[43m \u001b[49m\u001b[43mlogit_bias\u001b[49m\u001b[43m,\u001b[49m\n\u001b[0;32m    673\u001b[0m \u001b[43m                \u001b[49m\u001b[38;5;124;43m\"\u001b[39;49m\u001b[38;5;124;43mlogprobs\u001b[39;49m\u001b[38;5;124;43m\"\u001b[39;49m\u001b[43m:\u001b[49m\u001b[43m \u001b[49m\u001b[43mlogprobs\u001b[49m\u001b[43m,\u001b[49m\n\u001b[0;32m    674\u001b[0m \u001b[43m                \u001b[49m\u001b[38;5;124;43m\"\u001b[39;49m\u001b[38;5;124;43mmax_tokens\u001b[39;49m\u001b[38;5;124;43m\"\u001b[39;49m\u001b[43m:\u001b[49m\u001b[43m \u001b[49m\u001b[43mmax_tokens\u001b[49m\u001b[43m,\u001b[49m\n\u001b[0;32m    675\u001b[0m \u001b[43m                \u001b[49m\u001b[38;5;124;43m\"\u001b[39;49m\u001b[38;5;124;43mn\u001b[39;49m\u001b[38;5;124;43m\"\u001b[39;49m\u001b[43m:\u001b[49m\u001b[43m \u001b[49m\u001b[43mn\u001b[49m\u001b[43m,\u001b[49m\n\u001b[0;32m    676\u001b[0m \u001b[43m                \u001b[49m\u001b[38;5;124;43m\"\u001b[39;49m\u001b[38;5;124;43mpresence_penalty\u001b[39;49m\u001b[38;5;124;43m\"\u001b[39;49m\u001b[43m:\u001b[49m\u001b[43m \u001b[49m\u001b[43mpresence_penalty\u001b[49m\u001b[43m,\u001b[49m\n\u001b[0;32m    677\u001b[0m \u001b[43m                \u001b[49m\u001b[38;5;124;43m\"\u001b[39;49m\u001b[38;5;124;43mresponse_format\u001b[39;49m\u001b[38;5;124;43m\"\u001b[39;49m\u001b[43m:\u001b[49m\u001b[43m \u001b[49m\u001b[43mresponse_format\u001b[49m\u001b[43m,\u001b[49m\n\u001b[0;32m    678\u001b[0m \u001b[43m                \u001b[49m\u001b[38;5;124;43m\"\u001b[39;49m\u001b[38;5;124;43mseed\u001b[39;49m\u001b[38;5;124;43m\"\u001b[39;49m\u001b[43m:\u001b[49m\u001b[43m \u001b[49m\u001b[43mseed\u001b[49m\u001b[43m,\u001b[49m\n\u001b[0;32m    679\u001b[0m \u001b[43m                \u001b[49m\u001b[38;5;124;43m\"\u001b[39;49m\u001b[38;5;124;43mstop\u001b[39;49m\u001b[38;5;124;43m\"\u001b[39;49m\u001b[43m:\u001b[49m\u001b[43m \u001b[49m\u001b[43mstop\u001b[49m\u001b[43m,\u001b[49m\n\u001b[0;32m    680\u001b[0m \u001b[43m                \u001b[49m\u001b[38;5;124;43m\"\u001b[39;49m\u001b[38;5;124;43mstream\u001b[39;49m\u001b[38;5;124;43m\"\u001b[39;49m\u001b[43m:\u001b[49m\u001b[43m \u001b[49m\u001b[43mstream\u001b[49m\u001b[43m,\u001b[49m\n\u001b[0;32m    681\u001b[0m \u001b[43m                \u001b[49m\u001b[38;5;124;43m\"\u001b[39;49m\u001b[38;5;124;43mtemperature\u001b[39;49m\u001b[38;5;124;43m\"\u001b[39;49m\u001b[43m:\u001b[49m\u001b[43m \u001b[49m\u001b[43mtemperature\u001b[49m\u001b[43m,\u001b[49m\n\u001b[0;32m    682\u001b[0m \u001b[43m                \u001b[49m\u001b[38;5;124;43m\"\u001b[39;49m\u001b[38;5;124;43mtool_choice\u001b[39;49m\u001b[38;5;124;43m\"\u001b[39;49m\u001b[43m:\u001b[49m\u001b[43m \u001b[49m\u001b[43mtool_choice\u001b[49m\u001b[43m,\u001b[49m\n\u001b[0;32m    683\u001b[0m \u001b[43m                \u001b[49m\u001b[38;5;124;43m\"\u001b[39;49m\u001b[38;5;124;43mtools\u001b[39;49m\u001b[38;5;124;43m\"\u001b[39;49m\u001b[43m:\u001b[49m\u001b[43m \u001b[49m\u001b[43mtools\u001b[49m\u001b[43m,\u001b[49m\n\u001b[0;32m    684\u001b[0m \u001b[43m                \u001b[49m\u001b[38;5;124;43m\"\u001b[39;49m\u001b[38;5;124;43mtop_logprobs\u001b[39;49m\u001b[38;5;124;43m\"\u001b[39;49m\u001b[43m:\u001b[49m\u001b[43m \u001b[49m\u001b[43mtop_logprobs\u001b[49m\u001b[43m,\u001b[49m\n\u001b[0;32m    685\u001b[0m \u001b[43m                \u001b[49m\u001b[38;5;124;43m\"\u001b[39;49m\u001b[38;5;124;43mtop_p\u001b[39;49m\u001b[38;5;124;43m\"\u001b[39;49m\u001b[43m:\u001b[49m\u001b[43m \u001b[49m\u001b[43mtop_p\u001b[49m\u001b[43m,\u001b[49m\n\u001b[0;32m    686\u001b[0m \u001b[43m                \u001b[49m\u001b[38;5;124;43m\"\u001b[39;49m\u001b[38;5;124;43muser\u001b[39;49m\u001b[38;5;124;43m\"\u001b[39;49m\u001b[43m:\u001b[49m\u001b[43m \u001b[49m\u001b[43muser\u001b[49m\u001b[43m,\u001b[49m\n\u001b[0;32m    687\u001b[0m \u001b[43m            \u001b[49m\u001b[43m}\u001b[49m\u001b[43m,\u001b[49m\n\u001b[0;32m    688\u001b[0m \u001b[43m            \u001b[49m\u001b[43mcompletion_create_params\u001b[49m\u001b[38;5;241;43m.\u001b[39;49m\u001b[43mCompletionCreateParams\u001b[49m\u001b[43m,\u001b[49m\n\u001b[0;32m    689\u001b[0m \u001b[43m        \u001b[49m\u001b[43m)\u001b[49m\u001b[43m,\u001b[49m\n\u001b[0;32m    690\u001b[0m \u001b[43m        \u001b[49m\u001b[43moptions\u001b[49m\u001b[38;5;241;43m=\u001b[39;49m\u001b[43mmake_request_options\u001b[49m\u001b[43m(\u001b[49m\n\u001b[0;32m    691\u001b[0m \u001b[43m            \u001b[49m\u001b[43mextra_headers\u001b[49m\u001b[38;5;241;43m=\u001b[39;49m\u001b[43mextra_headers\u001b[49m\u001b[43m,\u001b[49m\u001b[43m \u001b[49m\u001b[43mextra_query\u001b[49m\u001b[38;5;241;43m=\u001b[39;49m\u001b[43mextra_query\u001b[49m\u001b[43m,\u001b[49m\u001b[43m \u001b[49m\u001b[43mextra_body\u001b[49m\u001b[38;5;241;43m=\u001b[39;49m\u001b[43mextra_body\u001b[49m\u001b[43m,\u001b[49m\u001b[43m \u001b[49m\u001b[43mtimeout\u001b[49m\u001b[38;5;241;43m=\u001b[39;49m\u001b[43mtimeout\u001b[49m\n\u001b[0;32m    692\u001b[0m \u001b[43m        \u001b[49m\u001b[43m)\u001b[49m\u001b[43m,\u001b[49m\n\u001b[0;32m    693\u001b[0m \u001b[43m        \u001b[49m\u001b[43mcast_to\u001b[49m\u001b[38;5;241;43m=\u001b[39;49m\u001b[43mChatCompletion\u001b[49m\u001b[43m,\u001b[49m\n\u001b[0;32m    694\u001b[0m \u001b[43m        \u001b[49m\u001b[43mstream\u001b[49m\u001b[38;5;241;43m=\u001b[39;49m\u001b[43mstream\u001b[49m\u001b[43m \u001b[49m\u001b[38;5;129;43;01mor\u001b[39;49;00m\u001b[43m \u001b[49m\u001b[38;5;28;43;01mFalse\u001b[39;49;00m\u001b[43m,\u001b[49m\n\u001b[0;32m    695\u001b[0m \u001b[43m        \u001b[49m\u001b[43mstream_cls\u001b[49m\u001b[38;5;241;43m=\u001b[39;49m\u001b[43mStream\u001b[49m\u001b[43m[\u001b[49m\u001b[43mChatCompletionChunk\u001b[49m\u001b[43m]\u001b[49m\u001b[43m,\u001b[49m\n\u001b[0;32m    696\u001b[0m \u001b[43m    \u001b[49m\u001b[43m)\u001b[49m\n",
      "File \u001b[1;32me:\\embedchain\\.venv\\Lib\\site-packages\\openai\\_base_client.py:1200\u001b[0m, in \u001b[0;36mSyncAPIClient.post\u001b[1;34m(self, path, cast_to, body, options, files, stream, stream_cls)\u001b[0m\n\u001b[0;32m   1186\u001b[0m \u001b[38;5;28;01mdef\u001b[39;00m \u001b[38;5;21mpost\u001b[39m(\n\u001b[0;32m   1187\u001b[0m     \u001b[38;5;28mself\u001b[39m,\n\u001b[0;32m   1188\u001b[0m     path: \u001b[38;5;28mstr\u001b[39m,\n\u001b[1;32m   (...)\u001b[0m\n\u001b[0;32m   1195\u001b[0m     stream_cls: \u001b[38;5;28mtype\u001b[39m[_StreamT] \u001b[38;5;241m|\u001b[39m \u001b[38;5;28;01mNone\u001b[39;00m \u001b[38;5;241m=\u001b[39m \u001b[38;5;28;01mNone\u001b[39;00m,\n\u001b[0;32m   1196\u001b[0m ) \u001b[38;5;241m-\u001b[39m\u001b[38;5;241m>\u001b[39m ResponseT \u001b[38;5;241m|\u001b[39m _StreamT:\n\u001b[0;32m   1197\u001b[0m     opts \u001b[38;5;241m=\u001b[39m FinalRequestOptions\u001b[38;5;241m.\u001b[39mconstruct(\n\u001b[0;32m   1198\u001b[0m         method\u001b[38;5;241m=\u001b[39m\u001b[38;5;124m\"\u001b[39m\u001b[38;5;124mpost\u001b[39m\u001b[38;5;124m\"\u001b[39m, url\u001b[38;5;241m=\u001b[39mpath, json_data\u001b[38;5;241m=\u001b[39mbody, files\u001b[38;5;241m=\u001b[39mto_httpx_files(files), \u001b[38;5;241m*\u001b[39m\u001b[38;5;241m*\u001b[39moptions\n\u001b[0;32m   1199\u001b[0m     )\n\u001b[1;32m-> 1200\u001b[0m     \u001b[38;5;28;01mreturn\u001b[39;00m cast(ResponseT, \u001b[38;5;28;43mself\u001b[39;49m\u001b[38;5;241;43m.\u001b[39;49m\u001b[43mrequest\u001b[49m\u001b[43m(\u001b[49m\u001b[43mcast_to\u001b[49m\u001b[43m,\u001b[49m\u001b[43m \u001b[49m\u001b[43mopts\u001b[49m\u001b[43m,\u001b[49m\u001b[43m \u001b[49m\u001b[43mstream\u001b[49m\u001b[38;5;241;43m=\u001b[39;49m\u001b[43mstream\u001b[49m\u001b[43m,\u001b[49m\u001b[43m \u001b[49m\u001b[43mstream_cls\u001b[49m\u001b[38;5;241;43m=\u001b[39;49m\u001b[43mstream_cls\u001b[49m\u001b[43m)\u001b[49m)\n",
      "File \u001b[1;32me:\\embedchain\\.venv\\Lib\\site-packages\\openai\\_base_client.py:889\u001b[0m, in \u001b[0;36mSyncAPIClient.request\u001b[1;34m(self, cast_to, options, remaining_retries, stream, stream_cls)\u001b[0m\n\u001b[0;32m    880\u001b[0m \u001b[38;5;28;01mdef\u001b[39;00m \u001b[38;5;21mrequest\u001b[39m(\n\u001b[0;32m    881\u001b[0m     \u001b[38;5;28mself\u001b[39m,\n\u001b[0;32m    882\u001b[0m     cast_to: Type[ResponseT],\n\u001b[1;32m   (...)\u001b[0m\n\u001b[0;32m    887\u001b[0m     stream_cls: \u001b[38;5;28mtype\u001b[39m[_StreamT] \u001b[38;5;241m|\u001b[39m \u001b[38;5;28;01mNone\u001b[39;00m \u001b[38;5;241m=\u001b[39m \u001b[38;5;28;01mNone\u001b[39;00m,\n\u001b[0;32m    888\u001b[0m ) \u001b[38;5;241m-\u001b[39m\u001b[38;5;241m>\u001b[39m ResponseT \u001b[38;5;241m|\u001b[39m _StreamT:\n\u001b[1;32m--> 889\u001b[0m     \u001b[38;5;28;01mreturn\u001b[39;00m \u001b[38;5;28;43mself\u001b[39;49m\u001b[38;5;241;43m.\u001b[39;49m\u001b[43m_request\u001b[49m\u001b[43m(\u001b[49m\n\u001b[0;32m    890\u001b[0m \u001b[43m        \u001b[49m\u001b[43mcast_to\u001b[49m\u001b[38;5;241;43m=\u001b[39;49m\u001b[43mcast_to\u001b[49m\u001b[43m,\u001b[49m\n\u001b[0;32m    891\u001b[0m \u001b[43m        \u001b[49m\u001b[43moptions\u001b[49m\u001b[38;5;241;43m=\u001b[39;49m\u001b[43moptions\u001b[49m\u001b[43m,\u001b[49m\n\u001b[0;32m    892\u001b[0m \u001b[43m        \u001b[49m\u001b[43mstream\u001b[49m\u001b[38;5;241;43m=\u001b[39;49m\u001b[43mstream\u001b[49m\u001b[43m,\u001b[49m\n\u001b[0;32m    893\u001b[0m \u001b[43m        \u001b[49m\u001b[43mstream_cls\u001b[49m\u001b[38;5;241;43m=\u001b[39;49m\u001b[43mstream_cls\u001b[49m\u001b[43m,\u001b[49m\n\u001b[0;32m    894\u001b[0m \u001b[43m        \u001b[49m\u001b[43mremaining_retries\u001b[49m\u001b[38;5;241;43m=\u001b[39;49m\u001b[43mremaining_retries\u001b[49m\u001b[43m,\u001b[49m\n\u001b[0;32m    895\u001b[0m \u001b[43m    \u001b[49m\u001b[43m)\u001b[49m\n",
      "File \u001b[1;32me:\\embedchain\\.venv\\Lib\\site-packages\\openai\\_base_client.py:980\u001b[0m, in \u001b[0;36mSyncAPIClient._request\u001b[1;34m(self, cast_to, options, remaining_retries, stream, stream_cls)\u001b[0m\n\u001b[0;32m    977\u001b[0m         err\u001b[38;5;241m.\u001b[39mresponse\u001b[38;5;241m.\u001b[39mread()\n\u001b[0;32m    979\u001b[0m     log\u001b[38;5;241m.\u001b[39mdebug(\u001b[38;5;124m\"\u001b[39m\u001b[38;5;124mRe-raising status error\u001b[39m\u001b[38;5;124m\"\u001b[39m)\n\u001b[1;32m--> 980\u001b[0m     \u001b[38;5;28;01mraise\u001b[39;00m \u001b[38;5;28mself\u001b[39m\u001b[38;5;241m.\u001b[39m_make_status_error_from_response(err\u001b[38;5;241m.\u001b[39mresponse) \u001b[38;5;28;01mfrom\u001b[39;00m \u001b[38;5;28;01mNone\u001b[39;00m\n\u001b[0;32m    982\u001b[0m \u001b[38;5;28;01mreturn\u001b[39;00m \u001b[38;5;28mself\u001b[39m\u001b[38;5;241m.\u001b[39m_process_response(\n\u001b[0;32m    983\u001b[0m     cast_to\u001b[38;5;241m=\u001b[39mcast_to,\n\u001b[0;32m    984\u001b[0m     options\u001b[38;5;241m=\u001b[39moptions,\n\u001b[1;32m   (...)\u001b[0m\n\u001b[0;32m    987\u001b[0m     stream_cls\u001b[38;5;241m=\u001b[39mstream_cls,\n\u001b[0;32m    988\u001b[0m )\n",
      "\u001b[1;31mNotFoundError\u001b[0m: Error code: 404 - {'error': {'code': '404', 'message': 'Resource not found'}}"
     ]
    }
   ],
   "source": [
    "a= app.query(\"总结下停薪留职的流程\")\n",
    "print(a)"
   ]
  }
 ],
 "metadata": {
  "kernelspec": {
   "display_name": ".venv",
   "language": "python",
   "name": "python3"
  },
  "language_info": {
   "codemirror_mode": {
    "name": "ipython",
    "version": 3
   },
   "file_extension": ".py",
   "mimetype": "text/x-python",
   "name": "python",
   "nbconvert_exporter": "python",
   "pygments_lexer": "ipython3",
   "version": "3.11.5"
  }
 },
 "nbformat": 4,
 "nbformat_minor": 2
}
