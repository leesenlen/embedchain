{
 "cells": [
  {
   "cell_type": "code",
   "execution_count": 1,
   "metadata": {},
   "outputs": [
    {
     "name": "stderr",
     "output_type": "stream",
     "text": [
      "e:\\embedchain\\.venv\\Lib\\site-packages\\langchain\\embeddings\\azure_openai.py:108: UserWarning: As of openai>=1.0.0, if `deployment` (or alias `azure_deployment`) is specified then `openai_api_base` (or alias `base_url`) should not be. Instead use `deployment` (or alias `azure_deployment`) and `azure_endpoint`.\n",
      "  warnings.warn(\n",
      "e:\\embedchain\\.venv\\Lib\\site-packages\\langchain\\embeddings\\azure_openai.py:116: UserWarning: As of openai>=1.0.0, if `openai_api_base` (or alias `base_url`) is specified it is expected to be of the form https://example-resource.azure.openai.com/openai/deployments/example-deployment. Updating https://openai-sailvan-eastus2-proxy.valsun.cn/openai to https://openai-sailvan-eastus2-proxy.valsun.cn/openai.\n",
      "  warnings.warn(\n"
     ]
    }
   ],
   "source": [
    "import os\n",
    "from embedchain import App\n",
    "\n",
    "os.environ[\"OPENAI_API_TYPE\"] = \"azure\"\n",
    "os.environ[\"OPENAI_API_BASE\"] = \"https://openai-sailvan-eastus2-proxy.valsun.cn/openai\"\n",
    "os.environ[\"OPENAI_API_KEY\"] = \"b0fc062d729a4b66af7edd12cab4636f\"\n",
    "os.environ[\"OPENAI_API_VERSION\"] = \"2023-05-15\"\n",
    "\n",
    "app = App.from_config(config_path=\"./data/example_config.yaml\")"
   ]
  },
  {
   "cell_type": "code",
   "execution_count": 2,
   "metadata": {},
   "outputs": [
    {
     "ename": "KeyboardInterrupt",
     "evalue": "",
     "output_type": "error",
     "traceback": [
      "\u001b[1;31m---------------------------------------------------------------------------\u001b[0m",
      "\u001b[1;31mKeyboardInterrupt\u001b[0m                         Traceback (most recent call last)",
      "Cell \u001b[1;32mIn[2], line 47\u001b[0m\n\u001b[0;32m      1\u001b[0m \u001b[38;5;66;03m# from embedchain.loaders.mysql import MySQLLoader\u001b[39;00m\n\u001b[0;32m      2\u001b[0m \u001b[38;5;66;03m# from embedchain.models.base import BaseModel\u001b[39;00m\n\u001b[0;32m      3\u001b[0m \n\u001b[1;32m   (...)\u001b[0m\n\u001b[0;32m     42\u001b[0m \u001b[38;5;66;03m# # # from file\u001b[39;00m\n\u001b[0;32m     43\u001b[0m \u001b[38;5;66;03m# # # pdf 每页都会生成一个block，不管内容大小\u001b[39;00m\n\u001b[0;32m     44\u001b[0m params \u001b[38;5;241m=\u001b[39m {\n\u001b[0;32m     45\u001b[0m     \u001b[38;5;124m\"\u001b[39m\u001b[38;5;124msource\u001b[39m\u001b[38;5;124m\"\u001b[39m:\u001b[38;5;124m\"\u001b[39m\u001b[38;5;124m./data/SD-ZD-HR-007考勤管理制度.pdf\u001b[39m\u001b[38;5;124m\"\u001b[39m\n\u001b[0;32m     46\u001b[0m }\n\u001b[1;32m---> 47\u001b[0m hash_data \u001b[38;5;241m=\u001b[39m \u001b[43mapp\u001b[49m\u001b[38;5;241;43m.\u001b[39;49m\u001b[43mupsert\u001b[49m\u001b[43m(\u001b[49m\u001b[43mparams\u001b[49m\u001b[43m,\u001b[49m\u001b[43m \u001b[49m\u001b[43mdata_type\u001b[49m\u001b[38;5;241;43m=\u001b[39;49m\u001b[38;5;124;43m'\u001b[39;49m\u001b[38;5;124;43mpdf_file\u001b[39;49m\u001b[38;5;124;43m'\u001b[39;49m\u001b[43m)\u001b[49m\n\u001b[0;32m     48\u001b[0m \u001b[38;5;28mprint\u001b[39m(hash_data)\n\u001b[0;32m     50\u001b[0m \u001b[38;5;66;03m# app.delete_file(\"./data/TrendeeContent.pdf\")\u001b[39;00m\n\u001b[0;32m     51\u001b[0m \n\u001b[0;32m     52\u001b[0m \u001b[38;5;66;03m# conditions = {\u001b[39;00m\n\u001b[1;32m   (...)\u001b[0m\n\u001b[0;32m     57\u001b[0m \u001b[38;5;66;03m# app.delete(conditions=conditions)\u001b[39;00m\n\u001b[0;32m     58\u001b[0m \u001b[38;5;66;03m# app.publish_knowledge(\"e5e5031b-7db9-4677-bc4d-6a57b4a29d83\")\u001b[39;00m\n",
      "File \u001b[1;32mE:\\embedchain\\embedchain\\embedchain.py:217\u001b[0m, in \u001b[0;36mEmbedChain.upsert\u001b[1;34m(self, params, data_type, config, loader, chunker)\u001b[0m\n\u001b[0;32m    214\u001b[0m ids \u001b[38;5;241m=\u001b[39m embeddings_data[\u001b[38;5;124m\"\u001b[39m\u001b[38;5;124mids\u001b[39m\u001b[38;5;124m\"\u001b[39m]\n\u001b[0;32m    215\u001b[0m embeddings \u001b[38;5;241m=\u001b[39m embeddings_data\u001b[38;5;241m.\u001b[39mget(\u001b[38;5;124m\"\u001b[39m\u001b[38;5;124membeddings\u001b[39m\u001b[38;5;124m\"\u001b[39m)\n\u001b[1;32m--> 217\u001b[0m \u001b[38;5;28;43mself\u001b[39;49m\u001b[38;5;241;43m.\u001b[39;49m\u001b[43mdb\u001b[49m\u001b[38;5;241;43m.\u001b[39;49m\u001b[43mupsert\u001b[49m\u001b[43m(\u001b[49m\n\u001b[0;32m    218\u001b[0m \u001b[43m    \u001b[49m\u001b[43membeddings\u001b[49m\u001b[38;5;241;43m=\u001b[39;49m\u001b[43membeddings\u001b[49m\u001b[43m,\u001b[49m\n\u001b[0;32m    219\u001b[0m \u001b[43m    \u001b[49m\u001b[43mdocuments\u001b[49m\u001b[38;5;241;43m=\u001b[39;49m\u001b[43mdocuments\u001b[49m\u001b[43m,\u001b[49m\n\u001b[0;32m    220\u001b[0m \u001b[43m    \u001b[49m\u001b[43mmetadatas\u001b[49m\u001b[38;5;241;43m=\u001b[39;49m\u001b[43mmetadatas\u001b[49m\u001b[43m,\u001b[49m\n\u001b[0;32m    221\u001b[0m \u001b[43m    \u001b[49m\u001b[43mids\u001b[49m\u001b[38;5;241;43m=\u001b[39;49m\u001b[43mids\u001b[49m\u001b[43m,\u001b[49m\n\u001b[0;32m    222\u001b[0m \u001b[43m\u001b[49m\u001b[43m)\u001b[49m\n\u001b[0;32m    223\u001b[0m \u001b[38;5;28;01mreturn\u001b[39;00m embeddings_data[\u001b[38;5;124m\"\u001b[39m\u001b[38;5;124mhash_file\u001b[39m\u001b[38;5;124m\"\u001b[39m]\n",
      "File \u001b[1;32mE:\\embedchain\\embedchain\\vectordb\\elasticsearch.py:170\u001b[0m, in \u001b[0;36mElasticsearchDB.upsert\u001b[1;34m(self, embeddings, documents, metadatas, ids, **kwargs)\u001b[0m\n\u001b[0;32m    161\u001b[0m \u001b[38;5;28;01mdef\u001b[39;00m \u001b[38;5;21mupsert\u001b[39m(\n\u001b[0;32m    162\u001b[0m     \u001b[38;5;28mself\u001b[39m,\n\u001b[0;32m    163\u001b[0m     embeddings: \u001b[38;5;28mlist\u001b[39m[\u001b[38;5;28mlist\u001b[39m[\u001b[38;5;28mfloat\u001b[39m]],\n\u001b[1;32m   (...)\u001b[0m\n\u001b[0;32m    167\u001b[0m     \u001b[38;5;241m*\u001b[39m\u001b[38;5;241m*\u001b[39mkwargs: Optional[\u001b[38;5;28mdict\u001b[39m[\u001b[38;5;28mstr\u001b[39m, \u001b[38;5;28many\u001b[39m]],\n\u001b[0;32m    168\u001b[0m ) \u001b[38;5;241m-\u001b[39m\u001b[38;5;241m>\u001b[39m Any:\n\u001b[1;32m--> 170\u001b[0m     documents_list \u001b[38;5;241m=\u001b[39m \u001b[38;5;28;43mself\u001b[39;49m\u001b[38;5;241m.\u001b[39msplit_list(documents, \u001b[38;5;241m50\u001b[39m)\n\u001b[0;32m    171\u001b[0m     embeddings_list \u001b[38;5;241m=\u001b[39m []\n\u001b[0;32m    172\u001b[0m     \u001b[38;5;28;01mfor\u001b[39;00m documents_chunk \u001b[38;5;129;01min\u001b[39;00m documents_list:\n",
      "File \u001b[1;32mE:\\embedchain\\embedchain\\vectordb\\elasticsearch.py:170\u001b[0m, in \u001b[0;36mElasticsearchDB.upsert\u001b[1;34m(self, embeddings, documents, metadatas, ids, **kwargs)\u001b[0m\n\u001b[0;32m    161\u001b[0m \u001b[38;5;28;01mdef\u001b[39;00m \u001b[38;5;21mupsert\u001b[39m(\n\u001b[0;32m    162\u001b[0m     \u001b[38;5;28mself\u001b[39m,\n\u001b[0;32m    163\u001b[0m     embeddings: \u001b[38;5;28mlist\u001b[39m[\u001b[38;5;28mlist\u001b[39m[\u001b[38;5;28mfloat\u001b[39m]],\n\u001b[1;32m   (...)\u001b[0m\n\u001b[0;32m    167\u001b[0m     \u001b[38;5;241m*\u001b[39m\u001b[38;5;241m*\u001b[39mkwargs: Optional[\u001b[38;5;28mdict\u001b[39m[\u001b[38;5;28mstr\u001b[39m, \u001b[38;5;28many\u001b[39m]],\n\u001b[0;32m    168\u001b[0m ) \u001b[38;5;241m-\u001b[39m\u001b[38;5;241m>\u001b[39m Any:\n\u001b[1;32m--> 170\u001b[0m     documents_list \u001b[38;5;241m=\u001b[39m \u001b[38;5;28;43mself\u001b[39;49m\u001b[38;5;241m.\u001b[39msplit_list(documents, \u001b[38;5;241m50\u001b[39m)\n\u001b[0;32m    171\u001b[0m     embeddings_list \u001b[38;5;241m=\u001b[39m []\n\u001b[0;32m    172\u001b[0m     \u001b[38;5;28;01mfor\u001b[39;00m documents_chunk \u001b[38;5;129;01min\u001b[39;00m documents_list:\n",
      "File \u001b[1;32m_pydevd_bundle/pydevd_cython.pyx:1457\u001b[0m, in \u001b[0;36m_pydevd_bundle.pydevd_cython.SafeCallWrapper.__call__\u001b[1;34m()\u001b[0m\n",
      "File \u001b[1;32m_pydevd_bundle/pydevd_cython.pyx:701\u001b[0m, in \u001b[0;36m_pydevd_bundle.pydevd_cython.PyDBFrame.trace_dispatch\u001b[1;34m()\u001b[0m\n",
      "File \u001b[1;32m_pydevd_bundle/pydevd_cython.pyx:1152\u001b[0m, in \u001b[0;36m_pydevd_bundle.pydevd_cython.PyDBFrame.trace_dispatch\u001b[1;34m()\u001b[0m\n",
      "File \u001b[1;32m_pydevd_bundle/pydevd_cython.pyx:1135\u001b[0m, in \u001b[0;36m_pydevd_bundle.pydevd_cython.PyDBFrame.trace_dispatch\u001b[1;34m()\u001b[0m\n",
      "File \u001b[1;32m_pydevd_bundle/pydevd_cython.pyx:312\u001b[0m, in \u001b[0;36m_pydevd_bundle.pydevd_cython.PyDBFrame.do_wait_suspend\u001b[1;34m()\u001b[0m\n",
      "File \u001b[1;32me:\\embedchain\\.venv\\Lib\\site-packages\\debugpy\\_vendored\\pydevd\\pydevd.py:2070\u001b[0m, in \u001b[0;36mPyDB.do_wait_suspend\u001b[1;34m(self, thread, frame, event, arg, exception_type)\u001b[0m\n\u001b[0;32m   2067\u001b[0m             from_this_thread\u001b[38;5;241m.\u001b[39mappend(frame_custom_thread_id)\n\u001b[0;32m   2069\u001b[0m     \u001b[38;5;28;01mwith\u001b[39;00m \u001b[38;5;28mself\u001b[39m\u001b[38;5;241m.\u001b[39m_threads_suspended_single_notification\u001b[38;5;241m.\u001b[39mnotify_thread_suspended(thread_id, thread, stop_reason):\n\u001b[1;32m-> 2070\u001b[0m         keep_suspended \u001b[38;5;241m=\u001b[39m \u001b[38;5;28;43mself\u001b[39;49m\u001b[38;5;241;43m.\u001b[39;49m\u001b[43m_do_wait_suspend\u001b[49m\u001b[43m(\u001b[49m\u001b[43mthread\u001b[49m\u001b[43m,\u001b[49m\u001b[43m \u001b[49m\u001b[43mframe\u001b[49m\u001b[43m,\u001b[49m\u001b[43m \u001b[49m\u001b[43mevent\u001b[49m\u001b[43m,\u001b[49m\u001b[43m \u001b[49m\u001b[43marg\u001b[49m\u001b[43m,\u001b[49m\u001b[43m \u001b[49m\u001b[43msuspend_type\u001b[49m\u001b[43m,\u001b[49m\u001b[43m \u001b[49m\u001b[43mfrom_this_thread\u001b[49m\u001b[43m,\u001b[49m\u001b[43m \u001b[49m\u001b[43mframes_tracker\u001b[49m\u001b[43m)\u001b[49m\n\u001b[0;32m   2072\u001b[0m frames_list \u001b[38;5;241m=\u001b[39m \u001b[38;5;28;01mNone\u001b[39;00m\n\u001b[0;32m   2074\u001b[0m \u001b[38;5;28;01mif\u001b[39;00m keep_suspended:\n\u001b[0;32m   2075\u001b[0m     \u001b[38;5;66;03m# This means that we should pause again after a set next statement.\u001b[39;00m\n",
      "File \u001b[1;32me:\\embedchain\\.venv\\Lib\\site-packages\\debugpy\\_vendored\\pydevd\\pydevd.py:2106\u001b[0m, in \u001b[0;36mPyDB._do_wait_suspend\u001b[1;34m(self, thread, frame, event, arg, suspend_type, from_this_thread, frames_tracker)\u001b[0m\n\u001b[0;32m   2103\u001b[0m         \u001b[38;5;28mself\u001b[39m\u001b[38;5;241m.\u001b[39m_call_input_hook()\n\u001b[0;32m   2105\u001b[0m     \u001b[38;5;28mself\u001b[39m\u001b[38;5;241m.\u001b[39mprocess_internal_commands()\n\u001b[1;32m-> 2106\u001b[0m     time\u001b[38;5;241m.\u001b[39msleep(\u001b[38;5;241m0.01\u001b[39m)\n\u001b[0;32m   2108\u001b[0m \u001b[38;5;28mself\u001b[39m\u001b[38;5;241m.\u001b[39mcancel_async_evaluation(get_current_thread_id(thread), \u001b[38;5;28mstr\u001b[39m(\u001b[38;5;28mid\u001b[39m(frame)))\n\u001b[0;32m   2110\u001b[0m \u001b[38;5;66;03m# process any stepping instructions\u001b[39;00m\n",
      "\u001b[1;31mKeyboardInterrupt\u001b[0m: "
     ]
    }
   ],
   "source": [
    "# from embedchain.loaders.mysql import MySQLLoader\n",
    "# from embedchain.models.base import BaseModel\n",
    "\n",
    "# config = {\n",
    "#     \"host\": \"10.199.1.62\",\n",
    "#     \"port\": 3306,\n",
    "#     \"database\": \"workbench\",\n",
    "#     \"user\": \"root\",\n",
    "#     \"password\": \"a13vnABHbSTu\",\n",
    "# }\n",
    "\n",
    "# mysql_loader = MySQLLoader(config=config)\n",
    "# class UserModel(BaseModel):\n",
    "#     def __init__(self):\n",
    "#         self.database = \"workbench\"\n",
    "#         self.table_name = \"wb_admin_users\"\n",
    "#         self.columns = {'id':{'description':'主键','is_writable':False}, 'name':{'description':'名字'}}\n",
    "\n",
    "# print(UserModel()._to_schema())\n",
    "# # # from mysql\n",
    "# params={\n",
    "#     \"source\": UserModel()._to_schema()\n",
    "# }\n",
    "# app.upsert(params, data_type='mysql', loader=mysql_loader)\n",
    "# methods = [method for method in dir(app) if callable(getattr(app, method))]\n",
    "\n",
    "# # 打印模块中的所有方法\n",
    "# for method in methods:\n",
    "#     print(method)\n",
    "# from text\n",
    "# params = {\n",
    "#     \"source\":\"赛维时代科技股份有限公司成立于2012年，国家高新技术企业。公司秉承“让美好生活触手可及”的使命，致力于成为技术驱动的智能商业平台。为满足全球消费者对高品质、个性化的时尚生活需求，公司在基础平台层、销售端和供应端持续深耕，已逐步打磨出集产品开发设计、品牌孵化及运营、供应链整合等于一体的平台化快速反应能力。在基础平台层，公司已具备全链路数字化能力，并搭建了“小前端+大中台”的敏捷型组织架构；在销售端，公司基于跨区域、跨平台的销售网络，构建品牌矩阵支撑的多品类延伸能力；在供应端，公司依托庞大而优质的供应商生态、全球仓储物流网络布局，并通过自研的服装柔性供应链系统赋能生产，构建高效供应能力。\"\n",
    "# }\n",
    "# app.upsert(params, data_type='text')\n",
    "\n",
    "# # # from url\n",
    "# params = {\n",
    "#     \"source\":\"https://www.forbes.com/profile/elon-musk\"\n",
    "# }\n",
    "# app.upsert(params)\n",
    "\n",
    "# # # from file\n",
    "# # # pdf 每页都会生成一个block，不管内容大小\n",
    "params = {\n",
    "    \"source\":\"./data/SD-ZD-HR-007考勤管理制度.pdf\"\n",
    "}\n",
    "hash_data = app.upsert(params, data_type='pdf_file')\n",
    "print(hash_data)\n",
    "\n",
    "# app.delete_file(\"./data/TrendeeContent.pdf\")\n",
    "\n",
    "# conditions = {\n",
    "#     \"doc_id\":\"0-53bd0c8c50c9ff999ab6300d4951404adce5a3de6d9d6bf1f00b77cf40d971e9\",\n",
    "#     \"knowledge_id\":\"e5e5031b-7db9-4677-bc4d-6a57b4a29d83\"\n",
    "# }\n",
    "\n",
    "# app.delete(conditions=conditions)\n",
    "# app.publish_knowledge(\"e5e5031b-7db9-4677-bc4d-6a57b4a29d83\")\n"
   ]
  },
  {
   "cell_type": "code",
   "execution_count": 4,
   "metadata": {},
   "outputs": [
    {
     "ename": "",
     "evalue": "",
     "output_type": "error",
     "traceback": [
      "\u001b[1;31mThe Kernel crashed while executing code in the the current cell or a previous cell. Please review the code in the cell(s) to identify a possible cause of the failure. Click <a href='https://aka.ms/vscodeJupyterKernelCrash'>here</a> for more info. View Jupyter <a href='command:jupyter.viewOutput'>log</a> for further details."
     ]
    }
   ],
   "source": [
    "# Adds `(1, 'What is your net worth, Elon Musk?', \"As of October 2023, Elon Musk's net worth is $255.2 billion.\")`\n",
    "\n",
    "# questions = [\n",
    "#     #  \"陈文辉的工号和邮箱是多少？\",\n",
    "#     #  \"Elon Musk主要做什么工作？\",\n",
    "#     #  \"赛维时代的使命是什么？\",\n",
    "#      \"trendee支持AI设计Copilot吗？\",\n",
    "#      \"北京奥运会的举办时间是什么时候？\",\n",
    "# ]\n",
    "# for question in questions:\n",
    "#     response = app.query(question, dry_run=True)\n",
    "#     print(\"Q:\", question)\n",
    "#     print(\"A:\", response)\n",
    "a = app.knn_search(input_query=\"公司关于旷工的制度是什么?\")\n",
    "print(a)\n",
    "# b = app.query(input_query=\"Trendee 是⼀款领先的时尚智能科技平台,请展开描述\")\n",
    "# print(b)\n",
    "# Answer: As of October 2023, Elon Musk's net worth is $255.2 billion.\n",
    "# import openpyxl\n",
    "\n",
    "# # 指定Excel文件路径\n",
    "# excel_file_path = 'path/to/your/file.xls'\n",
    "\n",
    "# # 读取Excel文件中的所有表格框\n",
    "# xl = pd.ExcelFile(excel_file_path)\n",
    "# sheet_name = 'Sheet1'  # 替换为实际的工作表名称\n",
    "\n",
    "# # 获取指定工作表中所有表格框的内容\n",
    "# dfs = pd.read_excel(xl, sheet_name, header=None, sheet_name=None)\n",
    "\n",
    "# # 打印每个表格框的内容\n",
    "# for table_name, df in dfs.items():\n",
    "#     print(f\"Table Name: {table_name}\")\n",
    "#     print(df)\n",
    "#     print(\"\\n\")\n"
   ]
  }
 ],
 "metadata": {
  "kernelspec": {
   "display_name": ".venv",
   "language": "python",
   "name": "python3"
  },
  "language_info": {
   "codemirror_mode": {
    "name": "ipython",
    "version": 3
   },
   "file_extension": ".py",
   "mimetype": "text/x-python",
   "name": "python",
   "nbconvert_exporter": "python",
   "pygments_lexer": "ipython3",
   "version": "3.11.5"
  }
 },
 "nbformat": 4,
 "nbformat_minor": 2
}
