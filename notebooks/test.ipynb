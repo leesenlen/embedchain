{
 "cells": [
  {
   "cell_type": "code",
   "execution_count": 1,
   "metadata": {},
   "outputs": [
    {
     "name": "stderr",
     "output_type": "stream",
     "text": [
      "e:\\embedchain\\.venv\\Lib\\site-packages\\langchain\\embeddings\\azure_openai.py:108: UserWarning: As of openai>=1.0.0, if `deployment` (or alias `azure_deployment`) is specified then `openai_api_base` (or alias `base_url`) should not be. Instead use `deployment` (or alias `azure_deployment`) and `azure_endpoint`.\n",
      "  warnings.warn(\n",
      "e:\\embedchain\\.venv\\Lib\\site-packages\\langchain\\embeddings\\azure_openai.py:116: UserWarning: As of openai>=1.0.0, if `openai_api_base` (or alias `base_url`) is specified it is expected to be of the form https://example-resource.azure.openai.com/openai/deployments/example-deployment. Updating https://openai-sailvan-eastus2-proxy.valsun.cn/openai to https://openai-sailvan-eastus2-proxy.valsun.cn/openai.\n",
      "  warnings.warn(\n"
     ]
    }
   ],
   "source": [
    "# import os\n",
    "# from embedchain import App\n",
    "\n",
    "# os.environ[\"OPENAI_API_TYPE\"] = \"azure\"\n",
    "# os.environ[\"OPENAI_API_BASE\"] = \"https://openai-sailvan-eastus2-proxy.valsun.cn/openai\"\n",
    "# os.environ[\"OPENAI_API_KEY\"] = \"b0fc062d729a4b66af7edd12cab4636f\"\n",
    "# os.environ[\"OPENAI_API_VERSION\"] = \"2023-05-15\"\n",
    "\n",
    "# app = App.from_config(config_path=\"./data/example_config.yaml\")"
   ]
  },
  {
   "cell_type": "code",
   "execution_count": 1,
   "metadata": {},
   "outputs": [
    {
     "name": "stderr",
     "output_type": "stream",
     "text": [
      "e:\\embedchain\\.venv\\Lib\\site-packages\\langchain\\embeddings\\azure_openai.py:108: UserWarning: As of openai>=1.0.0, if `deployment` (or alias `azure_deployment`) is specified then `openai_api_base` (or alias `base_url`) should not be. Instead use `deployment` (or alias `azure_deployment`) and `azure_endpoint`.\n",
      "  warnings.warn(\n",
      "e:\\embedchain\\.venv\\Lib\\site-packages\\langchain\\embeddings\\azure_openai.py:116: UserWarning: As of openai>=1.0.0, if `openai_api_base` (or alias `base_url`) is specified it is expected to be of the form https://example-resource.azure.openai.com/openai/deployments/example-deployment. Updating https://openai-sailvan-eastus2-proxy.valsun.cn/openai to https://openai-sailvan-eastus2-proxy.valsun.cn/openai.\n",
      "  warnings.warn(\n"
     ]
    }
   ],
   "source": [
    "import os\n",
    "from embedchain import App\n",
    "\n",
    "os.environ[\"OPENAI_API_TYPE\"] = \"azure\"\n",
    "os.environ[\"OPENAI_API_BASE\"] = \"https://openai-sailvan-eastus2-proxy.valsun.cn/openai\"\n",
    "os.environ[\"OPENAI_API_KEY\"] = \"b0fc062d729a4b66af7edd12cab4636f\"\n",
    "# os.environ[\"OPENAI_API_VERSION\"] = \"2023-12-01-preview\"\n",
    "\n",
    "app = App.from_config(config_path=\"./data/example_config.yaml\")"
   ]
  },
  {
   "cell_type": "code",
   "execution_count": null,
   "metadata": {},
   "outputs": [],
   "source": [
    "from embedchain.loaders.mysql import MySQLLoader\n",
    "from embedchain.models.base import BaseModel\n",
    "\n",
    "config = {\n",
    "    \"host\": \"10.199.1.62\",\n",
    "    \"port\": 3306,\n",
    "    \"database\": \"workbench\",\n",
    "    \"user\": \"root\",\n",
    "    \"password\": \"a13vnABHbSTu\",\n",
    "}\n",
    "\n",
    "mysql_loader = MySQLLoader(config=config)\n",
    "class UserModel(BaseModel):\n",
    "    def __init__(self, **kwargs):\n",
    "        super().__init__(**kwargs)\n",
    "schema = {\n",
    "\t\"database\":\"workbench\",\n",
    "\t\"table_name\": \"wb_admin_users\",\n",
    "\t\"description\": \"存储用户信息\",\n",
    "\t\"primary_key\":\"id\",\n",
    "\t\"table_schema\": {\n",
    "\t\t\"id\": {\n",
    "\t\t\t\"field_name\": \"用户表主键\",\n",
    "\t\t\t\"field_type\": \"integer\",\n",
    "\t\t\t\"description\": \"用户表主键，唯一键，关联查询时经常使用到\"\n",
    "\t\t},\n",
    "\t\t\"name\": {\n",
    "\t\t\t\"field_name\": \"用户姓名\",\n",
    "\t\t\t\"field_type\": \"string\",\n",
    "\t\t\t\"description\": \"公司用户的真实姓名，重名的情况下会加后缀\"\n",
    "\t\t},\n",
    "        \"email\": {\n",
    "\t\t\t\"field_name\": \"邮箱\",\n",
    "\t\t\t\"field_type\": \"string\",\n",
    "\t\t\t\"description\": \"公司用户的邮箱，重名的情况下会加后缀\"\n",
    "\t\t}\n",
    "\t},\n",
    "\t\"format_type\": \"json\",\n",
    "\t\"ignore_fields\": \"id\"\n",
    "}\n",
    "userModel = UserModel(**schema)\n",
    "print(repr(userModel))\n",
    "app.upsert(userModel, data_type='mysql', loader=mysql_loader)"
   ]
  },
  {
   "cell_type": "code",
   "execution_count": 12,
   "metadata": {},
   "outputs": [
    {
     "name": "stderr",
     "output_type": "stream",
     "text": [
      "Inserting batches in elasticsearch: 100%|██████████| 5/5 [00:00<00:00, 109.23batch/s]"
     ]
    },
    {
     "name": "stdout",
     "output_type": "stream",
     "text": [
      "Successfully saved C:/Users/sw/Desktop/人力资源/长沙人力资源/DF-ZD-HR-005长沙鼎飞薪酬管理制度.pdf (DataType.PDF_FILE). New chunks count: 5\n",
      "257a0fd283f103494f15086fbcbcfc6f\n"
     ]
    },
    {
     "name": "stderr",
     "output_type": "stream",
     "text": [
      "\n"
     ]
    }
   ],
   "source": [
    "\n",
    "# methods = [method for method in dir(app) if callable(getattr(app, method))]\n",
    "\n",
    "# # 打印模块中的所有方法\n",
    "# for method in methods:\n",
    "#     print(method)\n",
    "# from text\n",
    "# params = {\n",
    "#     \"source\":\"赛维时代科技股份有限公司成立于2012年，国家高新技术企业。公司秉承“让美好生活触手可及”的使命，致力于成为技术驱动的智能商业平台。为满足全球消费者对高品质、个性化的时尚生活需求，公司在基础平台层、销售端和供应端持续深耕，已逐步打磨出集产品开发设计、品牌孵化及运营、供应链整合等于一体的平台化快速反应能力。在基础平台层，公司已具备全链路数字化能力，并搭建了“小前端+大中台”的敏捷型组织架构；在销售端，公司基于跨区域、跨平台的销售网络，构建品牌矩阵支撑的多品类延伸能力；在供应端，公司依托庞大而优质的供应商生态、全球仓储物流网络布局，并通过自研的服装柔性供应链系统赋能生产，构建高效供应能力。\"\n",
    "# }\n",
    "# app.upsert(params, data_type='text')\n",
    "\n",
    "# # # from url\n",
    "# params = {\n",
    "#     \"source\":\"https://www.forbes.com/profile/elon-musk\"\n",
    "# }\n",
    "# app.upsert(params)\n",
    "\n",
    "# # # from file\n",
    "# # # pdf 每页都会生成一个block，不管内容大小\n",
    "\n",
    "\n",
    "doc_id = app.add(source=\"C:/Users/sw/Desktop/人力资源/长沙人力资源/DF-ZD-HR-005长沙鼎飞薪酬管理制度.pdf\",data_type=\"pdf_file\")\n",
    "print(doc_id)\n",
    "\n",
    "\n",
    "# import win32com.client\n",
    "\n",
    "# def read_doc(file_path):\n",
    "#     word_app = win32com.client.Dispatch(\"Word.Application\")\n",
    "\n",
    "#     # word_app = win32com.client.Dispatch(\"Word.Application\")\n",
    "#     word_app.Visible = False  # 隐藏Word应用程序窗口\n",
    "\n",
    "#     doc = word_app.Documents.Open(file_path)\n",
    "\n",
    "#     content = \"\"\n",
    "#     for paragraph in doc.Paragraphs:\n",
    "#         content += paragraph.Range.Text + \"\\n\"\n",
    "\n",
    "#     doc.Close()\n",
    "#     word_app.Quit()\n",
    "    \n",
    "#     return content\n",
    "\n",
    "# # 使用示例\n",
    "# doc_file_path = \"./data/test.doc\"\n",
    "# doc_content = read_doc(doc_file_path)\n",
    "\n",
    "# # 输出内容\n",
    "# print(doc_content)\n",
    "\n",
    "\n",
    "# app.delete_file(\"./data/TrendeeContent.pdf\")\n",
    "\n",
    "# conditions = {\n",
    "#     \"doc_id\":\"0-53bd0c8c50c9ff999ab6300d4951404adce5a3de6d9d6bf1f00b77cf40d971e9\",\n",
    "#     \"knowledge_id\":\"e5e5031b-7db9-4677-bc4d-6a57b4a29d83\"\n",
    "# }\n",
    "\n",
    "# app.delete(conditions=conditions)\n",
    "# app.publish_knowledge(\"e5e5031b-7db9-4677-bc4d-6a57b4a29d83\")\n"
   ]
  },
  {
   "cell_type": "code",
   "execution_count": 6,
   "metadata": {},
   "outputs": [
    {
     "name": "stdout",
     "output_type": "stream",
     "text": [
      "{'workcode': '70001', 'department_hierarchy1_name': '人力资源部', 'department_hierarchy5_name': None, 'sex': '男', 'mobile': '18163673647', 'department_hierarchy3_name': None, 'department_hierarchy6': None, 'department_hierarchy6_name': None, 'department_hierarchy7': None, 'department_hierarchy4': None, 'department_hierarchy5': None, 'department_hierarchy2': '5281', 'user_id': '4825', 'manager_id': '25', 'department_hierarchy3': None, 'company_name': '深圳市赛维网络科技有限公司', 'department_hierarchy1': '21', 'name': '肖彬', 'department_hierarchy7_name': None, 'department_hierarchy2_name': '长沙人力资源部', 'department_hierarchy4_name': None, 'job_title': '58477', 'email': 'xiaobin@sailvan.com', 'status': '0'}\n"
     ]
    },
    {
     "ename": "TypeError",
     "evalue": "'OADepartmentModel' object is not subscriptable",
     "output_type": "error",
     "traceback": [
      "\u001b[1;31m---------------------------------------------------------------------------\u001b[0m",
      "\u001b[1;31mTypeError\u001b[0m                                 Traceback (most recent call last)",
      "Cell \u001b[1;32mIn[6], line 132\u001b[0m\n\u001b[0;32m    126\u001b[0m oaDepartmentModel \u001b[38;5;241m=\u001b[39m OADepartmentModel(\u001b[38;5;241m*\u001b[39m\u001b[38;5;241m*\u001b[39mschema)\n\u001b[0;32m    127\u001b[0m data \u001b[38;5;241m=\u001b[39m {\n\u001b[0;32m    128\u001b[0m     \u001b[38;5;124m\"\u001b[39m\u001b[38;5;124mjson\u001b[39m\u001b[38;5;124m\"\u001b[39m: json_obj,\n\u001b[0;32m    129\u001b[0m     \u001b[38;5;124m\"\u001b[39m\u001b[38;5;124mmodel\u001b[39m\u001b[38;5;124m\"\u001b[39m:oaDepartmentModel\n\u001b[0;32m    130\u001b[0m }\n\u001b[1;32m--> 132\u001b[0m \u001b[43mapp\u001b[49m\u001b[38;5;241;43m.\u001b[39;49m\u001b[43mupsert\u001b[49m\u001b[43m(\u001b[49m\u001b[43mdata\u001b[49m\u001b[43m,\u001b[49m\u001b[43m \u001b[49m\u001b[43mdata_type\u001b[49m\u001b[38;5;241;43m=\u001b[39;49m\u001b[38;5;124;43m\"\u001b[39;49m\u001b[38;5;124;43mstructure\u001b[39;49m\u001b[38;5;124;43m\"\u001b[39;49m\u001b[43m,\u001b[49m\u001b[43mmetadata\u001b[49m\u001b[38;5;241;43m=\u001b[39;49m\u001b[43m{\u001b[49m\u001b[38;5;124;43m\"\u001b[39;49m\u001b[38;5;124;43mapp_id\u001b[39;49m\u001b[38;5;124;43m\"\u001b[39;49m\u001b[43m:\u001b[49m\u001b[38;5;241;43m4\u001b[39;49m\u001b[43m}\u001b[49m\u001b[43m)\u001b[49m\n",
      "File \u001b[1;32mE:\\embedchain\\embedchain\\embedchain.py:190\u001b[0m, in \u001b[0;36mEmbedChain.upsert\u001b[1;34m(self, source, data_type, metadata, config, loader, chunker)\u001b[0m\n\u001b[0;32m    186\u001b[0m     data_type \u001b[38;5;241m=\u001b[39m detect_datatype(source)\n\u001b[0;32m    188\u001b[0m data_formatter \u001b[38;5;241m=\u001b[39m DataFormatter(data_type, config, loader, chunker)\n\u001b[1;32m--> 190\u001b[0m embeddings_data \u001b[38;5;241m=\u001b[39m \u001b[43mdata_formatter\u001b[49m\u001b[38;5;241;43m.\u001b[39;49m\u001b[43mchunker\u001b[49m\u001b[38;5;241;43m.\u001b[39;49m\u001b[43mchunks\u001b[49m\u001b[43m(\u001b[49m\u001b[43mdata_formatter\u001b[49m\u001b[38;5;241;43m.\u001b[39;49m\u001b[43mloader\u001b[49m\u001b[43m,\u001b[49m\u001b[43m \u001b[49m\u001b[43msource\u001b[49m\u001b[43m,\u001b[49m\u001b[43m \u001b[49m\u001b[43mmetadata\u001b[49m\u001b[43m,\u001b[49m\u001b[43m \u001b[49m\u001b[43mconfig\u001b[49m\u001b[38;5;241;43m=\u001b[39;49m\u001b[43mconfig\u001b[49m\u001b[38;5;241;43m.\u001b[39;49m\u001b[43mchunker\u001b[49m\u001b[43m)\u001b[49m\n\u001b[0;32m    191\u001b[0m \u001b[38;5;66;03m# spread chunking results\u001b[39;00m\n\u001b[0;32m    192\u001b[0m documents \u001b[38;5;241m=\u001b[39m embeddings_data[\u001b[38;5;124m\"\u001b[39m\u001b[38;5;124mdocuments\u001b[39m\u001b[38;5;124m\"\u001b[39m]\n",
      "File \u001b[1;32mE:\\embedchain\\embedchain\\chunkers\\structure.py:32\u001b[0m, in \u001b[0;36mStructureChunker.chunks\u001b[1;34m(self, loader, data, metadata, config)\u001b[0m\n\u001b[0;32m     29\u001b[0m knowledge_id \u001b[38;5;241m=\u001b[39m metadata\u001b[38;5;241m.\u001b[39mget(\u001b[38;5;124m\"\u001b[39m\u001b[38;5;124mknowledge_id\u001b[39m\u001b[38;5;124m\"\u001b[39m,\u001b[38;5;241m0\u001b[39m) \u001b[38;5;66;03m#知识库ID   \u001b[39;00m\n\u001b[0;32m     30\u001b[0m subject \u001b[38;5;241m=\u001b[39m metadata\u001b[38;5;241m.\u001b[39mget(\u001b[38;5;124m\"\u001b[39m\u001b[38;5;124msubject\u001b[39m\u001b[38;5;124m\"\u001b[39m,table\u001b[38;5;241m.\u001b[39mdescription) \u001b[38;5;66;03m#主题\u001b[39;00m\n\u001b[1;32m---> 32\u001b[0m data_records \u001b[38;5;241m=\u001b[39m loader\u001b[38;5;241m.\u001b[39mload_data(data)\n\u001b[0;32m     33\u001b[0m hash_data \u001b[38;5;241m=\u001b[39m hashlib\u001b[38;5;241m.\u001b[39msha256((table\u001b[38;5;241m.\u001b[39mdatabase \u001b[38;5;241m+\u001b[39m \u001b[38;5;124m'\u001b[39m\u001b[38;5;124m.\u001b[39m\u001b[38;5;124m'\u001b[39m \u001b[38;5;241m+\u001b[39m table\u001b[38;5;241m.\u001b[39mtable_name)\u001b[38;5;241m.\u001b[39mencode())\u001b[38;5;241m.\u001b[39mhexdigest()\n\u001b[0;32m     34\u001b[0m doc_id \u001b[38;5;241m=\u001b[39m \u001b[38;5;28mstr\u001b[39m(app_id) \u001b[38;5;241m+\u001b[39m \u001b[38;5;124m\"\u001b[39m\u001b[38;5;124m-\u001b[39m\u001b[38;5;124m\"\u001b[39m \u001b[38;5;241m+\u001b[39m hash_data\n",
      "File \u001b[1;32mE:\\embedchain\\embedchain\\loaders\\structure.py:12\u001b[0m, in \u001b[0;36mStructureLoader.load_data\u001b[1;34m(self, data)\u001b[0m\n\u001b[0;32m     10\u001b[0m \u001b[38;5;28;01mdef\u001b[39;00m \u001b[38;5;21mload_data\u001b[39m(\u001b[38;5;28mself\u001b[39m, data: \u001b[38;5;28mdict\u001b[39m):\n\u001b[0;32m     11\u001b[0m     json_data \u001b[38;5;241m=\u001b[39m {}\n\u001b[1;32m---> 12\u001b[0m     \u001b[38;5;28;01mif\u001b[39;00m \u001b[38;5;28misinstance\u001b[39m(\u001b[43mdata\u001b[49m\u001b[43m[\u001b[49m\u001b[38;5;124;43m'\u001b[39;49m\u001b[38;5;124;43mjson\u001b[39;49m\u001b[38;5;124;43m'\u001b[39;49m\u001b[43m]\u001b[49m, \u001b[38;5;28mstr\u001b[39m):\n\u001b[0;32m     13\u001b[0m         json_data \u001b[38;5;241m=\u001b[39m json\u001b[38;5;241m.\u001b[39mloads(data[\u001b[38;5;124m'\u001b[39m\u001b[38;5;124mjson\u001b[39m\u001b[38;5;124m'\u001b[39m], ensure_ascii\u001b[38;5;241m=\u001b[39m\u001b[38;5;28;01mFalse\u001b[39;00m)\n\u001b[0;32m     14\u001b[0m     json_data \u001b[38;5;241m=\u001b[39m data[\u001b[38;5;124m'\u001b[39m\u001b[38;5;124mjson\u001b[39m\u001b[38;5;124m'\u001b[39m]\n",
      "\u001b[1;31mTypeError\u001b[0m: 'OADepartmentModel' object is not subscriptable"
     ]
    }
   ],
   "source": [
    "from embedchain.models.base import BaseModel\n",
    "from embedchain.models.data_type import (DataType, DirectDataType,\n",
    "                                         IndirectDataType, SpecialDataType)\n",
    "\n",
    "class OADepartmentModel(BaseModel):\n",
    "    def __init__(self, **kwargs):\n",
    "        super().__init__(**kwargs)\n",
    "\n",
    "\n",
    "def build_schema():\n",
    "    return {\n",
    "        \"database\":\"redis:oa\",\n",
    "        \"table_name\": \"oa_department\",\n",
    "        \"description\": \"公司组织架构信息\",\n",
    "        \"primary_key\":\"workcode\",\n",
    "        \"table_schema\": {\n",
    "            \"user_id\": {\n",
    "                \"field_name\": \"当前用户ID\",\n",
    "                \"field_type\": \"string\",\n",
    "                \"description\": \"用户主键，唯一键\"\n",
    "            },\n",
    "            \"name\": {\n",
    "                \"field_name\": \"当前用户姓名\",\n",
    "                \"field_type\": \"string\",\n",
    "                \"description\": \"公司用户的真实姓名，重名的情况下会加后缀\"\n",
    "            },\n",
    "            \"email\": {\n",
    "                \"field_name\": \"邮箱\",\n",
    "                \"field_type\": \"string\",\n",
    "                \"description\": \"公司用户的邮箱\"\n",
    "            },\n",
    "            \"sex\": {\n",
    "                \"field_name\": \"性别\",\n",
    "                \"field_type\": \"string\",\n",
    "                \"description\": \"公司用户的性别\"\n",
    "            },\n",
    "            \"company_name\": {\n",
    "                \"field_name\": \"所在公司名称\",\n",
    "                \"field_type\": \"string\",\n",
    "                \"description\": \"所在公司名称\"\n",
    "            },\n",
    "            \"mobile\": {\n",
    "                \"field_name\": \"手机号码\",\n",
    "                \"field_type\": \"string\",\n",
    "                \"description\": \"手机号码\"\n",
    "            },\n",
    "            \"workcode\": {\n",
    "                \"field_name\": \"工号\",\n",
    "                \"field_type\": \"string\",\n",
    "                \"description\": \"工号\"\n",
    "            },\n",
    "            \"manager_id\": {\n",
    "                \"field_name\": \"所属上级用户ID\",\n",
    "                \"field_type\": \"string\",\n",
    "                \"description\": \"所属上级用户ID\"\n",
    "            },\n",
    "            \"job_title\": {\n",
    "                \"field_name\": \"所属岗位ID\",\n",
    "                \"field_type\": \"string\",\n",
    "                \"description\": \"所属岗位ID\"\n",
    "            },\n",
    "            \"status\": {\n",
    "                \"field_name\": \"用户状态\",\n",
    "                \"field_type\": \"string\",\n",
    "                \"description\": \"用户状态\",\n",
    "                \"enum_translate\":\"0:在职,1:在职,2:在职,3:在职,4:离职,5:离职,6:离职,7:离职,8:在职,9:在职\"\n",
    "            },\n",
    "            \"department_hierarchy1_name\": {\n",
    "                \"field_name\": \"所属一级部门名称或一级团队名称\",\n",
    "                \"field_type\": \"string\",\n",
    "                \"description\": \"所属一级部门名称或一级团队名称\"\n",
    "            },\n",
    "            \"department_hierarchy1\": {\n",
    "                \"field_name\": \"所属一级部门ID或一级团队ID\",\n",
    "                \"field_type\": \"string\",\n",
    "                \"description\": \"所属一级部门ID或一级团队ID\"\n",
    "            },\n",
    "            \"department_hierarchy2_name\": {\n",
    "                \"field_name\": \"所属二级部门名称或二级团队名称\",\n",
    "                \"field_type\": \"string\",\n",
    "                \"description\": \"所属二级部门名称或二级团队名称\"\n",
    "            },\n",
    "            \"department_hierarchy2\": {\n",
    "                \"field_name\": \"所属二级部门ID或二级团队ID\",\n",
    "                \"field_type\": \"string\",\n",
    "                \"description\": \"所属二级部门ID或二级团队ID\"\n",
    "            },\n",
    "            \"department_hierarchy3_name\": {\n",
    "                \"field_name\": \"所属三级部门名称或三级团队名称\",\n",
    "                \"field_type\": \"string\",\n",
    "                \"description\": \"所属三级部门名称或三级团队名称\"\n",
    "            },\n",
    "            \"department_hierarchy3\": {\n",
    "                \"field_name\": \"所属三级部门ID或三级团队ID\",\n",
    "                \"field_type\": \"string\",\n",
    "                \"description\": \"所属三级部门ID或三级团队ID\"\n",
    "            },\n",
    "            \"department_hierarchy4_name\": {\n",
    "                \"field_name\": \"所属四级部门名称或四级团队名称\",\n",
    "                \"field_type\": \"string\",\n",
    "                \"description\": \"所属四级部门名称或四级团队名称\"\n",
    "            },\n",
    "            \"department_hierarchy4\": {\n",
    "                \"field_name\": \"所属四级部门ID或四级团队ID\",\n",
    "                \"field_type\": \"string\",\n",
    "                \"description\": \"所属四级部门ID或四级团队ID\"\n",
    "            },\n",
    "            \"department_hierarchy5_name\": {\n",
    "                \"field_name\": \"所属五级部门名称或五级团队名称\",\n",
    "                \"field_type\": \"string\",\n",
    "                \"description\": \"所属五级部门名称或五级团队名称\"\n",
    "            },\n",
    "            \"department_hierarchy5\": {\n",
    "                \"field_name\": \"所属五级部门ID或五级团队ID\",\n",
    "                \"field_type\": \"string\",\n",
    "                \"description\": \"所属五级部门ID或五级团队ID\"\n",
    "            },\n",
    "        },\n",
    "        \"format_type\": \"json\"\n",
    "    }\n",
    "\n",
    "json_obj = {'workcode': '70001', 'department_hierarchy1_name': '人力资源部', 'department_hierarchy5_name': None, 'sex': '男', 'mobile': '18163673647', 'department_hierarchy3_name': None, 'department_hierarchy6': None, 'department_hierarchy6_name': None, 'department_hierarchy7': None, 'department_hierarchy4': None, 'department_hierarchy5': None, 'department_hierarchy2': '5281', 'user_id': '4825', 'manager_id': '25', 'department_hierarchy3': None, 'company_name': '深圳市赛维网络科技有限公司', 'department_hierarchy1': '21', 'name': '肖彬', 'department_hierarchy7_name': None, 'department_hierarchy2_name': '长沙人力资源部', 'department_hierarchy4_name': None, 'job_title': '58477', 'email': 'xiaobin@sailvan.com', 'status': '0'}\n",
    "print(json_obj)\n",
    "\n",
    "schema = build_schema()\n",
    "oaDepartmentModel = OADepartmentModel(**schema)\n",
    "data = {\n",
    "    \"json\": json_obj,\n",
    "    \"model\":oaDepartmentModel\n",
    "}\n",
    "\n",
    "app.upsert(data, data_type=\"structure\",metadata={\"app_id\":4})"
   ]
  },
  {
   "cell_type": "code",
   "execution_count": 2,
   "metadata": {},
   "outputs": [
    {
     "name": "stdout",
     "output_type": "stream",
     "text": [
      "主题：df-zd-hr-006长沙鼎飞员工绩效考核管理条例,段落内容：（二）定性考核与定量考核相结合； （三）多角度考核； （四）公平、公正、公开原则。 第六条 考核用途 考核结果的应用主要体现在以下几个方面：绩效考核管理条例 文件编号 DF-ZD-HR-006 文件类型 管理制度 文件密级 内部使用 文件版本 V2.0 发放范围 内部公开 生效日期 2019/8/1 本文件之版权属 长沙鼎飞网络 科技有限公司所有，未经书面批准不得随意复制！ （一） 薪酬分配 ：用于员工月度薪资的发放 ； （二） 职务升降 ：为员工职务升降提供依据 ； （三） 激励依据 ：年度绩效考核结果 将为年终奖发放及年度调薪提供依据 。 第二章 考核程序 第七条 考核对象分类 按照岗位职级分为： 管理层，即副经理级别及以上岗位 （不含副总裁级别及以上 岗位）； 普通员工，副经理（不含）级别以下岗位。 第八条 考核周期 根据考核对象的不同，考核周期分为月度考核、季度考核、年度考核与项目周期型考核。 （一）月度考核于每月 1-15日内完成上月考核，其考核指标主要来源于岗位职责、分解到岗位的月 度目标要求； （二）季度考核于每季度 的首月25日内完成上季度考核，考核指标主要来源于岗位职责、分解到岗 位的季度目标要求； （三）年度考核于每年元月 25日前完成上年度考核，考核指标主要来源于年度战略规划； （四）项目周期型考核以项目节点为周期，于下节点开始的 1-5日内完成上节点考核，考核指标主要 来源于项目阶段性目标要求。 第九条 考核的一般过程分为：实施考核、 员工自我评定、 考核结果的分析和评定、结果反馈与实 施纠正、结果运用。 第十条 绩效考核实施流程 （一）公司全员开展各岗位工作分析； （二）人力资源部、各部门负责人从各岗位工作分析、战略规划等指标来源中提取绩效考核指标与行 为考核指标，形成考核指标库； （三）从考核指标库中选取下一考核周期的关键绩效指标，并对指标进行量化、赋予各项权重； （四）进入考核周期，由考核者记录被考核者关键指标数据，作为考核评分依 据；对考核期内的员工绩效考核管理条例 文件编号 DF-ZD-HR-006 文件类型 管理制度 文件密级 内部使用 文件版本 V2.0 发放范围 内部公开 生效日期 2019/8/1 本文件之版权属 长沙鼎飞网络 科技有限公司所有，未经书面批准不得随意复制！\n",
      "主题：sd-zd-hr-007考勤管理制度,段落内容：经理、经理级免打卡规定。 3、删除手工考勤管理 4、工作管理,请假销假及缺勤管理部分内容修改寻佑兰 2018/7/31 V10.01、工作时间修改为双休 2、考勤管理中旷工修改 3、请假审批权限修改，考勤异常处理。 4、更新制度适用范围胡玉兰 2021/11/16 V11.01、增加旷工情形 寻佑兰 2023/05/10 赛维时代科技股份有限公司 人力资源部文件名称考勤管理制度文件编号SD-ZD-HR-007发放范围内部公开 文件版本 V10.0文件密级内部使用 文件类型管理制度生效日期2021/12/01页码 3/10 第一章工作管理 一、工作时间 （一）公司实行双休工作制； （二）工作时间段如下： 上班制度（双休） 上班时间下班时间 休息时间 每天 5天班（双休）周一至周五 9:0018:0012:00-13:307.5H 二、弹性上下班打卡管理 最晚下班打卡 时间（A）21:00<A≤ 22：0022:00<A ≤23：0023:00<A≤ 24：0024:00<A≤ 02：0002:00<A≤ 04：0004:00<A≤ 06：00 弹性上班打卡时间 第二天9:30○ 第二天10:00 ○ 第二天11:00 ○ 第二天13:30 ○ 当天下午14:00 ○ 当天下午15:00 ○ 说明： 1、当天最晚下班打卡时间仅适用于第二天的弹性上班打卡。下班时间超过24:00的人员只需要在 下班时打一次卡。例如，周二上班人员下班打卡时间为周三04:00，则周三上班最晚打卡时间为 14:00；周二上班人员的下班打卡时间为21:10，则周三上班最晚打卡时间为9:30；(享受上午弹 性打卡最晚时间不能超过12点)上周最后一个工作日的最晚下班打卡时间仅适用于下周第一 个工作日弹性上班打卡。第二天上午请假，漏刷卡均不享受弹性。 2、公司正门门禁24H可以刷指纹进入，22：00以后打卡下班，可以报销打车回家费用。 3、此弹性上班打卡时间仅适用于康利城办公点。文件名称考勤管理制度文件编号SD-ZD-HR-007发放范围内部公开 文件版本 V10.0文件密级内部使用 文件类型管理制度生效日期2021/12/01页码 4/10 三、考勤管理 （一）公司执行上、下班打卡制度 每日打卡两次，即早上上班打卡一次，下午下班打卡一次。在工作时间如有外出公干或请假，\n",
      "主题：sd-zd-hr-007考勤管理制度,段落内容：文件名称考勤管理制度文件编号SD-ZD-HR-007发放范围内部公开 文件版本 V10.0文件密级内部使用 文件类型管理制度生效日期2021/12/01页码 1/10 文件批准记录 部门 姓名 签名 日期 拟制 人力资源部 寻佑兰 会审 薪酬福利科 袁蓓 会审 行政部 刘甫 会审 重庆人力资源部 李学刚 会审 长沙人力资源部 肖彬 会审 财务中心 林文佳 会审 运德供应链 帅勇 会审 独立商城部 冯笑 会审 时尚项目部 童文平 会审 服装供应链 陈前 会审 IT中心 肖金华 会审 智造ERP部 周聪 会审 总裁办公室 陈晓兰 会审 事业一部 李美琴 会审 事业二部 王绪成 会审 事业三部 孙华军 会审 事业四部 方佳乐 会审 事业五部 陈燕云 标准化 人力资源部 寻佑兰 批准 人力资源部 艾帆 批准 总裁办 陈文平文件名称考勤管理制度文件编号SD-ZD-HR-007发放范围内部公开 文件版本 V10.0文件密级内部使用 文件类型管理制度生效日期2021/12/01页码 2/10 文件修订记录 版本号 修改内容及理由 修订审批人 生效日期 V1.0 新制定文件 V2.01、婚假、产假、生理假等更新 2、公假岗位确定 3、带工作事假/年休假岗位确定 4、迟到早退扣款规定更新寻佑兰 2016/6/1 V3.01、生理假、公假、带工作年假、年休假等更新 2、公假岗位调整 3、增加《考勤操作行为规范》寻佑兰 2016/8/31 V4.0公假岗位、产假更新 寻佑兰 2016/10/12 V5.01、更新适用范围、公司名称 2、带工作年假加上采购跟单岗位寻佑兰 2016/10/21 V6.01、更新带工作事假、带工作年假岗位 寻佑兰 2017/2/24 V7.01、增加补卡制度2、更新请假规定3、更新缺勤 规定 2、根据最新的岗位梳理更新带工作事假、带工作 年假部门岗位寻佑兰 2017/9/23 V8.01、更改工作时间为大小周制 2、取消销售中心跟单岗位公假配置 3、取消销售中心跟单,销售组长,供应链采购员、 采购组长,带工作事假,带工作年假配置 4、更新制度适用范围寻佑兰 2018/5/31 V9.01、增加弹性上下班打卡管理 2、取消考勤制度迟到早退90分钟规定，取消副 经理、经理级免打卡规定。 3、删除手工考勤管理 4、工作管理,请假销假及缺勤管理部分内容修改寻佑兰\n",
      "主题：sd-zd-hr-007考勤管理制度,段落内容：5、公司依法依规、依据双方约定或公司合理要求调整员工岗位，而员工未按照公司的调岗要求报 到上岗的； 6、同一天未打上下班卡且未按照规定提交请假流程计算旷工（7.5H）。 （六）迟到与早退、旷工扣款 1、迟到或早退在1-10分钟的：单次扣款20元； 2、迟到或早退在11-20分钟的：单次扣款50元； 3、迟到或早退在21-30分钟的：单次扣款80元。 4、旷工按照旷工时数的3倍扣款 （七）考勤异常处理 1、当月考勤当月处理完毕，考勤异常处理不超过次月第（1）个工作日。逾期未处理的均按照原始 的考勤状态计入考勤表提交至薪酬科。例如：考勤显示有3次忘打卡，若员工未在下月的第（1） 个工作日内处理完异常，则按照3次忘打卡提交至薪酬科。 2、系统故障导致打卡无效，请及时到部门助理登记，考勤人员核实后由考勤人员手工补卡。 第二章假期管理 四、国家法定假日 （一）根据《中华人民共和国劳动法》规定，员工可享受以下有薪节假日： 元旦：休假1天（每年1月1日） 春节：休假3天（农历正月初一、初二、初三） 清明节，放假1天（农历清明当日） 劳动节：休假1天（5月1日） 端午节：休假1天（农历五月初五） 国庆节：休假3天（10月1日、10月2日、10月3日） 中秋节：休假1天（农历八月十五）文件名称考勤管理制度文件编号SD-ZD-HR-007发放范围内部公开 文件版本 V10.0文件密级内部使用 文件类型管理制度生效日期2021/12/01页码 6/10 （二）各假期管理规定 假别 适用情形 休假天数薪酬 支付备注 工伤假A：因公负伤医疗期 B：依指定医院医嘱— 有薪依国家及地方政府相关规定执行 医疗期因患病或非因公负伤停止工 作 治病休息— 有薪依国家及地方政府相关规定执行 （按当地最低工资标准的80%付薪） 病假因身体欠佳需治疗、休养 30天/年 70%A：病假需提供公立医院病历证明 B：因病需长期治疗、休养者依公司医疗期 相关规定执行 C：以小时为请假单位 生理假女员工因生理原因，需休养 1天/月 70%A：按病假计薪 B：两次假期期间需间隔一个生理周期 C：每月一次，以天为计算单位 事假处理私人事务 20天/年 无薪A：需提前请假经领导审批批准后方可离岗 B：以10分钟为请假单位 婚假结婚登记12个月内 3天 全薪A：须提供结婚证原件（复印件存档）\n",
      "主题：qs-zd-hr-002泉州考勤管理制度,段落内容：V9.0 1 、 增加弹性上下班打卡管理 2 、 取消考勤制度迟到早退 90 分钟规定 ， 取消副 经理 、 经理级免打卡规定 。 3 、 删除手工考勤管理 4 、 工作管理 , 请假销假及缺勤管理部分内容修改 寻佑兰 2018/7/31 V10.0 1 、 工作时间修改为双休 2 、 考勤管理中旷工修改 3 、 请假审批权限修改 ， 考勤异常处理 。 4 、 更新制度适用范围 胡玉兰 2021/11/16 V11.0 1 、 增加旷工情形 寻佑兰 2023/05/10 泉州赛维网络科技有限公司 人力资源部版权所有 · 严禁复制 泉州赛维网络科技有限公司 泉州赛维网络科 技有限公司 文件名称 泉州考勤管理 制度 文件编号 QS - ZD - HR - 002 发放范围 内部公开 文件版本 V11.0 文件密级 内部使用 文件类型 管理制度 生效日期 2021/12/01 页码 3 /10 第一章工作管理 一 、 工作时间 （ 一 ） 公司实行 双休 工作制 ； （ 二 ） 工作时间段如下 ： 上班制度 （ 双休 ） 上班时间 下班时间 休息时间 每天 5 天班 （ 双休 ） 周一至周五 9:00 18: 0 0 12:00 - 13:30 7.5 H 二 、 弹性上下班打卡管理 最晚下班打卡 时间 （ A ） 21:00<A ≤ 22 ： 00 22:00<A ≤ 23 ： 00 23:00<A ≤ 24 ： 00 24:00<A ≤ 02 ： 00 02:00<A ≤ 04 ： 00 04:00<A ≤ 06 ： 00 弹性上班打卡时间 第二天 9:30 ○ 第二天 10:00 ○ 第二天 11:00 ○ 第二天 13:30 ○ 当天下午 14:00 ○ 当天下午 15:00 ○ 说明 ： 1 、 当天最晚下班打卡时间仅适用于第二天的弹性上班打卡 。 下班时间超过 24:00 的人员只 需要在 下班时打一次卡 。 例如 ， 周二上班人员下班打卡时间为周三 04:00 ， 则周三上班最晚打 卡时间为 14:00 ； 周二上班人员的下班打卡时间为 21:10 ， 则周三上班最晚打卡时间为 9:30 ； ( 享受上午弹 性打卡最晚时间不能超过 12 点 ) 上周最后一个工作日的最晚下班打卡时间仅适用于下周第一 个工作日弹性上班打卡 。 第二天上午请假 ，\n"
     ]
    }
   ],
   "source": [
    "# Adds `(1, 'What is your net worth, Elon Musk?', \"As of October 2023, Elon Musk's net worth is $255.2 billion.\")`\n",
    "\n",
    "# questions = [\n",
    "#     #  \"陈文辉的工号和邮箱是多少？\",\n",
    "#     #  \"Elon Musk主要做什么工作？\",\n",
    "#     #  \"赛维时代的使命是什么？\",\n",
    "#      \"trendee支持AI设计Copilot吗？\",\n",
    "#      \"北京奥运会的举办时间是什么时候？\",\n",
    "# ]\n",
    "# for question in questions:\n",
    "#     response = app.query(question, dry_run=True)\n",
    "#     print(\"Q:\", question)\n",
    "#     print(\"A:\", response)\n",
    "\n",
    "# for v in a:\n",
    "#     print(v)\n",
    "\n",
    "# b = app.query(input_query=\"Trendee 是⼀款领先的时尚智能科技平台,请展开描述\")\n",
    "# print(b)\n",
    "# Answer: As of October 2023, Elon Musk's net worth is $255.2 billion.\n",
    "# import openpyxl\n",
    "\n",
    "# # 指定Excel文件路径\n",
    "# excel_file_path = 'path/to/your/file.xls'\n",
    "\n",
    "# # 读取Excel文件中的所有表格框\n",
    "# xl = pd.ExcelFile(excel_file_path)\n",
    "# sheet_name = 'Sheet1'  # 替换为实际的工作表名称\n",
    "\n",
    "# # 获取指定工作表中所有表格框的内容\n",
    "# dfs = pd.read_excel(xl, sheet_name, header=None, sheet_name=None)\n",
    "\n",
    "# # 打印每个表格框的内容\n",
    "# for table_name, df in dfs.items():\n",
    "#     print(f\"Table Name: {table_name}\")\n",
    "#     print(df)\n",
    "#     print(\"\\n\")\n",
    "\n",
    "a = app.multi_field_match_query(input_query=\"根据007考勤管理制度，总结下考勤要点\",and_conditions={'metadata.app_id':2,'metadata.knowledge_id':64})\n",
    "for i in a:\n",
    "    print(i)"
   ]
  },
  {
   "cell_type": "code",
   "execution_count": 3,
   "metadata": {},
   "outputs": [
    {
     "name": "stdout",
     "output_type": "stream",
     "text": [
      "主题：组织架构基础信息,段落内容：二级团队名称为销售133部广告1组,二级团队ID为13142,删除状态为已删除\n",
      "主题：组织架构基础信息,段落内容：一级团队名称为厦门销售101部1组,一级团队ID为11161,删除状态为已删除\n",
      "主题：用户基础信息,段落内容：当前用户姓名为申诗,邮箱为shenshi@sailvan.com,性别为女,所在公司为深圳市赛维网络科技有限公司,工号为11113,用户状态为离职,所属一级团队名称为时尚项目部,所属一级团队ID为7721,所属二级团队名称为时尚项目一部,所属二级团队ID为8941,所属三级团队名称为时尚项目一部推广部,所属三级团队ID为8742,所属四级团队名称为时尚项目一部综合广告组,所属四级团队ID为15401,所属五级团队名称为None,所属五级团队ID为None\n",
      "主题：组织架构基础信息,段落内容：四级团队名称为重庆销售101部1组,四级团队ID为16840,删除状态为未删除\n",
      "主题：组织架构基础信息,段落内容：四级团队名称为销售101部1组,四级团队ID为16441,删除状态为未删除\n"
     ]
    }
   ],
   "source": [
    "# multi_field_match_querya = app.query(input_query=\"离职流程要怎么走\")\n",
    "# print(multi_field_match_querya)\n",
    "# for v in a:\n",
    "#     print(v)\n",
    "# print(a)\n",
    "a = app.multi_field_match_query(input_query=\"本月101部门1组的广告花费占比是多少？\",and_conditions={'metadata.app_id':1})\n",
    "for i in a:\n",
    "    print(i)"
   ]
  },
  {
   "cell_type": "code",
   "execution_count": 6,
   "metadata": {},
   "outputs": [
    {
     "name": "stdout",
     "output_type": "stream",
     "text": [
      "主题：用户基础信息,段落内容：当前用户姓名为许思晓,邮箱为xusixiao@sailvan.com,性别为女,所在公司为深圳市赛维网络科技有限公司,工号为04871,用户状态为在职,所属一级团队名称为服装BU,所属一级团队ID为16081,所属二级团队名称为销售中心7部,所属二级团队ID为16134,所属三级团队名称为None,所属三级团队ID为None,所属四级团队名称为None,所属四级团队ID为None,所属五级团队名称为None,所属五级团队ID为None\n",
      "主题：用户基础信息,段落内容：当前用户姓名为吴晓思,邮箱为wuxiaosi@sailvan.com,性别为女,所在公司为深圳市赛维网络科技有限公司,工号为10375,用户状态为离职,所属一级团队名称为包装优化组,所属一级团队ID为10621,所属二级团队名称为None,所属二级团队ID为None,所属三级团队名称为None,所属三级团队ID为None,所属四级团队名称为None,所属四级团队ID为None,所属五级团队名称为None,所属五级团队ID为None\n",
      "主题：用户基础信息,段落内容：当前用户姓名为许晓旸,邮箱为xuxiaoyang@sailvan.com,性别为女,所在公司为深圳市赛维网络科技有限公司,工号为10793,用户状态为离职,所属一级团队名称为财务中心,所属一级团队ID为22,所属二级团队名称为预算分析部,所属二级团队ID为5562,所属三级团队名称为None,所属三级团队ID为None,所属四级团队名称为None,所属四级团队ID为None,所属五级团队名称为None,所属五级团队ID为None\n",
      "主题：用户基础信息,段落内容：当前用户姓名为张思思C,邮箱为zhangsisiC@sailvan.com,性别为女,所在公司为深圳市赛维网络科技有限公司,工号为06282,用户状态为在职,所属一级团队名称为服装BU,所属一级团队ID为16081,所属二级团队名称为销售中心7部,所属二级团队ID为16134,所属三级团队名称为销售194部,所属三级团队ID为16203,所属四级团队名称为销售194部2组,所属四级团队ID为16582,所属五级团队名称为None,所属五级团队ID为None\n",
      "主题：用户基础信息,段落内容：当前用户姓名为黄思品,邮箱为huangsipin@sailvan.com,性别为男,所在公司为深圳市赛维网络科技有限公司,工号为07036,用户状态为在职,所属一级团队名称为销售中心13部,所属一级团队ID为16102,所属二级团队名称为销售148部,所属二级团队ID为9006192,所属三级团队名称为None,所属三级团队ID为None,所属四级团队名称为None,所属四级团队ID为None,所属五级团队名称为None,所属五级团队ID为None\n"
     ]
    }
   ],
   "source": [
    "b = app.multi_field_match_query(input_query=\"许思晓\",and_conditions={'metadata.app_id':1})\n",
    "for j in b:\n",
    "    print(j)"
   ]
  },
  {
   "cell_type": "code",
   "execution_count": 4,
   "metadata": {},
   "outputs": [
    {
     "name": "stderr",
     "output_type": "stream",
     "text": [
      "e:\\embedchain\\.venv\\Lib\\site-packages\\langchain\\chat_models\\azure_openai.py:162: UserWarning: As of openai>=1.0.0, if `deployment_name` (or alias `azure_deployment`) is specified then `openai_api_base` (or alias `base_url`) should not be. Instead use `deployment_name` (or alias `azure_deployment`) and `azure_endpoint`.\n",
      "  warnings.warn(\n",
      "e:\\embedchain\\.venv\\Lib\\site-packages\\langchain\\chat_models\\azure_openai.py:170: UserWarning: As of openai>=1.0.0, if `openai_api_base` (or alias `base_url`) is specified it is expected to be of the form https://example-resource.azure.openai.com/openai/deployments/example-deployment. Updating https://openai-sailvan-eastus2-proxy.valsun.cn/openai to https://openai-sailvan-eastus2-proxy.valsun.cn/openai.\n",
      "  warnings.warn(\n"
     ]
    },
    {
     "name": "stdout",
     "output_type": "stream",
     "text": [
      "根据提供的信息，没有具体的停薪留职流程的描述。因此，我无法提供一个基于上述文本的停薪留职的总结。如果需要了解一般的停薪留职流程，请提供相关的详细信息或者参考公司的人力资源管理制度。如果没有这些信息，我无法给出确切的答案。\n"
     ]
    }
   ],
   "source": [
    "a= app.query(\"总结下停薪留职的流程\")\n",
    "print(a)"
   ]
  }
 ],
 "metadata": {
  "kernelspec": {
   "display_name": ".venv",
   "language": "python",
   "name": "python3"
  },
  "language_info": {
   "codemirror_mode": {
    "name": "ipython",
    "version": 3
   },
   "file_extension": ".py",
   "mimetype": "text/x-python",
   "name": "python",
   "nbconvert_exporter": "python",
   "pygments_lexer": "ipython3",
   "version": "3.11.5"
  }
 },
 "nbformat": 4,
 "nbformat_minor": 2
}
